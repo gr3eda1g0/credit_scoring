{
 "cells": [
  {
   "cell_type": "code",
   "execution_count": 1,
   "id": "622a30f8-bee5-486d-92a0-665cdadce880",
   "metadata": {},
   "outputs": [],
   "source": [
    "import warnings\n",
    "warnings.filterwarnings('ignore')\n",
    "\n",
    "import numpy as np\n",
    "import pandas as pd\n",
    "import time"
   ]
  },
  {
   "cell_type": "markdown",
   "id": "b086dbc9-274e-4b2b-b3ba-33b12adcce09",
   "metadata": {},
   "source": [
    "**Загрузка данных**"
   ]
  },
  {
   "cell_type": "code",
   "execution_count": 2,
   "id": "78fdbe48-a2ec-403e-83fe-20a7b169a1a5",
   "metadata": {},
   "outputs": [],
   "source": [
    "df_train = pd.read_csv('train.csv')"
   ]
  },
  {
   "cell_type": "code",
   "execution_count": 3,
   "id": "f710a7b1-0b01-40b9-84bb-c6fd93c7987b",
   "metadata": {},
   "outputs": [],
   "source": [
    "df_test = pd.read_csv('test.csv')"
   ]
  },
  {
   "cell_type": "code",
   "execution_count": 4,
   "id": "307989fc-6a7e-4a6e-b463-cca35f844a65",
   "metadata": {},
   "outputs": [
    {
     "data": {
      "text/html": [
       "<div>\n",
       "<style scoped>\n",
       "    .dataframe tbody tr th:only-of-type {\n",
       "        vertical-align: middle;\n",
       "    }\n",
       "\n",
       "    .dataframe tbody tr th {\n",
       "        vertical-align: top;\n",
       "    }\n",
       "\n",
       "    .dataframe thead th {\n",
       "        text-align: right;\n",
       "    }\n",
       "</style>\n",
       "<table border=\"1\" class=\"dataframe\">\n",
       "  <thead>\n",
       "    <tr style=\"text-align: right;\">\n",
       "      <th></th>\n",
       "      <th>Deal_id</th>\n",
       "      <th>Deal_date</th>\n",
       "      <th>First_deal_date</th>\n",
       "      <th>Secret_user_info_1</th>\n",
       "      <th>Secret_user_info_2</th>\n",
       "      <th>Secret_user_info_3</th>\n",
       "      <th>First_default_date</th>\n",
       "      <th>Successful_deals_count</th>\n",
       "      <th>Region</th>\n",
       "      <th>Shop</th>\n",
       "      <th>Hashed_deal_detail_1</th>\n",
       "      <th>Hashed_deal_detail_2</th>\n",
       "      <th>Hashed_deal_detail_3</th>\n",
       "      <th>Hashed_deal_detail_4</th>\n",
       "      <th>Hashed_deal_detail_5</th>\n",
       "      <th>Hashed_deal_detail_6</th>\n",
       "      <th>Age</th>\n",
       "      <th>Gender</th>\n",
       "      <th>Default</th>\n",
       "    </tr>\n",
       "  </thead>\n",
       "  <tbody>\n",
       "    <tr>\n",
       "      <th>0</th>\n",
       "      <td>22487461</td>\n",
       "      <td>2015-11-05</td>\n",
       "      <td>2015-08-29</td>\n",
       "      <td>NaN</td>\n",
       "      <td>NaN</td>\n",
       "      <td>NaN</td>\n",
       "      <td>NaN</td>\n",
       "      <td>0.0</td>\n",
       "      <td>Shop_district_3</td>\n",
       "      <td>7</td>\n",
       "      <td>2.5</td>\n",
       "      <td>-3</td>\n",
       "      <td>8</td>\n",
       "      <td>2.5</td>\n",
       "      <td>-3</td>\n",
       "      <td>5</td>\n",
       "      <td>36.0</td>\n",
       "      <td>Male</td>\n",
       "      <td>0</td>\n",
       "    </tr>\n",
       "    <tr>\n",
       "      <th>1</th>\n",
       "      <td>62494261</td>\n",
       "      <td>2016-08-26</td>\n",
       "      <td>2015-12-21</td>\n",
       "      <td>3.5</td>\n",
       "      <td>-2.0</td>\n",
       "      <td>5.0</td>\n",
       "      <td>2016-07-30</td>\n",
       "      <td>2.0</td>\n",
       "      <td>Shop_district_4</td>\n",
       "      <td>7</td>\n",
       "      <td>2.5</td>\n",
       "      <td>-3</td>\n",
       "      <td>14</td>\n",
       "      <td>3.5</td>\n",
       "      <td>-3</td>\n",
       "      <td>5</td>\n",
       "      <td>29.0</td>\n",
       "      <td>Female</td>\n",
       "      <td>1</td>\n",
       "    </tr>\n",
       "  </tbody>\n",
       "</table>\n",
       "</div>"
      ],
      "text/plain": [
       "    Deal_id   Deal_date First_deal_date  Secret_user_info_1  \\\n",
       "0  22487461  2015-11-05      2015-08-29                 NaN   \n",
       "1  62494261  2016-08-26      2015-12-21                 3.5   \n",
       "\n",
       "   Secret_user_info_2  Secret_user_info_3 First_default_date  \\\n",
       "0                 NaN                 NaN                NaN   \n",
       "1                -2.0                 5.0         2016-07-30   \n",
       "\n",
       "   Successful_deals_count           Region  Shop  Hashed_deal_detail_1  \\\n",
       "0                     0.0  Shop_district_3     7                   2.5   \n",
       "1                     2.0  Shop_district_4     7                   2.5   \n",
       "\n",
       "   Hashed_deal_detail_2  Hashed_deal_detail_3  Hashed_deal_detail_4  \\\n",
       "0                    -3                     8                   2.5   \n",
       "1                    -3                    14                   3.5   \n",
       "\n",
       "   Hashed_deal_detail_5  Hashed_deal_detail_6   Age  Gender  Default  \n",
       "0                    -3                     5  36.0    Male        0  \n",
       "1                    -3                     5  29.0  Female        1  "
      ]
     },
     "execution_count": 4,
     "metadata": {},
     "output_type": "execute_result"
    }
   ],
   "source": [
    "df_train.head(2)"
   ]
  },
  {
   "cell_type": "code",
   "execution_count": 5,
   "id": "79039459-09dc-4f2e-8e80-3661b519394d",
   "metadata": {},
   "outputs": [
    {
     "data": {
      "text/plain": [
       "(3168, 19)"
      ]
     },
     "execution_count": 5,
     "metadata": {},
     "output_type": "execute_result"
    }
   ],
   "source": [
    "df_train.shape"
   ]
  },
  {
   "cell_type": "code",
   "execution_count": 6,
   "id": "8bc425fe-8a61-4fa5-a3a4-d56a292395db",
   "metadata": {
    "tags": []
   },
   "outputs": [
    {
     "data": {
      "text/html": [
       "<div>\n",
       "<style scoped>\n",
       "    .dataframe tbody tr th:only-of-type {\n",
       "        vertical-align: middle;\n",
       "    }\n",
       "\n",
       "    .dataframe tbody tr th {\n",
       "        vertical-align: top;\n",
       "    }\n",
       "\n",
       "    .dataframe thead th {\n",
       "        text-align: right;\n",
       "    }\n",
       "</style>\n",
       "<table border=\"1\" class=\"dataframe\">\n",
       "  <thead>\n",
       "    <tr style=\"text-align: right;\">\n",
       "      <th></th>\n",
       "      <th>Deal_id</th>\n",
       "      <th>Deal_date</th>\n",
       "      <th>First_deal_date</th>\n",
       "      <th>Secret_user_info_1</th>\n",
       "      <th>Secret_user_info_2</th>\n",
       "      <th>Secret_user_info_3</th>\n",
       "      <th>First_default_date</th>\n",
       "      <th>Successful_deals_count</th>\n",
       "      <th>Region</th>\n",
       "      <th>Shop</th>\n",
       "      <th>Hashed_deal_detail_1</th>\n",
       "      <th>Hashed_deal_detail_2</th>\n",
       "      <th>Hashed_deal_detail_3</th>\n",
       "      <th>Hashed_deal_detail_4</th>\n",
       "      <th>Hashed_deal_detail_5</th>\n",
       "      <th>Hashed_deal_detail_6</th>\n",
       "      <th>Age</th>\n",
       "      <th>Gender</th>\n",
       "    </tr>\n",
       "  </thead>\n",
       "  <tbody>\n",
       "    <tr>\n",
       "      <th>0</th>\n",
       "      <td>72875713</td>\n",
       "      <td>2016-10-14</td>\n",
       "      <td>2015-09-20</td>\n",
       "      <td>NaN</td>\n",
       "      <td>NaN</td>\n",
       "      <td>NaN</td>\n",
       "      <td>NaN</td>\n",
       "      <td>0.0</td>\n",
       "      <td>Shop_district_2</td>\n",
       "      <td>7</td>\n",
       "      <td>2.5</td>\n",
       "      <td>-3</td>\n",
       "      <td>18</td>\n",
       "      <td>2.5</td>\n",
       "      <td>-3</td>\n",
       "      <td>5</td>\n",
       "      <td>40.0</td>\n",
       "      <td>Female</td>\n",
       "    </tr>\n",
       "    <tr>\n",
       "      <th>1</th>\n",
       "      <td>75825544</td>\n",
       "      <td>2016-10-23</td>\n",
       "      <td>2015-06-16</td>\n",
       "      <td>NaN</td>\n",
       "      <td>NaN</td>\n",
       "      <td>NaN</td>\n",
       "      <td>NaN</td>\n",
       "      <td>6.0</td>\n",
       "      <td>Shop_district_3</td>\n",
       "      <td>18</td>\n",
       "      <td>2.5</td>\n",
       "      <td>-2</td>\n",
       "      <td>15</td>\n",
       "      <td>3.5</td>\n",
       "      <td>-3</td>\n",
       "      <td>5</td>\n",
       "      <td>66.0</td>\n",
       "      <td>Female</td>\n",
       "    </tr>\n",
       "  </tbody>\n",
       "</table>\n",
       "</div>"
      ],
      "text/plain": [
       "    Deal_id   Deal_date First_deal_date  Secret_user_info_1  \\\n",
       "0  72875713  2016-10-14      2015-09-20                 NaN   \n",
       "1  75825544  2016-10-23      2015-06-16                 NaN   \n",
       "\n",
       "   Secret_user_info_2  Secret_user_info_3 First_default_date  \\\n",
       "0                 NaN                 NaN                NaN   \n",
       "1                 NaN                 NaN                NaN   \n",
       "\n",
       "   Successful_deals_count           Region  Shop  Hashed_deal_detail_1  \\\n",
       "0                     0.0  Shop_district_2     7                   2.5   \n",
       "1                     6.0  Shop_district_3    18                   2.5   \n",
       "\n",
       "   Hashed_deal_detail_2  Hashed_deal_detail_3  Hashed_deal_detail_4  \\\n",
       "0                    -3                    18                   2.5   \n",
       "1                    -2                    15                   3.5   \n",
       "\n",
       "   Hashed_deal_detail_5  Hashed_deal_detail_6   Age  Gender  \n",
       "0                    -3                     5  40.0  Female  \n",
       "1                    -3                     5  66.0  Female  "
      ]
     },
     "execution_count": 6,
     "metadata": {},
     "output_type": "execute_result"
    }
   ],
   "source": [
    "df_test.head(2)"
   ]
  },
  {
   "cell_type": "markdown",
   "id": "e98ec443-dda2-43e6-a7ad-24b631584104",
   "metadata": {},
   "source": [
    "### Подготовка данных ###"
   ]
  },
  {
   "cell_type": "code",
   "execution_count": 7,
   "id": "b592e67f-3a85-4c16-a945-aaf47999b186",
   "metadata": {},
   "outputs": [
    {
     "name": "stdout",
     "output_type": "stream",
     "text": [
      "<class 'pandas.core.frame.DataFrame'>\n",
      "RangeIndex: 3168 entries, 0 to 3167\n",
      "Data columns (total 19 columns):\n",
      " #   Column                  Non-Null Count  Dtype  \n",
      "---  ------                  --------------  -----  \n",
      " 0   Deal_id                 3168 non-null   int64  \n",
      " 1   Deal_date               3168 non-null   object \n",
      " 2   First_deal_date         3168 non-null   object \n",
      " 3   Secret_user_info_1      535 non-null    float64\n",
      " 4   Secret_user_info_2      535 non-null    float64\n",
      " 5   Secret_user_info_3      535 non-null    float64\n",
      " 6   First_default_date      535 non-null    object \n",
      " 7   Successful_deals_count  3154 non-null   float64\n",
      " 8   Region                  3161 non-null   object \n",
      " 9   Shop                    3168 non-null   int64  \n",
      " 10  Hashed_deal_detail_1    3168 non-null   float64\n",
      " 11  Hashed_deal_detail_2    3168 non-null   int64  \n",
      " 12  Hashed_deal_detail_3    3168 non-null   int64  \n",
      " 13  Hashed_deal_detail_4    3168 non-null   float64\n",
      " 14  Hashed_deal_detail_5    3168 non-null   int64  \n",
      " 15  Hashed_deal_detail_6    3168 non-null   int64  \n",
      " 16  Age                     3168 non-null   float64\n",
      " 17  Gender                  3168 non-null   object \n",
      " 18  Default                 3168 non-null   int64  \n",
      "dtypes: float64(7), int64(7), object(5)\n",
      "memory usage: 470.4+ KB\n"
     ]
    }
   ],
   "source": [
    "df_train.info()"
   ]
  },
  {
   "cell_type": "code",
   "execution_count": 8,
   "id": "f9ac2e50-1787-43da-b505-797f3379bc94",
   "metadata": {},
   "outputs": [
    {
     "data": {
      "text/plain": [
       "str"
      ]
     },
     "execution_count": 8,
     "metadata": {},
     "output_type": "execute_result"
    }
   ],
   "source": [
    "type(df_train.Deal_date[0])"
   ]
  },
  {
   "cell_type": "markdown",
   "id": "6fefd09f-ccdb-471c-9b84-f4db64b320a1",
   "metadata": {},
   "source": [
    "В колонках Deal_date, First_deal_date и First_default_date даты указаны строками.  \n",
    "Заменим тип на datetime."
   ]
  },
  {
   "cell_type": "code",
   "execution_count": 9,
   "id": "e12f6114-6a54-40f6-9e85-29cd3c8c8b34",
   "metadata": {},
   "outputs": [
    {
     "data": {
      "text/plain": [
       "0   2015-11-05\n",
       "1   2016-08-26\n",
       "Name: Deal_date, dtype: datetime64[ns]"
      ]
     },
     "execution_count": 9,
     "metadata": {},
     "output_type": "execute_result"
    }
   ],
   "source": [
    "str_to_date_cols = ['Deal_date', 'First_deal_date', 'First_default_date']\n",
    "for col in str_to_date_cols:\n",
    "    df_train[col] = pd.to_datetime(df_train[col], format='%Y-%m-%d')\n",
    "    df_test[col] = pd.to_datetime(df_test[col], format='%Y-%m-%d')\n",
    "df_train.Deal_date.head(2)"
   ]
  },
  {
   "cell_type": "markdown",
   "id": "15d7fa2d-2e7d-4c96-a185-d4b34e61f784",
   "metadata": {},
   "source": [
    "Посмотрим количество уникальных значений в колонках."
   ]
  },
  {
   "cell_type": "code",
   "execution_count": 10,
   "id": "4103de3a-acc9-47df-8eb6-fb847a73554d",
   "metadata": {},
   "outputs": [
    {
     "data": {
      "text/plain": [
       "Deal_id                   3168\n",
       "Deal_date                  486\n",
       "First_deal_date            545\n",
       "Secret_user_info_1           8\n",
       "Secret_user_info_2           6\n",
       "Secret_user_info_3           4\n",
       "First_default_date          68\n",
       "Successful_deals_count      14\n",
       "Region                       8\n",
       "Shop                        19\n",
       "Hashed_deal_detail_1         7\n",
       "Hashed_deal_detail_2        23\n",
       "Hashed_deal_detail_3        23\n",
       "Hashed_deal_detail_4        21\n",
       "Hashed_deal_detail_5         7\n",
       "Hashed_deal_detail_6         1\n",
       "Age                         50\n",
       "Gender                       2\n",
       "Default                      2\n",
       "dtype: int64"
      ]
     },
     "execution_count": 10,
     "metadata": {},
     "output_type": "execute_result"
    }
   ],
   "source": [
    "df_train.nunique()"
   ]
  },
  {
   "cell_type": "code",
   "execution_count": 11,
   "id": "0751209f-9d65-4fcd-9dd6-44da79146e6b",
   "metadata": {},
   "outputs": [
    {
     "data": {
      "text/plain": [
       "Deal_id                   989\n",
       "Deal_date                  96\n",
       "First_deal_date           452\n",
       "Secret_user_info_1          6\n",
       "Secret_user_info_2          6\n",
       "Secret_user_info_3          3\n",
       "First_default_date         55\n",
       "Successful_deals_count     19\n",
       "Region                      8\n",
       "Shop                       19\n",
       "Hashed_deal_detail_1        5\n",
       "Hashed_deal_detail_2       23\n",
       "Hashed_deal_detail_3       25\n",
       "Hashed_deal_detail_4       21\n",
       "Hashed_deal_detail_5        5\n",
       "Hashed_deal_detail_6        1\n",
       "Age                        49\n",
       "Gender                      2\n",
       "dtype: int64"
      ]
     },
     "execution_count": 11,
     "metadata": {},
     "output_type": "execute_result"
    }
   ],
   "source": [
    "df_test.nunique()"
   ]
  },
  {
   "cell_type": "markdown",
   "id": "307880f9-8191-4873-a852-9256c5acbc25",
   "metadata": {},
   "source": [
    "Колонка Hashed_deal_detail_6 принимает только 1 значение. Можем удалить, т.к. она не может выражать к.-л. зависимость."
   ]
  },
  {
   "cell_type": "code",
   "execution_count": 12,
   "id": "1b5366d3-d1e9-4dcc-89a6-676d9af89adf",
   "metadata": {},
   "outputs": [],
   "source": [
    "df_train = df_train.drop(['Hashed_deal_detail_6'], axis=1)"
   ]
  },
  {
   "cell_type": "code",
   "execution_count": 13,
   "id": "f617a6d8-a208-4f5e-b24f-4d2c68647f00",
   "metadata": {},
   "outputs": [],
   "source": [
    "df_test = df_test.drop(['Hashed_deal_detail_6'], axis=1)"
   ]
  },
  {
   "cell_type": "markdown",
   "id": "918327a4-8eae-41ad-bcd6-f80221bea7a9",
   "metadata": {},
   "source": [
    "**Посмотрим и заполним пропуски значений по колонкам**"
   ]
  },
  {
   "cell_type": "code",
   "execution_count": 14,
   "id": "d34510c4-2cbc-4b3c-8e76-f435a8375402",
   "metadata": {
    "tags": []
   },
   "outputs": [
    {
     "data": {
      "text/plain": [
       "Deal_id                      0\n",
       "Deal_date                    0\n",
       "First_deal_date              0\n",
       "Secret_user_info_1        2633\n",
       "Secret_user_info_2        2633\n",
       "Secret_user_info_3        2633\n",
       "First_default_date        2633\n",
       "Successful_deals_count      14\n",
       "Region                       7\n",
       "Shop                         0\n",
       "Hashed_deal_detail_1         0\n",
       "Hashed_deal_detail_2         0\n",
       "Hashed_deal_detail_3         0\n",
       "Hashed_deal_detail_4         0\n",
       "Hashed_deal_detail_5         0\n",
       "Age                          0\n",
       "Gender                       0\n",
       "Default                      0\n",
       "dtype: int64"
      ]
     },
     "execution_count": 14,
     "metadata": {},
     "output_type": "execute_result"
    }
   ],
   "source": [
    "df_train.isnull().sum()"
   ]
  },
  {
   "cell_type": "code",
   "execution_count": 15,
   "id": "50d4280f-80af-467e-977c-0d55ac19d731",
   "metadata": {
    "tags": []
   },
   "outputs": [
    {
     "data": {
      "text/plain": [
       "Deal_id                     0\n",
       "Deal_date                   0\n",
       "First_deal_date             0\n",
       "Secret_user_info_1        849\n",
       "Secret_user_info_2        849\n",
       "Secret_user_info_3        849\n",
       "First_default_date        849\n",
       "Successful_deals_count      1\n",
       "Region                      4\n",
       "Shop                        0\n",
       "Hashed_deal_detail_1        0\n",
       "Hashed_deal_detail_2        0\n",
       "Hashed_deal_detail_3        0\n",
       "Hashed_deal_detail_4        0\n",
       "Hashed_deal_detail_5        0\n",
       "Age                         0\n",
       "Gender                      0\n",
       "dtype: int64"
      ]
     },
     "execution_count": 15,
     "metadata": {},
     "output_type": "execute_result"
    }
   ],
   "source": [
    "df_test.isnull().sum()"
   ]
  },
  {
   "cell_type": "markdown",
   "id": "4149a70a-567e-4794-b216-2b68ce86d56f",
   "metadata": {},
   "source": [
    "Колонки Secret_user_info_1...3 и First_default_date имеют много пропусков.\n",
    "Т.к. кол-во пропусков в этих колонках одинаково, проверим гипотезу, что колонки Secret_user_info_... не заполнялись для строк, у которых не задан First_default_date, т.е. не было дефолтов."
   ]
  },
  {
   "cell_type": "code",
   "execution_count": 16,
   "id": "77a179ca-eca1-48cf-addf-7a20cd29170b",
   "metadata": {},
   "outputs": [
    {
     "data": {
      "text/plain": [
       "Deal_id                   2633\n",
       "Deal_date                  482\n",
       "First_deal_date            537\n",
       "Secret_user_info_1           0\n",
       "Secret_user_info_2           0\n",
       "Secret_user_info_3           0\n",
       "First_default_date           0\n",
       "Successful_deals_count      13\n",
       "Region                       8\n",
       "Shop                        19\n",
       "Hashed_deal_detail_1         7\n",
       "Hashed_deal_detail_2        22\n",
       "Hashed_deal_detail_3        22\n",
       "Hashed_deal_detail_4        18\n",
       "Hashed_deal_detail_5         7\n",
       "Age                         49\n",
       "Gender                       2\n",
       "Default                      2\n",
       "dtype: int64"
      ]
     },
     "execution_count": 16,
     "metadata": {},
     "output_type": "execute_result"
    }
   ],
   "source": [
    "df_train[df_train['First_default_date'].isnull()].nunique()"
   ]
  },
  {
   "cell_type": "code",
   "execution_count": 17,
   "id": "35c5837f-0ea0-4541-b777-e996f73c8dcf",
   "metadata": {},
   "outputs": [
    {
     "data": {
      "text/plain": [
       "Deal_id                      0\n",
       "Deal_date                    0\n",
       "First_deal_date              0\n",
       "Secret_user_info_1        2633\n",
       "Secret_user_info_2        2633\n",
       "Secret_user_info_3        2633\n",
       "First_default_date        2633\n",
       "Successful_deals_count      14\n",
       "Region                       5\n",
       "Shop                         0\n",
       "Hashed_deal_detail_1         0\n",
       "Hashed_deal_detail_2         0\n",
       "Hashed_deal_detail_3         0\n",
       "Hashed_deal_detail_4         0\n",
       "Hashed_deal_detail_5         0\n",
       "Age                          0\n",
       "Gender                       0\n",
       "Default                      0\n",
       "dtype: int64"
      ]
     },
     "execution_count": 17,
     "metadata": {},
     "output_type": "execute_result"
    }
   ],
   "source": [
    "df_train[df_train['First_default_date'].isnull()].isnull().sum()"
   ]
  },
  {
   "cell_type": "code",
   "execution_count": 18,
   "id": "dbf46bdd-db79-4b72-baad-6f45be1d6e26",
   "metadata": {},
   "outputs": [
    {
     "data": {
      "text/plain": [
       "Deal_id                     0\n",
       "Deal_date                   0\n",
       "First_deal_date             0\n",
       "Secret_user_info_1        849\n",
       "Secret_user_info_2        849\n",
       "Secret_user_info_3        849\n",
       "First_default_date        849\n",
       "Successful_deals_count      1\n",
       "Region                      4\n",
       "Shop                        0\n",
       "Hashed_deal_detail_1        0\n",
       "Hashed_deal_detail_2        0\n",
       "Hashed_deal_detail_3        0\n",
       "Hashed_deal_detail_4        0\n",
       "Hashed_deal_detail_5        0\n",
       "Age                         0\n",
       "Gender                      0\n",
       "dtype: int64"
      ]
     },
     "execution_count": 18,
     "metadata": {},
     "output_type": "execute_result"
    }
   ],
   "source": [
    "df_test[df_test['First_default_date'].isnull()].isnull().sum()"
   ]
  },
  {
   "cell_type": "markdown",
   "id": "4f9c68c2-b89c-4745-a5ee-df59d3b86313",
   "metadata": {},
   "source": [
    "Гипотеза подтвердилась - все пропуски в строках, где нет даты первого дефолта, т.е. не было дефолтов.  \n",
    "Для отличия от остальных строк заполним их, как вариант, новыми отличающимся от остальных значаниями, чтобы показать модели их отличие."
   ]
  },
  {
   "cell_type": "code",
   "execution_count": 19,
   "id": "0a3ac614-83d2-4a0b-a8f2-b5f6e1410329",
   "metadata": {},
   "outputs": [
    {
     "data": {
      "text/plain": [
       "3.5    384\n",
       "4.5     89\n",
       "5.5     39\n",
       "6.5     11\n",
       "2.5      4\n",
       "7.5      4\n",
       "8.5      3\n",
       "9.5      1\n",
       "Name: Secret_user_info_1, dtype: int64"
      ]
     },
     "execution_count": 19,
     "metadata": {},
     "output_type": "execute_result"
    }
   ],
   "source": [
    "df_train.Secret_user_info_1.value_counts()"
   ]
  },
  {
   "cell_type": "code",
   "execution_count": 20,
   "id": "37f823fb-2dfd-43b8-a258-d1b18339f316",
   "metadata": {},
   "outputs": [
    {
     "data": {
      "text/plain": [
       "3.5    100\n",
       "4.5     25\n",
       "5.5      8\n",
       "7.5      3\n",
       "6.5      3\n",
       "8.5      1\n",
       "Name: Secret_user_info_1, dtype: int64"
      ]
     },
     "execution_count": 20,
     "metadata": {},
     "output_type": "execute_result"
    }
   ],
   "source": [
    "df_test.Secret_user_info_1.value_counts()"
   ]
  },
  {
   "cell_type": "markdown",
   "id": "d9af1c10-6ea6-424e-b4ae-6d67253baa52",
   "metadata": {},
   "source": [
    "Пропуски в колонке Secret_user_info_1 заполним значением 1.5."
   ]
  },
  {
   "cell_type": "code",
   "execution_count": 21,
   "id": "e85faea9-8bcc-4d7b-8ba7-ed3c0654b1c2",
   "metadata": {},
   "outputs": [],
   "source": [
    "df_train['Secret_user_info_1'] = df_train.Secret_user_info_1.fillna(1.5)"
   ]
  },
  {
   "cell_type": "code",
   "execution_count": 22,
   "id": "207dbaf3-d562-4884-a765-ca014c473a76",
   "metadata": {},
   "outputs": [
    {
     "data": {
      "text/plain": [
       "0"
      ]
     },
     "execution_count": 22,
     "metadata": {},
     "output_type": "execute_result"
    }
   ],
   "source": [
    "df_train.Secret_user_info_1.isnull().sum()"
   ]
  },
  {
   "cell_type": "code",
   "execution_count": 23,
   "id": "28b4c11d-e4c0-4d9b-b98a-fab3c216feeb",
   "metadata": {},
   "outputs": [],
   "source": [
    "df_test['Secret_user_info_1'] = df_test.Secret_user_info_1.fillna(1.5)"
   ]
  },
  {
   "cell_type": "code",
   "execution_count": 24,
   "id": "351eff18-5b96-425e-9027-82e4de969be9",
   "metadata": {},
   "outputs": [
    {
     "data": {
      "text/plain": [
       "0"
      ]
     },
     "execution_count": 24,
     "metadata": {},
     "output_type": "execute_result"
    }
   ],
   "source": [
    "df_test.Secret_user_info_1.isnull().sum()"
   ]
  },
  {
   "cell_type": "code",
   "execution_count": 25,
   "id": "56a4bb0c-61e8-4bd4-aac6-4a87968c5046",
   "metadata": {},
   "outputs": [
    {
     "data": {
      "text/plain": [
       "-2.0    243\n",
       "-3.0    232\n",
       "-1.0     51\n",
       " 0.0      7\n",
       " 2.0      1\n",
       " 1.0      1\n",
       "Name: Secret_user_info_2, dtype: int64"
      ]
     },
     "execution_count": 25,
     "metadata": {},
     "output_type": "execute_result"
    }
   ],
   "source": [
    "df_train.Secret_user_info_2.value_counts()"
   ]
  },
  {
   "cell_type": "code",
   "execution_count": 26,
   "id": "f8607701-3e71-4d26-8941-50afeefe91a8",
   "metadata": {},
   "outputs": [
    {
     "data": {
      "text/plain": [
       "-2.0    71\n",
       "-3.0    49\n",
       "-1.0    15\n",
       " 1.0     2\n",
       " 0.0     2\n",
       " 2.0     1\n",
       "Name: Secret_user_info_2, dtype: int64"
      ]
     },
     "execution_count": 26,
     "metadata": {},
     "output_type": "execute_result"
    }
   ],
   "source": [
    "df_test.Secret_user_info_2.value_counts()"
   ]
  },
  {
   "cell_type": "markdown",
   "id": "147a9a60-5c8a-476b-a467-13ce649654a7",
   "metadata": {},
   "source": [
    "Пропуски в колонке Secret_user_info_2 заполним значением -4."
   ]
  },
  {
   "cell_type": "code",
   "execution_count": 27,
   "id": "0916701d-18e2-472c-a4e7-a0437a1900ab",
   "metadata": {},
   "outputs": [],
   "source": [
    "df_train['Secret_user_info_2'] = df_train.Secret_user_info_2.fillna(-4)"
   ]
  },
  {
   "cell_type": "code",
   "execution_count": 28,
   "id": "451c2fc7-a66b-4827-8475-11b8bb68f728",
   "metadata": {},
   "outputs": [
    {
     "data": {
      "text/plain": [
       "0"
      ]
     },
     "execution_count": 28,
     "metadata": {},
     "output_type": "execute_result"
    }
   ],
   "source": [
    "df_train.Secret_user_info_2.isnull().sum()"
   ]
  },
  {
   "cell_type": "code",
   "execution_count": 29,
   "id": "6ab7822b-2668-4567-bb3f-2b42f9478151",
   "metadata": {},
   "outputs": [],
   "source": [
    "df_test['Secret_user_info_2'] = df_test.Secret_user_info_2.fillna(-4)"
   ]
  },
  {
   "cell_type": "code",
   "execution_count": 30,
   "id": "aa37f7cd-ec89-49ff-8f22-01ab852cb9ab",
   "metadata": {},
   "outputs": [
    {
     "data": {
      "text/plain": [
       "0"
      ]
     },
     "execution_count": 30,
     "metadata": {},
     "output_type": "execute_result"
    }
   ],
   "source": [
    "df_test.Secret_user_info_2.isnull().sum()"
   ]
  },
  {
   "cell_type": "code",
   "execution_count": 31,
   "id": "d65a860a-bcc8-4ab9-8892-ae520056eaa4",
   "metadata": {},
   "outputs": [
    {
     "data": {
      "text/plain": [
       "5.0    405\n",
       "6.0    118\n",
       "7.0     11\n",
       "8.0      1\n",
       "Name: Secret_user_info_3, dtype: int64"
      ]
     },
     "execution_count": 31,
     "metadata": {},
     "output_type": "execute_result"
    }
   ],
   "source": [
    "df_train.Secret_user_info_3.value_counts()"
   ]
  },
  {
   "cell_type": "code",
   "execution_count": 32,
   "id": "67572718-3a82-4100-863d-297bbaa56330",
   "metadata": {},
   "outputs": [
    {
     "data": {
      "text/plain": [
       "5.0    97\n",
       "6.0    40\n",
       "7.0     3\n",
       "Name: Secret_user_info_3, dtype: int64"
      ]
     },
     "execution_count": 32,
     "metadata": {},
     "output_type": "execute_result"
    }
   ],
   "source": [
    "df_test.Secret_user_info_3.value_counts()"
   ]
  },
  {
   "cell_type": "markdown",
   "id": "2b8d0aed-303d-4791-9ff5-c32dafadce74",
   "metadata": {},
   "source": [
    "Пропуски в колонке Secret_user_info_3 заполним значением 4."
   ]
  },
  {
   "cell_type": "code",
   "execution_count": 33,
   "id": "681854d9-f8c0-4266-aba6-2bc06e0b1589",
   "metadata": {},
   "outputs": [],
   "source": [
    "df_train['Secret_user_info_3'] = df_train.Secret_user_info_3.fillna(4)"
   ]
  },
  {
   "cell_type": "code",
   "execution_count": 34,
   "id": "c5276beb-2c44-4072-970d-3fb266ff9a45",
   "metadata": {},
   "outputs": [
    {
     "data": {
      "text/plain": [
       "0"
      ]
     },
     "execution_count": 34,
     "metadata": {},
     "output_type": "execute_result"
    }
   ],
   "source": [
    "df_train.Secret_user_info_3.isnull().sum()"
   ]
  },
  {
   "cell_type": "code",
   "execution_count": 35,
   "id": "8f99fd2f-f55a-4a54-a055-1c41eed74943",
   "metadata": {},
   "outputs": [],
   "source": [
    "df_test['Secret_user_info_3'] = df_test.Secret_user_info_3.fillna(4)"
   ]
  },
  {
   "cell_type": "code",
   "execution_count": 36,
   "id": "2301cd1e-091d-4aa2-924d-c536f486b80f",
   "metadata": {},
   "outputs": [
    {
     "data": {
      "text/plain": [
       "0"
      ]
     },
     "execution_count": 36,
     "metadata": {},
     "output_type": "execute_result"
    }
   ],
   "source": [
    "df_test.Secret_user_info_3.isnull().sum()"
   ]
  },
  {
   "cell_type": "code",
   "execution_count": 37,
   "id": "5029e40f-a069-47d4-ad44-417914507684",
   "metadata": {},
   "outputs": [
    {
     "data": {
      "text/html": [
       "<div>\n",
       "<style scoped>\n",
       "    .dataframe tbody tr th:only-of-type {\n",
       "        vertical-align: middle;\n",
       "    }\n",
       "\n",
       "    .dataframe tbody tr th {\n",
       "        vertical-align: top;\n",
       "    }\n",
       "\n",
       "    .dataframe thead th {\n",
       "        text-align: right;\n",
       "    }\n",
       "</style>\n",
       "<table border=\"1\" class=\"dataframe\">\n",
       "  <thead>\n",
       "    <tr style=\"text-align: right;\">\n",
       "      <th></th>\n",
       "      <th>Deal_id</th>\n",
       "      <th>Deal_date</th>\n",
       "      <th>First_deal_date</th>\n",
       "      <th>Secret_user_info_1</th>\n",
       "      <th>Secret_user_info_2</th>\n",
       "      <th>Secret_user_info_3</th>\n",
       "      <th>First_default_date</th>\n",
       "      <th>Successful_deals_count</th>\n",
       "      <th>Region</th>\n",
       "      <th>Shop</th>\n",
       "      <th>Hashed_deal_detail_1</th>\n",
       "      <th>Hashed_deal_detail_2</th>\n",
       "      <th>Hashed_deal_detail_3</th>\n",
       "      <th>Hashed_deal_detail_4</th>\n",
       "      <th>Hashed_deal_detail_5</th>\n",
       "      <th>Age</th>\n",
       "      <th>Gender</th>\n",
       "      <th>Default</th>\n",
       "    </tr>\n",
       "  </thead>\n",
       "  <tbody>\n",
       "    <tr>\n",
       "      <th>0</th>\n",
       "      <td>22487461</td>\n",
       "      <td>2015-11-05</td>\n",
       "      <td>2015-08-29</td>\n",
       "      <td>1.5</td>\n",
       "      <td>-4.0</td>\n",
       "      <td>4.0</td>\n",
       "      <td>NaT</td>\n",
       "      <td>0.0</td>\n",
       "      <td>Shop_district_3</td>\n",
       "      <td>7</td>\n",
       "      <td>2.5</td>\n",
       "      <td>-3</td>\n",
       "      <td>8</td>\n",
       "      <td>2.5</td>\n",
       "      <td>-3</td>\n",
       "      <td>36.0</td>\n",
       "      <td>Male</td>\n",
       "      <td>0</td>\n",
       "    </tr>\n",
       "  </tbody>\n",
       "</table>\n",
       "</div>"
      ],
      "text/plain": [
       "    Deal_id  Deal_date First_deal_date  Secret_user_info_1  \\\n",
       "0  22487461 2015-11-05      2015-08-29                 1.5   \n",
       "\n",
       "   Secret_user_info_2  Secret_user_info_3 First_default_date  \\\n",
       "0                -4.0                 4.0                NaT   \n",
       "\n",
       "   Successful_deals_count           Region  Shop  Hashed_deal_detail_1  \\\n",
       "0                     0.0  Shop_district_3     7                   2.5   \n",
       "\n",
       "   Hashed_deal_detail_2  Hashed_deal_detail_3  Hashed_deal_detail_4  \\\n",
       "0                    -3                     8                   2.5   \n",
       "\n",
       "   Hashed_deal_detail_5   Age Gender  Default  \n",
       "0                    -3  36.0   Male        0  "
      ]
     },
     "execution_count": 37,
     "metadata": {},
     "output_type": "execute_result"
    }
   ],
   "source": [
    "df_train.head(1)"
   ]
  },
  {
   "cell_type": "code",
   "execution_count": 38,
   "id": "036b9c62-791e-4945-a3d1-c91e971f98cf",
   "metadata": {},
   "outputs": [
    {
     "data": {
      "text/html": [
       "<div>\n",
       "<style scoped>\n",
       "    .dataframe tbody tr th:only-of-type {\n",
       "        vertical-align: middle;\n",
       "    }\n",
       "\n",
       "    .dataframe tbody tr th {\n",
       "        vertical-align: top;\n",
       "    }\n",
       "\n",
       "    .dataframe thead th {\n",
       "        text-align: right;\n",
       "    }\n",
       "</style>\n",
       "<table border=\"1\" class=\"dataframe\">\n",
       "  <thead>\n",
       "    <tr style=\"text-align: right;\">\n",
       "      <th></th>\n",
       "      <th>Deal_id</th>\n",
       "      <th>Deal_date</th>\n",
       "      <th>First_deal_date</th>\n",
       "      <th>Secret_user_info_1</th>\n",
       "      <th>Secret_user_info_2</th>\n",
       "      <th>Secret_user_info_3</th>\n",
       "      <th>First_default_date</th>\n",
       "      <th>Successful_deals_count</th>\n",
       "      <th>Region</th>\n",
       "      <th>Shop</th>\n",
       "      <th>Hashed_deal_detail_1</th>\n",
       "      <th>Hashed_deal_detail_2</th>\n",
       "      <th>Hashed_deal_detail_3</th>\n",
       "      <th>Hashed_deal_detail_4</th>\n",
       "      <th>Hashed_deal_detail_5</th>\n",
       "      <th>Age</th>\n",
       "      <th>Gender</th>\n",
       "    </tr>\n",
       "  </thead>\n",
       "  <tbody>\n",
       "    <tr>\n",
       "      <th>0</th>\n",
       "      <td>72875713</td>\n",
       "      <td>2016-10-14</td>\n",
       "      <td>2015-09-20</td>\n",
       "      <td>1.5</td>\n",
       "      <td>-4.0</td>\n",
       "      <td>4.0</td>\n",
       "      <td>NaT</td>\n",
       "      <td>0.0</td>\n",
       "      <td>Shop_district_2</td>\n",
       "      <td>7</td>\n",
       "      <td>2.5</td>\n",
       "      <td>-3</td>\n",
       "      <td>18</td>\n",
       "      <td>2.5</td>\n",
       "      <td>-3</td>\n",
       "      <td>40.0</td>\n",
       "      <td>Female</td>\n",
       "    </tr>\n",
       "  </tbody>\n",
       "</table>\n",
       "</div>"
      ],
      "text/plain": [
       "    Deal_id  Deal_date First_deal_date  Secret_user_info_1  \\\n",
       "0  72875713 2016-10-14      2015-09-20                 1.5   \n",
       "\n",
       "   Secret_user_info_2  Secret_user_info_3 First_default_date  \\\n",
       "0                -4.0                 4.0                NaT   \n",
       "\n",
       "   Successful_deals_count           Region  Shop  Hashed_deal_detail_1  \\\n",
       "0                     0.0  Shop_district_2     7                   2.5   \n",
       "\n",
       "   Hashed_deal_detail_2  Hashed_deal_detail_3  Hashed_deal_detail_4  \\\n",
       "0                    -3                    18                   2.5   \n",
       "\n",
       "   Hashed_deal_detail_5   Age  Gender  \n",
       "0                    -3  40.0  Female  "
      ]
     },
     "execution_count": 38,
     "metadata": {},
     "output_type": "execute_result"
    }
   ],
   "source": [
    "df_test.head(1)"
   ]
  },
  {
   "cell_type": "markdown",
   "id": "68ea0d93-a1bf-4cb7-8143-caec5ff12b85",
   "metadata": {},
   "source": [
    "First_default_date заполним нулевым значением datetime, чтобы было заметное отличие."
   ]
  },
  {
   "cell_type": "code",
   "execution_count": 39,
   "id": "d069b0bc-7e6b-47fe-aecd-c5dafd58661a",
   "metadata": {},
   "outputs": [],
   "source": [
    "df_train['First_default_date'] = df_train.First_default_date.fillna(pd.to_datetime(0))"
   ]
  },
  {
   "cell_type": "code",
   "execution_count": 40,
   "id": "641af1fa-4bbb-4b7f-b692-48af1f11074b",
   "metadata": {},
   "outputs": [],
   "source": [
    "df_test['First_default_date'] = df_test.First_default_date.fillna(pd.to_datetime(0))"
   ]
  },
  {
   "cell_type": "code",
   "execution_count": 41,
   "id": "457dfcf1-53b0-40af-850c-49517e990e2c",
   "metadata": {},
   "outputs": [
    {
     "data": {
      "text/plain": [
       "Timestamp('1970-01-01 00:00:00')"
      ]
     },
     "execution_count": 41,
     "metadata": {},
     "output_type": "execute_result"
    }
   ],
   "source": [
    "df_train['First_default_date'][0]"
   ]
  },
  {
   "cell_type": "code",
   "execution_count": 42,
   "id": "0f638a6c-36be-425a-93e3-2984b52eb14b",
   "metadata": {},
   "outputs": [
    {
     "data": {
      "text/plain": [
       "Shop_district_3    1204\n",
       "Shop_district_6     478\n",
       "Shop_district_2     448\n",
       "Shop_district_4     364\n",
       "Shop_district_1     240\n",
       "Shop_district_0     213\n",
       "Shop_district_5     160\n",
       "Shop_district_7      54\n",
       "Name: Region, dtype: int64"
      ]
     },
     "execution_count": 42,
     "metadata": {},
     "output_type": "execute_result"
    }
   ],
   "source": [
    "df_train.Region.value_counts()"
   ]
  },
  {
   "cell_type": "code",
   "execution_count": 43,
   "id": "a4bc0ddc-2552-46b9-b58c-a66b5fdf10ec",
   "metadata": {},
   "outputs": [
    {
     "data": {
      "text/plain": [
       "Shop_district_3    391\n",
       "Shop_district_6    149\n",
       "Shop_district_4    135\n",
       "Shop_district_2    105\n",
       "Shop_district_0     72\n",
       "Shop_district_1     60\n",
       "Shop_district_5     53\n",
       "Shop_district_7     20\n",
       "Name: Region, dtype: int64"
      ]
     },
     "execution_count": 43,
     "metadata": {},
     "output_type": "execute_result"
    }
   ],
   "source": [
    "df_test.Region.value_counts()"
   ]
  },
  {
   "cell_type": "markdown",
   "id": "33671c62-1b7d-4af9-a51a-1ecb8f07cbe6",
   "metadata": {},
   "source": [
    "Пропуски в колонке Region заполним наиболее \n",
    "часто встречающимся значением: 'Shop_district_3'"
   ]
  },
  {
   "cell_type": "code",
   "execution_count": 44,
   "id": "388e9f84-58d9-43a9-a570-8e9fcef712de",
   "metadata": {},
   "outputs": [],
   "source": [
    "df_train['Region'] = df_train.Region.fillna('Shop_district_3')"
   ]
  },
  {
   "cell_type": "code",
   "execution_count": 45,
   "id": "75bd4a10-ba9a-498a-bf96-c2d47f139253",
   "metadata": {},
   "outputs": [
    {
     "data": {
      "text/plain": [
       "0"
      ]
     },
     "execution_count": 45,
     "metadata": {},
     "output_type": "execute_result"
    }
   ],
   "source": [
    "df_train.Region.isnull().sum()"
   ]
  },
  {
   "cell_type": "code",
   "execution_count": 46,
   "id": "3cb5b8cf-58fe-44b8-bd20-c978cf070eb1",
   "metadata": {},
   "outputs": [],
   "source": [
    "df_test['Region'] = df_test.Region.fillna('Shop_district_3')"
   ]
  },
  {
   "cell_type": "code",
   "execution_count": 47,
   "id": "da2268ef-e158-47dc-8798-dc9e5372ca3d",
   "metadata": {},
   "outputs": [
    {
     "data": {
      "text/plain": [
       "0"
      ]
     },
     "execution_count": 47,
     "metadata": {},
     "output_type": "execute_result"
    }
   ],
   "source": [
    "df_test.Region.isnull().sum()"
   ]
  },
  {
   "cell_type": "code",
   "execution_count": 48,
   "id": "3fd6610f-c5f0-4118-834a-dd55df53b97f",
   "metadata": {},
   "outputs": [
    {
     "data": {
      "text/plain": [
       "0.0     1903\n",
       "2.0      592\n",
       "3.0      244\n",
       "1.0      194\n",
       "4.0      105\n",
       "5.0       52\n",
       "6.0       23\n",
       "7.0       13\n",
       "8.0        9\n",
       "9.0        8\n",
       "10.0       6\n",
       "17.0       2\n",
       "12.0       2\n",
       "11.0       1\n",
       "Name: Successful_deals_count, dtype: int64"
      ]
     },
     "execution_count": 48,
     "metadata": {},
     "output_type": "execute_result"
    }
   ],
   "source": [
    "df_train.Successful_deals_count.value_counts()"
   ]
  },
  {
   "cell_type": "code",
   "execution_count": 49,
   "id": "b8adb7d1-1975-4937-addb-44f32d6138d9",
   "metadata": {},
   "outputs": [
    {
     "data": {
      "text/plain": [
       "0.0     459\n",
       "2.0     195\n",
       "3.0     114\n",
       "1.0      95\n",
       "4.0      46\n",
       "5.0      28\n",
       "6.0      24\n",
       "7.0       7\n",
       "9.0       3\n",
       "8.0       3\n",
       "15.0      2\n",
       "10.0      2\n",
       "12.0      2\n",
       "14.0      2\n",
       "16.0      2\n",
       "32.0      1\n",
       "13.0      1\n",
       "20.0      1\n",
       "19.0      1\n",
       "Name: Successful_deals_count, dtype: int64"
      ]
     },
     "execution_count": 49,
     "metadata": {},
     "output_type": "execute_result"
    }
   ],
   "source": [
    "df_test.Successful_deals_count.value_counts()"
   ]
  },
  {
   "cell_type": "markdown",
   "id": "f9ccdd29-3b76-4862-9da7-ee6ba0f78c18",
   "metadata": {},
   "source": [
    "Пропуски в колонке Successful_deals_count заполним наиболее \n",
    "часто встречающимся значением: 0, т.е. считаем, что для этих строк не было Successful deals."
   ]
  },
  {
   "cell_type": "code",
   "execution_count": 50,
   "id": "a6602a83-1270-49c5-b7ff-91b88905e1c6",
   "metadata": {},
   "outputs": [],
   "source": [
    "df_train['Successful_deals_count'] = df_train.Successful_deals_count.fillna(0)"
   ]
  },
  {
   "cell_type": "code",
   "execution_count": 51,
   "id": "af52d507-450c-4b9e-8f30-d3dd49125d0e",
   "metadata": {},
   "outputs": [],
   "source": [
    "df_test['Successful_deals_count'] = df_test.Successful_deals_count.fillna(0)"
   ]
  },
  {
   "cell_type": "code",
   "execution_count": 52,
   "id": "1319d4c3-7aa8-4f3f-8e12-72a34d9c760e",
   "metadata": {},
   "outputs": [
    {
     "data": {
      "text/plain": [
       "0"
      ]
     },
     "execution_count": 52,
     "metadata": {},
     "output_type": "execute_result"
    }
   ],
   "source": [
    "df_train.Successful_deals_count.isnull().sum()"
   ]
  },
  {
   "cell_type": "code",
   "execution_count": 53,
   "id": "55e2b68c-f324-4c73-a0fc-23dfcfebcb5b",
   "metadata": {},
   "outputs": [
    {
     "data": {
      "text/plain": [
       "0"
      ]
     },
     "execution_count": 53,
     "metadata": {},
     "output_type": "execute_result"
    }
   ],
   "source": [
    "df_test.Successful_deals_count.isnull().sum()"
   ]
  },
  {
   "cell_type": "code",
   "execution_count": 54,
   "id": "de2f5412-f592-4e00-99fd-67776dc0a4e8",
   "metadata": {
    "tags": []
   },
   "outputs": [
    {
     "data": {
      "text/plain": [
       "0"
      ]
     },
     "execution_count": 54,
     "metadata": {},
     "output_type": "execute_result"
    }
   ],
   "source": [
    "df_train.isnull().sum().sum()"
   ]
  },
  {
   "cell_type": "code",
   "execution_count": 55,
   "id": "09017cfc-656d-4678-99d2-468f72164aa2",
   "metadata": {
    "tags": []
   },
   "outputs": [
    {
     "data": {
      "text/plain": [
       "0"
      ]
     },
     "execution_count": 55,
     "metadata": {},
     "output_type": "execute_result"
    }
   ],
   "source": [
    "df_test.isnull().sum().sum()"
   ]
  },
  {
   "cell_type": "markdown",
   "id": "ad645d55-444f-41ff-b1c6-649e82acfd1c",
   "metadata": {},
   "source": [
    "Итак, обработали все пропуски."
   ]
  },
  {
   "cell_type": "markdown",
   "id": "b83eac37-ab83-497b-bde0-bab6150f2c85",
   "metadata": {},
   "source": [
    "**Сделаем несколько новых фичей, которые могут быть полезны для анализа**"
   ]
  },
  {
   "cell_type": "markdown",
   "id": "ce047688-58f6-49f9-88b7-7e2e061a8995",
   "metadata": {},
   "source": [
    "Срок от первой покупки (в днях):"
   ]
  },
  {
   "cell_type": "code",
   "execution_count": 56,
   "id": "3f4e0584-c386-42f5-ac5b-6fab05365188",
   "metadata": {},
   "outputs": [],
   "source": [
    "df_train['deal_duration'] = (df_train['Deal_date'] - \n",
    "                             df_train['First_deal_date']) / np.timedelta64(1 , 'D')"
   ]
  },
  {
   "cell_type": "code",
   "execution_count": 57,
   "id": "3bac3965-2975-4ff0-9e57-93de319c1010",
   "metadata": {},
   "outputs": [],
   "source": [
    "df_test['deal_duration'] = (df_test['Deal_date'] - \n",
    "                             df_test['First_deal_date']) / np.timedelta64(1 , 'D')"
   ]
  },
  {
   "cell_type": "markdown",
   "id": "9f54aed7-8586-491f-903a-f3753cda24b1",
   "metadata": {},
   "source": [
    "Срок от первого дефолта (в днях):"
   ]
  },
  {
   "cell_type": "code",
   "execution_count": 58,
   "id": "17e85852-f926-4450-9f87-5505bf2ac757",
   "metadata": {},
   "outputs": [],
   "source": [
    "df_train['default_duration'] = (df_train['Deal_date'] - \n",
    "                             df_train['First_default_date']) / np.timedelta64(1 , 'D')"
   ]
  },
  {
   "cell_type": "code",
   "execution_count": 59,
   "id": "55c13fee-70f1-4956-b222-88e8f76ff410",
   "metadata": {},
   "outputs": [],
   "source": [
    "df_test['default_duration'] = (df_test['Deal_date'] - \n",
    "                             df_test['First_default_date']) / np.timedelta64(1 , 'D')"
   ]
  },
  {
   "cell_type": "markdown",
   "id": "0451cfaa-8f0b-4889-b3e4-606eb8f989d2",
   "metadata": {},
   "source": [
    "День недели покупки:"
   ]
  },
  {
   "cell_type": "code",
   "execution_count": 60,
   "id": "61f3b3e5-6f83-48da-ae60-be077134ef24",
   "metadata": {},
   "outputs": [],
   "source": [
    "df_train['deal_weekday'] = df_train['Deal_date'].dt.dayofweek"
   ]
  },
  {
   "cell_type": "code",
   "execution_count": 61,
   "id": "84e53585-886f-4a50-9622-a1a248860f3c",
   "metadata": {},
   "outputs": [],
   "source": [
    "df_test['deal_weekday'] = df_test['Deal_date'].dt.dayofweek"
   ]
  },
  {
   "cell_type": "markdown",
   "id": "15d62da8-c73b-43db-8998-5457802c81a5",
   "metadata": {},
   "source": [
    "Месяц покупки:"
   ]
  },
  {
   "cell_type": "code",
   "execution_count": 62,
   "id": "32c6e768-9f4d-4208-954a-e0b299f25ee5",
   "metadata": {},
   "outputs": [],
   "source": [
    "df_train['deal_month'] = df_train['Deal_date'].dt.month"
   ]
  },
  {
   "cell_type": "code",
   "execution_count": 63,
   "id": "623aafae-6ff3-4930-8fd0-061fa7b09b1d",
   "metadata": {},
   "outputs": [],
   "source": [
    "df_test['deal_month'] = df_test['Deal_date'].dt.month"
   ]
  },
  {
   "cell_type": "markdown",
   "id": "715534a2-5163-4beb-97c1-7f68254b267e",
   "metadata": {},
   "source": [
    "**Закодируем нечисловые признаки**"
   ]
  },
  {
   "cell_type": "code",
   "execution_count": 64,
   "id": "aa1024d6-f4ea-49e2-a810-a31e103b4745",
   "metadata": {},
   "outputs": [
    {
     "name": "stdout",
     "output_type": "stream",
     "text": [
      "<class 'pandas.core.frame.DataFrame'>\n",
      "RangeIndex: 3168 entries, 0 to 3167\n",
      "Data columns (total 22 columns):\n",
      " #   Column                  Non-Null Count  Dtype         \n",
      "---  ------                  --------------  -----         \n",
      " 0   Deal_id                 3168 non-null   int64         \n",
      " 1   Deal_date               3168 non-null   datetime64[ns]\n",
      " 2   First_deal_date         3168 non-null   datetime64[ns]\n",
      " 3   Secret_user_info_1      3168 non-null   float64       \n",
      " 4   Secret_user_info_2      3168 non-null   float64       \n",
      " 5   Secret_user_info_3      3168 non-null   float64       \n",
      " 6   First_default_date      3168 non-null   datetime64[ns]\n",
      " 7   Successful_deals_count  3168 non-null   float64       \n",
      " 8   Region                  3168 non-null   object        \n",
      " 9   Shop                    3168 non-null   int64         \n",
      " 10  Hashed_deal_detail_1    3168 non-null   float64       \n",
      " 11  Hashed_deal_detail_2    3168 non-null   int64         \n",
      " 12  Hashed_deal_detail_3    3168 non-null   int64         \n",
      " 13  Hashed_deal_detail_4    3168 non-null   float64       \n",
      " 14  Hashed_deal_detail_5    3168 non-null   int64         \n",
      " 15  Age                     3168 non-null   float64       \n",
      " 16  Gender                  3168 non-null   object        \n",
      " 17  Default                 3168 non-null   int64         \n",
      " 18  deal_duration           3168 non-null   float64       \n",
      " 19  default_duration        3168 non-null   float64       \n",
      " 20  deal_weekday            3168 non-null   int64         \n",
      " 21  deal_month              3168 non-null   int64         \n",
      "dtypes: datetime64[ns](3), float64(9), int64(8), object(2)\n",
      "memory usage: 544.6+ KB\n"
     ]
    }
   ],
   "source": [
    "df_train.info()"
   ]
  },
  {
   "cell_type": "markdown",
   "id": "3394147a-b689-4328-b29c-4a2b5b2653d3",
   "metadata": {},
   "source": [
    "Колонки типа datetime удалим. Мы сделали из них новые признаки."
   ]
  },
  {
   "cell_type": "code",
   "execution_count": 65,
   "id": "a6d1c787-dd14-464e-b87f-f4f8307503b2",
   "metadata": {},
   "outputs": [],
   "source": [
    "df_train = df_train.drop(str_to_date_cols, axis=1)"
   ]
  },
  {
   "cell_type": "code",
   "execution_count": 66,
   "id": "fc6ccf64-ceb7-4004-81ac-27a7527554db",
   "metadata": {},
   "outputs": [],
   "source": [
    "df_test = df_test.drop(str_to_date_cols, axis=1)"
   ]
  },
  {
   "cell_type": "code",
   "execution_count": 67,
   "id": "5addccfe-3840-49aa-b27c-7952280ca19d",
   "metadata": {},
   "outputs": [
    {
     "data": {
      "text/html": [
       "<div>\n",
       "<style scoped>\n",
       "    .dataframe tbody tr th:only-of-type {\n",
       "        vertical-align: middle;\n",
       "    }\n",
       "\n",
       "    .dataframe tbody tr th {\n",
       "        vertical-align: top;\n",
       "    }\n",
       "\n",
       "    .dataframe thead th {\n",
       "        text-align: right;\n",
       "    }\n",
       "</style>\n",
       "<table border=\"1\" class=\"dataframe\">\n",
       "  <thead>\n",
       "    <tr style=\"text-align: right;\">\n",
       "      <th></th>\n",
       "      <th>Deal_id</th>\n",
       "      <th>Secret_user_info_1</th>\n",
       "      <th>Secret_user_info_2</th>\n",
       "      <th>Secret_user_info_3</th>\n",
       "      <th>Successful_deals_count</th>\n",
       "      <th>Region</th>\n",
       "      <th>Shop</th>\n",
       "      <th>Hashed_deal_detail_1</th>\n",
       "      <th>Hashed_deal_detail_2</th>\n",
       "      <th>Hashed_deal_detail_3</th>\n",
       "      <th>Hashed_deal_detail_4</th>\n",
       "      <th>Hashed_deal_detail_5</th>\n",
       "      <th>Age</th>\n",
       "      <th>Gender</th>\n",
       "      <th>Default</th>\n",
       "      <th>deal_duration</th>\n",
       "      <th>default_duration</th>\n",
       "      <th>deal_weekday</th>\n",
       "      <th>deal_month</th>\n",
       "    </tr>\n",
       "  </thead>\n",
       "  <tbody>\n",
       "    <tr>\n",
       "      <th>0</th>\n",
       "      <td>22487461</td>\n",
       "      <td>1.5</td>\n",
       "      <td>-4.0</td>\n",
       "      <td>4.0</td>\n",
       "      <td>0.0</td>\n",
       "      <td>Shop_district_3</td>\n",
       "      <td>7</td>\n",
       "      <td>2.5</td>\n",
       "      <td>-3</td>\n",
       "      <td>8</td>\n",
       "      <td>2.5</td>\n",
       "      <td>-3</td>\n",
       "      <td>36.0</td>\n",
       "      <td>Male</td>\n",
       "      <td>0</td>\n",
       "      <td>68.0</td>\n",
       "      <td>16744.0</td>\n",
       "      <td>3</td>\n",
       "      <td>11</td>\n",
       "    </tr>\n",
       "    <tr>\n",
       "      <th>1</th>\n",
       "      <td>62494261</td>\n",
       "      <td>3.5</td>\n",
       "      <td>-2.0</td>\n",
       "      <td>5.0</td>\n",
       "      <td>2.0</td>\n",
       "      <td>Shop_district_4</td>\n",
       "      <td>7</td>\n",
       "      <td>2.5</td>\n",
       "      <td>-3</td>\n",
       "      <td>14</td>\n",
       "      <td>3.5</td>\n",
       "      <td>-3</td>\n",
       "      <td>29.0</td>\n",
       "      <td>Female</td>\n",
       "      <td>1</td>\n",
       "      <td>249.0</td>\n",
       "      <td>27.0</td>\n",
       "      <td>4</td>\n",
       "      <td>8</td>\n",
       "    </tr>\n",
       "  </tbody>\n",
       "</table>\n",
       "</div>"
      ],
      "text/plain": [
       "    Deal_id  Secret_user_info_1  Secret_user_info_2  Secret_user_info_3  \\\n",
       "0  22487461                 1.5                -4.0                 4.0   \n",
       "1  62494261                 3.5                -2.0                 5.0   \n",
       "\n",
       "   Successful_deals_count           Region  Shop  Hashed_deal_detail_1  \\\n",
       "0                     0.0  Shop_district_3     7                   2.5   \n",
       "1                     2.0  Shop_district_4     7                   2.5   \n",
       "\n",
       "   Hashed_deal_detail_2  Hashed_deal_detail_3  Hashed_deal_detail_4  \\\n",
       "0                    -3                     8                   2.5   \n",
       "1                    -3                    14                   3.5   \n",
       "\n",
       "   Hashed_deal_detail_5   Age  Gender  Default  deal_duration  \\\n",
       "0                    -3  36.0    Male        0           68.0   \n",
       "1                    -3  29.0  Female        1          249.0   \n",
       "\n",
       "   default_duration  deal_weekday  deal_month  \n",
       "0           16744.0             3          11  \n",
       "1              27.0             4           8  "
      ]
     },
     "execution_count": 67,
     "metadata": {},
     "output_type": "execute_result"
    }
   ],
   "source": [
    "df_train.head(2)"
   ]
  },
  {
   "cell_type": "code",
   "execution_count": 68,
   "id": "2304ab0a-6628-472a-a604-dffc764bb030",
   "metadata": {},
   "outputs": [
    {
     "data": {
      "text/html": [
       "<div>\n",
       "<style scoped>\n",
       "    .dataframe tbody tr th:only-of-type {\n",
       "        vertical-align: middle;\n",
       "    }\n",
       "\n",
       "    .dataframe tbody tr th {\n",
       "        vertical-align: top;\n",
       "    }\n",
       "\n",
       "    .dataframe thead th {\n",
       "        text-align: right;\n",
       "    }\n",
       "</style>\n",
       "<table border=\"1\" class=\"dataframe\">\n",
       "  <thead>\n",
       "    <tr style=\"text-align: right;\">\n",
       "      <th></th>\n",
       "      <th>Deal_id</th>\n",
       "      <th>Secret_user_info_1</th>\n",
       "      <th>Secret_user_info_2</th>\n",
       "      <th>Secret_user_info_3</th>\n",
       "      <th>Successful_deals_count</th>\n",
       "      <th>Region</th>\n",
       "      <th>Shop</th>\n",
       "      <th>Hashed_deal_detail_1</th>\n",
       "      <th>Hashed_deal_detail_2</th>\n",
       "      <th>Hashed_deal_detail_3</th>\n",
       "      <th>Hashed_deal_detail_4</th>\n",
       "      <th>Hashed_deal_detail_5</th>\n",
       "      <th>Age</th>\n",
       "      <th>Gender</th>\n",
       "      <th>deal_duration</th>\n",
       "      <th>default_duration</th>\n",
       "      <th>deal_weekday</th>\n",
       "      <th>deal_month</th>\n",
       "    </tr>\n",
       "  </thead>\n",
       "  <tbody>\n",
       "    <tr>\n",
       "      <th>0</th>\n",
       "      <td>72875713</td>\n",
       "      <td>1.5</td>\n",
       "      <td>-4.0</td>\n",
       "      <td>4.0</td>\n",
       "      <td>0.0</td>\n",
       "      <td>Shop_district_2</td>\n",
       "      <td>7</td>\n",
       "      <td>2.5</td>\n",
       "      <td>-3</td>\n",
       "      <td>18</td>\n",
       "      <td>2.5</td>\n",
       "      <td>-3</td>\n",
       "      <td>40.0</td>\n",
       "      <td>Female</td>\n",
       "      <td>390.0</td>\n",
       "      <td>17088.0</td>\n",
       "      <td>4</td>\n",
       "      <td>10</td>\n",
       "    </tr>\n",
       "    <tr>\n",
       "      <th>1</th>\n",
       "      <td>75825544</td>\n",
       "      <td>1.5</td>\n",
       "      <td>-4.0</td>\n",
       "      <td>4.0</td>\n",
       "      <td>6.0</td>\n",
       "      <td>Shop_district_3</td>\n",
       "      <td>18</td>\n",
       "      <td>2.5</td>\n",
       "      <td>-2</td>\n",
       "      <td>15</td>\n",
       "      <td>3.5</td>\n",
       "      <td>-3</td>\n",
       "      <td>66.0</td>\n",
       "      <td>Female</td>\n",
       "      <td>495.0</td>\n",
       "      <td>17097.0</td>\n",
       "      <td>6</td>\n",
       "      <td>10</td>\n",
       "    </tr>\n",
       "  </tbody>\n",
       "</table>\n",
       "</div>"
      ],
      "text/plain": [
       "    Deal_id  Secret_user_info_1  Secret_user_info_2  Secret_user_info_3  \\\n",
       "0  72875713                 1.5                -4.0                 4.0   \n",
       "1  75825544                 1.5                -4.0                 4.0   \n",
       "\n",
       "   Successful_deals_count           Region  Shop  Hashed_deal_detail_1  \\\n",
       "0                     0.0  Shop_district_2     7                   2.5   \n",
       "1                     6.0  Shop_district_3    18                   2.5   \n",
       "\n",
       "   Hashed_deal_detail_2  Hashed_deal_detail_3  Hashed_deal_detail_4  \\\n",
       "0                    -3                    18                   2.5   \n",
       "1                    -2                    15                   3.5   \n",
       "\n",
       "   Hashed_deal_detail_5   Age  Gender  deal_duration  default_duration  \\\n",
       "0                    -3  40.0  Female          390.0           17088.0   \n",
       "1                    -3  66.0  Female          495.0           17097.0   \n",
       "\n",
       "   deal_weekday  deal_month  \n",
       "0             4          10  \n",
       "1             6          10  "
      ]
     },
     "execution_count": 68,
     "metadata": {},
     "output_type": "execute_result"
    }
   ],
   "source": [
    "df_test.head(2)"
   ]
  },
  {
   "cell_type": "markdown",
   "id": "8d2e7623-f20d-4517-bc8b-1e556a4eb98d",
   "metadata": {},
   "source": [
    "Колонку Successful_deals_count переведем в int, т.к. это количество. Это действие съэкономит память."
   ]
  },
  {
   "cell_type": "code",
   "execution_count": 69,
   "id": "3bddb08c-3809-438e-9336-0a2b24f87e2a",
   "metadata": {},
   "outputs": [],
   "source": [
    "df_train['Successful_deals_count'] = df_train['Successful_deals_count'].astype(int)"
   ]
  },
  {
   "cell_type": "code",
   "execution_count": 70,
   "id": "28241a72-63c1-4e34-829c-86d5398183f3",
   "metadata": {},
   "outputs": [],
   "source": [
    "df_test['Successful_deals_count'] = df_test['Successful_deals_count'].astype(int)"
   ]
  },
  {
   "cell_type": "code",
   "execution_count": 71,
   "id": "2efab01d-b717-4c43-a7f5-f2cea7f5ddeb",
   "metadata": {},
   "outputs": [
    {
     "data": {
      "text/plain": [
       "dtype('int64')"
      ]
     },
     "execution_count": 71,
     "metadata": {},
     "output_type": "execute_result"
    }
   ],
   "source": [
    "df_train['Successful_deals_count'].dtype"
   ]
  },
  {
   "cell_type": "markdown",
   "id": "c6eca876-2869-42af-9044-680a17548f40",
   "metadata": {},
   "source": [
    "Закодируем категориальные колонки через OHE"
   ]
  },
  {
   "cell_type": "code",
   "execution_count": 72,
   "id": "70f2c7c3-13b1-4b7f-9fec-a7a60b2429f8",
   "metadata": {},
   "outputs": [],
   "source": [
    "categorical_columns = ['Gender', 'Region']\n",
    "\n",
    "for col in categorical_columns:\n",
    "    one_hot_train = pd.get_dummies(df_train[col], prefix=col, drop_first=True)\n",
    "    df_train = pd.concat((df_train.drop(col, axis=1), one_hot_train), axis=1)\n",
    "    one_hot_test = pd.get_dummies(df_test[col], prefix=col, drop_first=True)\n",
    "    df_test = pd.concat((df_test.drop(col, axis=1), one_hot_test), axis=1)"
   ]
  },
  {
   "cell_type": "code",
   "execution_count": 73,
   "id": "d96656d0-a356-4765-bd72-2bb5053ded73",
   "metadata": {},
   "outputs": [
    {
     "data": {
      "text/html": [
       "<div>\n",
       "<style scoped>\n",
       "    .dataframe tbody tr th:only-of-type {\n",
       "        vertical-align: middle;\n",
       "    }\n",
       "\n",
       "    .dataframe tbody tr th {\n",
       "        vertical-align: top;\n",
       "    }\n",
       "\n",
       "    .dataframe thead th {\n",
       "        text-align: right;\n",
       "    }\n",
       "</style>\n",
       "<table border=\"1\" class=\"dataframe\">\n",
       "  <thead>\n",
       "    <tr style=\"text-align: right;\">\n",
       "      <th></th>\n",
       "      <th>Deal_id</th>\n",
       "      <th>Secret_user_info_1</th>\n",
       "      <th>Secret_user_info_2</th>\n",
       "      <th>Secret_user_info_3</th>\n",
       "      <th>Successful_deals_count</th>\n",
       "      <th>Shop</th>\n",
       "      <th>Hashed_deal_detail_1</th>\n",
       "      <th>Hashed_deal_detail_2</th>\n",
       "      <th>Hashed_deal_detail_3</th>\n",
       "      <th>Hashed_deal_detail_4</th>\n",
       "      <th>...</th>\n",
       "      <th>deal_weekday</th>\n",
       "      <th>deal_month</th>\n",
       "      <th>Gender_Male</th>\n",
       "      <th>Region_Shop_district_1</th>\n",
       "      <th>Region_Shop_district_2</th>\n",
       "      <th>Region_Shop_district_3</th>\n",
       "      <th>Region_Shop_district_4</th>\n",
       "      <th>Region_Shop_district_5</th>\n",
       "      <th>Region_Shop_district_6</th>\n",
       "      <th>Region_Shop_district_7</th>\n",
       "    </tr>\n",
       "  </thead>\n",
       "  <tbody>\n",
       "    <tr>\n",
       "      <th>0</th>\n",
       "      <td>22487461</td>\n",
       "      <td>1.5</td>\n",
       "      <td>-4.0</td>\n",
       "      <td>4.0</td>\n",
       "      <td>0</td>\n",
       "      <td>7</td>\n",
       "      <td>2.5</td>\n",
       "      <td>-3</td>\n",
       "      <td>8</td>\n",
       "      <td>2.5</td>\n",
       "      <td>...</td>\n",
       "      <td>3</td>\n",
       "      <td>11</td>\n",
       "      <td>1</td>\n",
       "      <td>0</td>\n",
       "      <td>0</td>\n",
       "      <td>1</td>\n",
       "      <td>0</td>\n",
       "      <td>0</td>\n",
       "      <td>0</td>\n",
       "      <td>0</td>\n",
       "    </tr>\n",
       "    <tr>\n",
       "      <th>1</th>\n",
       "      <td>62494261</td>\n",
       "      <td>3.5</td>\n",
       "      <td>-2.0</td>\n",
       "      <td>5.0</td>\n",
       "      <td>2</td>\n",
       "      <td>7</td>\n",
       "      <td>2.5</td>\n",
       "      <td>-3</td>\n",
       "      <td>14</td>\n",
       "      <td>3.5</td>\n",
       "      <td>...</td>\n",
       "      <td>4</td>\n",
       "      <td>8</td>\n",
       "      <td>0</td>\n",
       "      <td>0</td>\n",
       "      <td>0</td>\n",
       "      <td>0</td>\n",
       "      <td>1</td>\n",
       "      <td>0</td>\n",
       "      <td>0</td>\n",
       "      <td>0</td>\n",
       "    </tr>\n",
       "  </tbody>\n",
       "</table>\n",
       "<p>2 rows × 25 columns</p>\n",
       "</div>"
      ],
      "text/plain": [
       "    Deal_id  Secret_user_info_1  Secret_user_info_2  Secret_user_info_3  \\\n",
       "0  22487461                 1.5                -4.0                 4.0   \n",
       "1  62494261                 3.5                -2.0                 5.0   \n",
       "\n",
       "   Successful_deals_count  Shop  Hashed_deal_detail_1  Hashed_deal_detail_2  \\\n",
       "0                       0     7                   2.5                    -3   \n",
       "1                       2     7                   2.5                    -3   \n",
       "\n",
       "   Hashed_deal_detail_3  Hashed_deal_detail_4  ...  deal_weekday  deal_month  \\\n",
       "0                     8                   2.5  ...             3          11   \n",
       "1                    14                   3.5  ...             4           8   \n",
       "\n",
       "   Gender_Male  Region_Shop_district_1  Region_Shop_district_2  \\\n",
       "0            1                       0                       0   \n",
       "1            0                       0                       0   \n",
       "\n",
       "   Region_Shop_district_3  Region_Shop_district_4  Region_Shop_district_5  \\\n",
       "0                       1                       0                       0   \n",
       "1                       0                       1                       0   \n",
       "\n",
       "   Region_Shop_district_6  Region_Shop_district_7  \n",
       "0                       0                       0  \n",
       "1                       0                       0  \n",
       "\n",
       "[2 rows x 25 columns]"
      ]
     },
     "execution_count": 73,
     "metadata": {},
     "output_type": "execute_result"
    }
   ],
   "source": [
    "df_train.head(2)"
   ]
  },
  {
   "cell_type": "code",
   "execution_count": 74,
   "id": "dd5ba75d-db00-4ac1-a098-0c52b36c79e1",
   "metadata": {},
   "outputs": [
    {
     "data": {
      "text/html": [
       "<div>\n",
       "<style scoped>\n",
       "    .dataframe tbody tr th:only-of-type {\n",
       "        vertical-align: middle;\n",
       "    }\n",
       "\n",
       "    .dataframe tbody tr th {\n",
       "        vertical-align: top;\n",
       "    }\n",
       "\n",
       "    .dataframe thead th {\n",
       "        text-align: right;\n",
       "    }\n",
       "</style>\n",
       "<table border=\"1\" class=\"dataframe\">\n",
       "  <thead>\n",
       "    <tr style=\"text-align: right;\">\n",
       "      <th></th>\n",
       "      <th>Deal_id</th>\n",
       "      <th>Secret_user_info_1</th>\n",
       "      <th>Secret_user_info_2</th>\n",
       "      <th>Secret_user_info_3</th>\n",
       "      <th>Successful_deals_count</th>\n",
       "      <th>Shop</th>\n",
       "      <th>Hashed_deal_detail_1</th>\n",
       "      <th>Hashed_deal_detail_2</th>\n",
       "      <th>Hashed_deal_detail_3</th>\n",
       "      <th>Hashed_deal_detail_4</th>\n",
       "      <th>...</th>\n",
       "      <th>deal_weekday</th>\n",
       "      <th>deal_month</th>\n",
       "      <th>Gender_Male</th>\n",
       "      <th>Region_Shop_district_1</th>\n",
       "      <th>Region_Shop_district_2</th>\n",
       "      <th>Region_Shop_district_3</th>\n",
       "      <th>Region_Shop_district_4</th>\n",
       "      <th>Region_Shop_district_5</th>\n",
       "      <th>Region_Shop_district_6</th>\n",
       "      <th>Region_Shop_district_7</th>\n",
       "    </tr>\n",
       "  </thead>\n",
       "  <tbody>\n",
       "    <tr>\n",
       "      <th>0</th>\n",
       "      <td>72875713</td>\n",
       "      <td>1.5</td>\n",
       "      <td>-4.0</td>\n",
       "      <td>4.0</td>\n",
       "      <td>0</td>\n",
       "      <td>7</td>\n",
       "      <td>2.5</td>\n",
       "      <td>-3</td>\n",
       "      <td>18</td>\n",
       "      <td>2.5</td>\n",
       "      <td>...</td>\n",
       "      <td>4</td>\n",
       "      <td>10</td>\n",
       "      <td>0</td>\n",
       "      <td>0</td>\n",
       "      <td>1</td>\n",
       "      <td>0</td>\n",
       "      <td>0</td>\n",
       "      <td>0</td>\n",
       "      <td>0</td>\n",
       "      <td>0</td>\n",
       "    </tr>\n",
       "    <tr>\n",
       "      <th>1</th>\n",
       "      <td>75825544</td>\n",
       "      <td>1.5</td>\n",
       "      <td>-4.0</td>\n",
       "      <td>4.0</td>\n",
       "      <td>6</td>\n",
       "      <td>18</td>\n",
       "      <td>2.5</td>\n",
       "      <td>-2</td>\n",
       "      <td>15</td>\n",
       "      <td>3.5</td>\n",
       "      <td>...</td>\n",
       "      <td>6</td>\n",
       "      <td>10</td>\n",
       "      <td>0</td>\n",
       "      <td>0</td>\n",
       "      <td>0</td>\n",
       "      <td>1</td>\n",
       "      <td>0</td>\n",
       "      <td>0</td>\n",
       "      <td>0</td>\n",
       "      <td>0</td>\n",
       "    </tr>\n",
       "  </tbody>\n",
       "</table>\n",
       "<p>2 rows × 24 columns</p>\n",
       "</div>"
      ],
      "text/plain": [
       "    Deal_id  Secret_user_info_1  Secret_user_info_2  Secret_user_info_3  \\\n",
       "0  72875713                 1.5                -4.0                 4.0   \n",
       "1  75825544                 1.5                -4.0                 4.0   \n",
       "\n",
       "   Successful_deals_count  Shop  Hashed_deal_detail_1  Hashed_deal_detail_2  \\\n",
       "0                       0     7                   2.5                    -3   \n",
       "1                       6    18                   2.5                    -2   \n",
       "\n",
       "   Hashed_deal_detail_3  Hashed_deal_detail_4  ...  deal_weekday  deal_month  \\\n",
       "0                    18                   2.5  ...             4          10   \n",
       "1                    15                   3.5  ...             6          10   \n",
       "\n",
       "   Gender_Male  Region_Shop_district_1  Region_Shop_district_2  \\\n",
       "0            0                       0                       1   \n",
       "1            0                       0                       0   \n",
       "\n",
       "   Region_Shop_district_3  Region_Shop_district_4  Region_Shop_district_5  \\\n",
       "0                       0                       0                       0   \n",
       "1                       1                       0                       0   \n",
       "\n",
       "   Region_Shop_district_6  Region_Shop_district_7  \n",
       "0                       0                       0  \n",
       "1                       0                       0  \n",
       "\n",
       "[2 rows x 24 columns]"
      ]
     },
     "execution_count": 74,
     "metadata": {},
     "output_type": "execute_result"
    }
   ],
   "source": [
    "df_test.head(2)"
   ]
  },
  {
   "cell_type": "markdown",
   "id": "7b0adcfb-a187-4601-ad9e-c52153537ebc",
   "metadata": {},
   "source": [
    "Делим тренировочный датафрейм на признаки и таргет:"
   ]
  },
  {
   "cell_type": "code",
   "execution_count": 75,
   "id": "ff86d393-f666-4916-bdb4-1b9832e3010b",
   "metadata": {},
   "outputs": [],
   "source": [
    "X_train = df_train.drop(['Deal_id', 'Default'], axis=1)\n",
    "Y_train = df_train['Default']"
   ]
  },
  {
   "cell_type": "code",
   "execution_count": 76,
   "id": "fb0c01a6-5b61-475b-8a32-3af38f3ccaae",
   "metadata": {},
   "outputs": [
    {
     "data": {
      "text/plain": [
       "((3168, 23), (3168,))"
      ]
     },
     "execution_count": 76,
     "metadata": {},
     "output_type": "execute_result"
    }
   ],
   "source": [
    "X_train.shape, Y_train.shape"
   ]
  },
  {
   "cell_type": "markdown",
   "id": "58b60186-25c8-49a7-818c-149e4d96b5b0",
   "metadata": {},
   "source": [
    "Хотя по условиям этого проекта окончательная проверка будет проводиться на стороне заказчика, сделаем сплиты для внутренней проверки качества:"
   ]
  },
  {
   "cell_type": "code",
   "execution_count": 77,
   "id": "a1638d18-83b5-43b8-acc1-d6d0da56960a",
   "metadata": {
    "tags": []
   },
   "outputs": [],
   "source": [
    "from sklearn.model_selection import train_test_split\n",
    "from sklearn.metrics import classification_report, f1_score, roc_curve, auc\n",
    "\n",
    "xx_train, xx_test, yy_train, yy_test = train_test_split(X_train, Y_train,\n",
    "                                                    random_state=2,\n",
    "                                                    shuffle=True,\n",
    "                                                    stratify=Y_train,\n",
    "                                                    test_size=0.2)"
   ]
  },
  {
   "cell_type": "code",
   "execution_count": 78,
   "id": "2c46c387-8449-481b-8344-1ef452f2a370",
   "metadata": {},
   "outputs": [
    {
     "data": {
      "text/plain": [
       "((2534, 23), (634, 23), (2534,), (634,))"
      ]
     },
     "execution_count": 78,
     "metadata": {},
     "output_type": "execute_result"
    }
   ],
   "source": [
    "xx_train.shape, xx_test.shape, yy_train.shape, yy_test.shape"
   ]
  },
  {
   "cell_type": "markdown",
   "id": "e4c2b9f7-4dd7-41f2-b172-b5ee2ce609e8",
   "metadata": {},
   "source": [
    "Тестовый датафрейм для проверки заказчиком:"
   ]
  },
  {
   "cell_type": "code",
   "execution_count": 79,
   "id": "e3da4738-22ce-4877-b305-1218b4d1632d",
   "metadata": {},
   "outputs": [],
   "source": [
    "X_test = df_test.drop('Deal_id', axis=1)"
   ]
  },
  {
   "cell_type": "markdown",
   "id": "dccbc063-15c6-4f4d-9a6b-869d3c5b6c71",
   "metadata": {},
   "source": [
    "**=====================================================**"
   ]
  },
  {
   "cell_type": "markdown",
   "id": "8b687d34-efda-4316-b274-5788c066f92c",
   "metadata": {},
   "source": [
    "### Обучение моделей ###"
   ]
  },
  {
   "cell_type": "markdown",
   "id": "3996bae2-e5ef-4b38-8c28-6f2ef53aba7c",
   "metadata": {},
   "source": [
    "***1) sklearn logreg classifier***"
   ]
  },
  {
   "cell_type": "code",
   "execution_count": 80,
   "id": "931309db-32d9-4580-b315-9f422051487d",
   "metadata": {},
   "outputs": [],
   "source": [
    "from sklearn.linear_model import LogisticRegression\n",
    "from sklearn import metrics"
   ]
  },
  {
   "cell_type": "code",
   "execution_count": 81,
   "id": "31a1e848-b9ab-4606-89f7-dc94537ac76c",
   "metadata": {},
   "outputs": [
    {
     "data": {
      "text/html": [
       "<style>#sk-container-id-1 {color: black;background-color: white;}#sk-container-id-1 pre{padding: 0;}#sk-container-id-1 div.sk-toggleable {background-color: white;}#sk-container-id-1 label.sk-toggleable__label {cursor: pointer;display: block;width: 100%;margin-bottom: 0;padding: 0.3em;box-sizing: border-box;text-align: center;}#sk-container-id-1 label.sk-toggleable__label-arrow:before {content: \"▸\";float: left;margin-right: 0.25em;color: #696969;}#sk-container-id-1 label.sk-toggleable__label-arrow:hover:before {color: black;}#sk-container-id-1 div.sk-estimator:hover label.sk-toggleable__label-arrow:before {color: black;}#sk-container-id-1 div.sk-toggleable__content {max-height: 0;max-width: 0;overflow: hidden;text-align: left;background-color: #f0f8ff;}#sk-container-id-1 div.sk-toggleable__content pre {margin: 0.2em;color: black;border-radius: 0.25em;background-color: #f0f8ff;}#sk-container-id-1 input.sk-toggleable__control:checked~div.sk-toggleable__content {max-height: 200px;max-width: 100%;overflow: auto;}#sk-container-id-1 input.sk-toggleable__control:checked~label.sk-toggleable__label-arrow:before {content: \"▾\";}#sk-container-id-1 div.sk-estimator input.sk-toggleable__control:checked~label.sk-toggleable__label {background-color: #d4ebff;}#sk-container-id-1 div.sk-label input.sk-toggleable__control:checked~label.sk-toggleable__label {background-color: #d4ebff;}#sk-container-id-1 input.sk-hidden--visually {border: 0;clip: rect(1px 1px 1px 1px);clip: rect(1px, 1px, 1px, 1px);height: 1px;margin: -1px;overflow: hidden;padding: 0;position: absolute;width: 1px;}#sk-container-id-1 div.sk-estimator {font-family: monospace;background-color: #f0f8ff;border: 1px dotted black;border-radius: 0.25em;box-sizing: border-box;margin-bottom: 0.5em;}#sk-container-id-1 div.sk-estimator:hover {background-color: #d4ebff;}#sk-container-id-1 div.sk-parallel-item::after {content: \"\";width: 100%;border-bottom: 1px solid gray;flex-grow: 1;}#sk-container-id-1 div.sk-label:hover label.sk-toggleable__label {background-color: #d4ebff;}#sk-container-id-1 div.sk-serial::before {content: \"\";position: absolute;border-left: 1px solid gray;box-sizing: border-box;top: 0;bottom: 0;left: 50%;z-index: 0;}#sk-container-id-1 div.sk-serial {display: flex;flex-direction: column;align-items: center;background-color: white;padding-right: 0.2em;padding-left: 0.2em;position: relative;}#sk-container-id-1 div.sk-item {position: relative;z-index: 1;}#sk-container-id-1 div.sk-parallel {display: flex;align-items: stretch;justify-content: center;background-color: white;position: relative;}#sk-container-id-1 div.sk-item::before, #sk-container-id-1 div.sk-parallel-item::before {content: \"\";position: absolute;border-left: 1px solid gray;box-sizing: border-box;top: 0;bottom: 0;left: 50%;z-index: -1;}#sk-container-id-1 div.sk-parallel-item {display: flex;flex-direction: column;z-index: 1;position: relative;background-color: white;}#sk-container-id-1 div.sk-parallel-item:first-child::after {align-self: flex-end;width: 50%;}#sk-container-id-1 div.sk-parallel-item:last-child::after {align-self: flex-start;width: 50%;}#sk-container-id-1 div.sk-parallel-item:only-child::after {width: 0;}#sk-container-id-1 div.sk-dashed-wrapped {border: 1px dashed gray;margin: 0 0.4em 0.5em 0.4em;box-sizing: border-box;padding-bottom: 0.4em;background-color: white;}#sk-container-id-1 div.sk-label label {font-family: monospace;font-weight: bold;display: inline-block;line-height: 1.2em;}#sk-container-id-1 div.sk-label-container {text-align: center;}#sk-container-id-1 div.sk-container {/* jupyter's `normalize.less` sets `[hidden] { display: none; }` but bootstrap.min.css set `[hidden] { display: none !important; }` so we also need the `!important` here to be able to override the default hidden behavior on the sphinx rendered scikit-learn.org. See: https://github.com/scikit-learn/scikit-learn/issues/21755 */display: inline-block !important;position: relative;}#sk-container-id-1 div.sk-text-repr-fallback {display: none;}</style><div id=\"sk-container-id-1\" class=\"sk-top-container\"><div class=\"sk-text-repr-fallback\"><pre>LogisticRegression()</pre><b>In a Jupyter environment, please rerun this cell to show the HTML representation or trust the notebook. <br />On GitHub, the HTML representation is unable to render, please try loading this page with nbviewer.org.</b></div><div class=\"sk-container\" hidden><div class=\"sk-item\"><div class=\"sk-estimator sk-toggleable\"><input class=\"sk-toggleable__control sk-hidden--visually\" id=\"sk-estimator-id-1\" type=\"checkbox\" checked><label for=\"sk-estimator-id-1\" class=\"sk-toggleable__label sk-toggleable__label-arrow\">LogisticRegression</label><div class=\"sk-toggleable__content\"><pre>LogisticRegression()</pre></div></div></div></div></div>"
      ],
      "text/plain": [
       "LogisticRegression()"
      ]
     },
     "execution_count": 81,
     "metadata": {},
     "output_type": "execute_result"
    }
   ],
   "source": [
    "logreg = LogisticRegression(verbose=0)\n",
    "logreg.fit(xx_train, yy_train)"
   ]
  },
  {
   "cell_type": "code",
   "execution_count": 82,
   "id": "d2c8d7b9-99e1-498f-97e1-5990e45b3904",
   "metadata": {},
   "outputs": [
    {
     "name": "stdout",
     "output_type": "stream",
     "text": [
      "Accuracy на тренировочной выборке составило 0.89\n",
      "Accuracy на тестовой выборке составило 0.89\n"
     ]
    }
   ],
   "source": [
    "train_preds = logreg.predict(xx_train) \n",
    "train_accuracy = np.mean(train_preds == yy_train.values)\n",
    "\n",
    "test_preds = logreg.predict(xx_test) \n",
    "test_accuracy = np.mean(test_preds == yy_test.values)\n",
    "\n",
    "print(f\"Accuracy на тренировочной выборке составило \\\n",
    "{np.round(train_accuracy, decimals=3)}\")\n",
    "print(f\"Accuracy на тестовой выборке составило \\\n",
    "{np.round(test_accuracy, decimals=3)}\")"
   ]
  },
  {
   "cell_type": "markdown",
   "id": "b14ffa32-93f1-40fc-9c9d-2ebd6ace89f5",
   "metadata": {},
   "source": [
    "Пробуем улучшить качество модели подбором гиперпараметров."
   ]
  },
  {
   "cell_type": "code",
   "execution_count": 83,
   "id": "358e9ee0-8736-4015-8c86-a3eba73ebcae",
   "metadata": {},
   "outputs": [
    {
     "data": {
      "text/plain": [
       "51.594892263412476"
      ]
     },
     "execution_count": 83,
     "metadata": {},
     "output_type": "execute_result"
    }
   ],
   "source": [
    "from sklearn.model_selection import GridSearchCV \n",
    "logreg_grid = LogisticRegression(random_state=12,\n",
    "                                 class_weight='balanced', verbose=0)\n",
    "param_grid_lr = {\n",
    "    'max_iter': [20, 50, 100, 200, 500],                      \n",
    "    'solver': ['newton-cg', 'lbfgs', 'liblinear', 'sag', 'saga'],   \n",
    "}\n",
    "start = time.time()\n",
    "\n",
    "grid_clf = GridSearchCV(logreg_grid, param_grid_lr, cv=5, scoring='f1')\n",
    "grid_clf.fit(xx_train, yy_train)\n",
    "\n",
    "time.time() - start\n",
    "# ~ 1 мин"
   ]
  },
  {
   "cell_type": "code",
   "execution_count": 84,
   "id": "30049595-be56-420b-b046-06db6552bc87",
   "metadata": {},
   "outputs": [
    {
     "name": "stdout",
     "output_type": "stream",
     "text": [
      "best_estimator:  LogisticRegression(class_weight='balanced', max_iter=20, random_state=12,\n",
      "                   solver='newton-cg')\n",
      "best_params:  {'max_iter': 20, 'solver': 'newton-cg'}\n",
      "best_score:  0.3154222803506199\n"
     ]
    }
   ],
   "source": [
    "print('best_estimator: ', grid_clf.best_estimator_)\n",
    "print('best_params: ', grid_clf.best_params_)\n",
    "print('best_score: ', grid_clf.best_score_)"
   ]
  },
  {
   "cell_type": "code",
   "execution_count": 85,
   "id": "f42d11de-240a-4a4d-acf8-0ed584461dbf",
   "metadata": {},
   "outputs": [
    {
     "data": {
      "text/html": [
       "<style>#sk-container-id-2 {color: black;background-color: white;}#sk-container-id-2 pre{padding: 0;}#sk-container-id-2 div.sk-toggleable {background-color: white;}#sk-container-id-2 label.sk-toggleable__label {cursor: pointer;display: block;width: 100%;margin-bottom: 0;padding: 0.3em;box-sizing: border-box;text-align: center;}#sk-container-id-2 label.sk-toggleable__label-arrow:before {content: \"▸\";float: left;margin-right: 0.25em;color: #696969;}#sk-container-id-2 label.sk-toggleable__label-arrow:hover:before {color: black;}#sk-container-id-2 div.sk-estimator:hover label.sk-toggleable__label-arrow:before {color: black;}#sk-container-id-2 div.sk-toggleable__content {max-height: 0;max-width: 0;overflow: hidden;text-align: left;background-color: #f0f8ff;}#sk-container-id-2 div.sk-toggleable__content pre {margin: 0.2em;color: black;border-radius: 0.25em;background-color: #f0f8ff;}#sk-container-id-2 input.sk-toggleable__control:checked~div.sk-toggleable__content {max-height: 200px;max-width: 100%;overflow: auto;}#sk-container-id-2 input.sk-toggleable__control:checked~label.sk-toggleable__label-arrow:before {content: \"▾\";}#sk-container-id-2 div.sk-estimator input.sk-toggleable__control:checked~label.sk-toggleable__label {background-color: #d4ebff;}#sk-container-id-2 div.sk-label input.sk-toggleable__control:checked~label.sk-toggleable__label {background-color: #d4ebff;}#sk-container-id-2 input.sk-hidden--visually {border: 0;clip: rect(1px 1px 1px 1px);clip: rect(1px, 1px, 1px, 1px);height: 1px;margin: -1px;overflow: hidden;padding: 0;position: absolute;width: 1px;}#sk-container-id-2 div.sk-estimator {font-family: monospace;background-color: #f0f8ff;border: 1px dotted black;border-radius: 0.25em;box-sizing: border-box;margin-bottom: 0.5em;}#sk-container-id-2 div.sk-estimator:hover {background-color: #d4ebff;}#sk-container-id-2 div.sk-parallel-item::after {content: \"\";width: 100%;border-bottom: 1px solid gray;flex-grow: 1;}#sk-container-id-2 div.sk-label:hover label.sk-toggleable__label {background-color: #d4ebff;}#sk-container-id-2 div.sk-serial::before {content: \"\";position: absolute;border-left: 1px solid gray;box-sizing: border-box;top: 0;bottom: 0;left: 50%;z-index: 0;}#sk-container-id-2 div.sk-serial {display: flex;flex-direction: column;align-items: center;background-color: white;padding-right: 0.2em;padding-left: 0.2em;position: relative;}#sk-container-id-2 div.sk-item {position: relative;z-index: 1;}#sk-container-id-2 div.sk-parallel {display: flex;align-items: stretch;justify-content: center;background-color: white;position: relative;}#sk-container-id-2 div.sk-item::before, #sk-container-id-2 div.sk-parallel-item::before {content: \"\";position: absolute;border-left: 1px solid gray;box-sizing: border-box;top: 0;bottom: 0;left: 50%;z-index: -1;}#sk-container-id-2 div.sk-parallel-item {display: flex;flex-direction: column;z-index: 1;position: relative;background-color: white;}#sk-container-id-2 div.sk-parallel-item:first-child::after {align-self: flex-end;width: 50%;}#sk-container-id-2 div.sk-parallel-item:last-child::after {align-self: flex-start;width: 50%;}#sk-container-id-2 div.sk-parallel-item:only-child::after {width: 0;}#sk-container-id-2 div.sk-dashed-wrapped {border: 1px dashed gray;margin: 0 0.4em 0.5em 0.4em;box-sizing: border-box;padding-bottom: 0.4em;background-color: white;}#sk-container-id-2 div.sk-label label {font-family: monospace;font-weight: bold;display: inline-block;line-height: 1.2em;}#sk-container-id-2 div.sk-label-container {text-align: center;}#sk-container-id-2 div.sk-container {/* jupyter's `normalize.less` sets `[hidden] { display: none; }` but bootstrap.min.css set `[hidden] { display: none !important; }` so we also need the `!important` here to be able to override the default hidden behavior on the sphinx rendered scikit-learn.org. See: https://github.com/scikit-learn/scikit-learn/issues/21755 */display: inline-block !important;position: relative;}#sk-container-id-2 div.sk-text-repr-fallback {display: none;}</style><div id=\"sk-container-id-2\" class=\"sk-top-container\"><div class=\"sk-text-repr-fallback\"><pre>LogisticRegression(class_weight=&#x27;balanced&#x27;, max_iter=20, solver=&#x27;newton-cg&#x27;)</pre><b>In a Jupyter environment, please rerun this cell to show the HTML representation or trust the notebook. <br />On GitHub, the HTML representation is unable to render, please try loading this page with nbviewer.org.</b></div><div class=\"sk-container\" hidden><div class=\"sk-item\"><div class=\"sk-estimator sk-toggleable\"><input class=\"sk-toggleable__control sk-hidden--visually\" id=\"sk-estimator-id-2\" type=\"checkbox\" checked><label for=\"sk-estimator-id-2\" class=\"sk-toggleable__label sk-toggleable__label-arrow\">LogisticRegression</label><div class=\"sk-toggleable__content\"><pre>LogisticRegression(class_weight=&#x27;balanced&#x27;, max_iter=20, solver=&#x27;newton-cg&#x27;)</pre></div></div></div></div></div>"
      ],
      "text/plain": [
       "LogisticRegression(class_weight='balanced', max_iter=20, solver='newton-cg')"
      ]
     },
     "execution_count": 85,
     "metadata": {},
     "output_type": "execute_result"
    }
   ],
   "source": [
    "logreg_turbo = LogisticRegression(class_weight='balanced', verbose=0)\n",
    "logreg_turbo.set_params(**grid_clf.best_params_)\n",
    "logreg_turbo.fit(xx_train, yy_train)"
   ]
  },
  {
   "cell_type": "code",
   "execution_count": 86,
   "id": "5bd743bd-50ef-4d7d-8891-f5a22e4c1f13",
   "metadata": {},
   "outputs": [
    {
     "name": "stdout",
     "output_type": "stream",
     "text": [
      "Accuracy на тренировочной выборке составило 0.67\n",
      "Accuracy на тестовой выборке составило 0.672\n"
     ]
    }
   ],
   "source": [
    "train_preds = logreg_turbo.predict(xx_train) \n",
    "train_accuracy = np.mean(train_preds == yy_train.values)\n",
    "\n",
    "test_preds = logreg_turbo.predict(xx_test) \n",
    "test_accuracy = np.mean(test_preds == yy_test.values)\n",
    "\n",
    "print(f\"Accuracy на тренировочной выборке составило \\\n",
    "{np.round(train_accuracy, decimals=3)}\")\n",
    "print(f\"Accuracy на тестовой выборке составило \\\n",
    "{np.round(test_accuracy, decimals=3)}\")"
   ]
  },
  {
   "cell_type": "markdown",
   "id": "60396d00-1ee3-496f-b0b8-e62dcdd92c88",
   "metadata": {},
   "source": [
    "После подбора параметров качество ухудшилось.  \n",
    "Посмотрим выходы для тестовой выборки."
   ]
  },
  {
   "cell_type": "code",
   "execution_count": 87,
   "id": "aecb492c-407f-4a9a-8fe8-d4c4f03f5bd4",
   "metadata": {},
   "outputs": [],
   "source": [
    "y_pred = logreg_turbo.predict_proba(X_test)[:,1]"
   ]
  },
  {
   "cell_type": "code",
   "execution_count": 88,
   "id": "4b0e7795-05b8-440d-acec-6d04d4d372dd",
   "metadata": {},
   "outputs": [
    {
     "data": {
      "text/plain": [
       "(0.003811429271046262, 0.35423446686728055, 0.8916290967311119)"
      ]
     },
     "execution_count": 88,
     "metadata": {},
     "output_type": "execute_result"
    }
   ],
   "source": [
    "y_pred.min(), y_pred.mean(), y_pred.max()"
   ]
  },
  {
   "cell_type": "markdown",
   "id": "2202c3e3-c4d5-4ab7-8a46-db491437d978",
   "metadata": {},
   "source": [
    "Вывод по LogReg - пробуем другую модель."
   ]
  },
  {
   "cell_type": "markdown",
   "id": "06ec45ac-42b8-4863-8fc9-fbcbb00f6b0a",
   "metadata": {},
   "source": [
    "***2) sklearn KNN classifier***"
   ]
  },
  {
   "cell_type": "code",
   "execution_count": 89,
   "id": "30197bfa-90d6-444e-9250-672c8dd2fa74",
   "metadata": {},
   "outputs": [],
   "source": [
    "from sklearn.neighbors import KNeighborsClassifier"
   ]
  },
  {
   "cell_type": "code",
   "execution_count": 90,
   "id": "7ed85b52-357b-48d2-b4e7-c30e45c29174",
   "metadata": {},
   "outputs": [
    {
     "data": {
      "text/html": [
       "<style>#sk-container-id-3 {color: black;background-color: white;}#sk-container-id-3 pre{padding: 0;}#sk-container-id-3 div.sk-toggleable {background-color: white;}#sk-container-id-3 label.sk-toggleable__label {cursor: pointer;display: block;width: 100%;margin-bottom: 0;padding: 0.3em;box-sizing: border-box;text-align: center;}#sk-container-id-3 label.sk-toggleable__label-arrow:before {content: \"▸\";float: left;margin-right: 0.25em;color: #696969;}#sk-container-id-3 label.sk-toggleable__label-arrow:hover:before {color: black;}#sk-container-id-3 div.sk-estimator:hover label.sk-toggleable__label-arrow:before {color: black;}#sk-container-id-3 div.sk-toggleable__content {max-height: 0;max-width: 0;overflow: hidden;text-align: left;background-color: #f0f8ff;}#sk-container-id-3 div.sk-toggleable__content pre {margin: 0.2em;color: black;border-radius: 0.25em;background-color: #f0f8ff;}#sk-container-id-3 input.sk-toggleable__control:checked~div.sk-toggleable__content {max-height: 200px;max-width: 100%;overflow: auto;}#sk-container-id-3 input.sk-toggleable__control:checked~label.sk-toggleable__label-arrow:before {content: \"▾\";}#sk-container-id-3 div.sk-estimator input.sk-toggleable__control:checked~label.sk-toggleable__label {background-color: #d4ebff;}#sk-container-id-3 div.sk-label input.sk-toggleable__control:checked~label.sk-toggleable__label {background-color: #d4ebff;}#sk-container-id-3 input.sk-hidden--visually {border: 0;clip: rect(1px 1px 1px 1px);clip: rect(1px, 1px, 1px, 1px);height: 1px;margin: -1px;overflow: hidden;padding: 0;position: absolute;width: 1px;}#sk-container-id-3 div.sk-estimator {font-family: monospace;background-color: #f0f8ff;border: 1px dotted black;border-radius: 0.25em;box-sizing: border-box;margin-bottom: 0.5em;}#sk-container-id-3 div.sk-estimator:hover {background-color: #d4ebff;}#sk-container-id-3 div.sk-parallel-item::after {content: \"\";width: 100%;border-bottom: 1px solid gray;flex-grow: 1;}#sk-container-id-3 div.sk-label:hover label.sk-toggleable__label {background-color: #d4ebff;}#sk-container-id-3 div.sk-serial::before {content: \"\";position: absolute;border-left: 1px solid gray;box-sizing: border-box;top: 0;bottom: 0;left: 50%;z-index: 0;}#sk-container-id-3 div.sk-serial {display: flex;flex-direction: column;align-items: center;background-color: white;padding-right: 0.2em;padding-left: 0.2em;position: relative;}#sk-container-id-3 div.sk-item {position: relative;z-index: 1;}#sk-container-id-3 div.sk-parallel {display: flex;align-items: stretch;justify-content: center;background-color: white;position: relative;}#sk-container-id-3 div.sk-item::before, #sk-container-id-3 div.sk-parallel-item::before {content: \"\";position: absolute;border-left: 1px solid gray;box-sizing: border-box;top: 0;bottom: 0;left: 50%;z-index: -1;}#sk-container-id-3 div.sk-parallel-item {display: flex;flex-direction: column;z-index: 1;position: relative;background-color: white;}#sk-container-id-3 div.sk-parallel-item:first-child::after {align-self: flex-end;width: 50%;}#sk-container-id-3 div.sk-parallel-item:last-child::after {align-self: flex-start;width: 50%;}#sk-container-id-3 div.sk-parallel-item:only-child::after {width: 0;}#sk-container-id-3 div.sk-dashed-wrapped {border: 1px dashed gray;margin: 0 0.4em 0.5em 0.4em;box-sizing: border-box;padding-bottom: 0.4em;background-color: white;}#sk-container-id-3 div.sk-label label {font-family: monospace;font-weight: bold;display: inline-block;line-height: 1.2em;}#sk-container-id-3 div.sk-label-container {text-align: center;}#sk-container-id-3 div.sk-container {/* jupyter's `normalize.less` sets `[hidden] { display: none; }` but bootstrap.min.css set `[hidden] { display: none !important; }` so we also need the `!important` here to be able to override the default hidden behavior on the sphinx rendered scikit-learn.org. See: https://github.com/scikit-learn/scikit-learn/issues/21755 */display: inline-block !important;position: relative;}#sk-container-id-3 div.sk-text-repr-fallback {display: none;}</style><div id=\"sk-container-id-3\" class=\"sk-top-container\"><div class=\"sk-text-repr-fallback\"><pre>KNeighborsClassifier()</pre><b>In a Jupyter environment, please rerun this cell to show the HTML representation or trust the notebook. <br />On GitHub, the HTML representation is unable to render, please try loading this page with nbviewer.org.</b></div><div class=\"sk-container\" hidden><div class=\"sk-item\"><div class=\"sk-estimator sk-toggleable\"><input class=\"sk-toggleable__control sk-hidden--visually\" id=\"sk-estimator-id-3\" type=\"checkbox\" checked><label for=\"sk-estimator-id-3\" class=\"sk-toggleable__label sk-toggleable__label-arrow\">KNeighborsClassifier</label><div class=\"sk-toggleable__content\"><pre>KNeighborsClassifier()</pre></div></div></div></div></div>"
      ],
      "text/plain": [
       "KNeighborsClassifier()"
      ]
     },
     "execution_count": 90,
     "metadata": {},
     "output_type": "execute_result"
    }
   ],
   "source": [
    "knn = KNeighborsClassifier()\n",
    "knn.fit(xx_train, yy_train)"
   ]
  },
  {
   "cell_type": "code",
   "execution_count": 91,
   "id": "f02af47b-81a2-46ff-94b0-dc764ef71cd9",
   "metadata": {},
   "outputs": [
    {
     "name": "stdout",
     "output_type": "stream",
     "text": [
      "Accuracy на тренировочной выборке составило 0.897\n",
      "Accuracy на тестовой выборке составило 0.874\n"
     ]
    }
   ],
   "source": [
    "train_preds = knn.predict(xx_train) \n",
    "train_accuracy = np.mean(train_preds == yy_train.values)\n",
    "\n",
    "test_preds = knn.predict(xx_test) \n",
    "test_accuracy = np.mean(test_preds == yy_test.values)\n",
    "\n",
    "print(f\"Accuracy на тренировочной выборке составило \\\n",
    "{np.round(train_accuracy, decimals=3)}\")\n",
    "print(f\"Accuracy на тестовой выборке составило \\\n",
    "{np.round(test_accuracy, decimals=3)}\")"
   ]
  },
  {
   "cell_type": "markdown",
   "id": "44c3c11d-24b0-470f-a90a-c81ae63240d9",
   "metadata": {},
   "source": [
    "Попробуем улучшить качество модели подбором гиперпараметров.\n",
    "В качестве параметров для валидации выберем:\n",
    "- Количество соседей (`n`)\n",
    "- Способ взвешивания соседей (`weights`)\n",
    "- Параметр p метрики Минковского (`p`)"
   ]
  },
  {
   "cell_type": "code",
   "execution_count": 92,
   "id": "824cdebd-ea6d-40f8-89ff-4b446d9fec31",
   "metadata": {},
   "outputs": [],
   "source": [
    "from sklearn.model_selection import GridSearchCV\n",
    "\n",
    "default_KNN = KNeighborsClassifier()\n",
    "\n",
    "def gaussian_kernel(distances, h=1):\n",
    "        return np.exp(- distances**2 / h**2)\n",
    "\n",
    "parameters_grid = {\n",
    "    'n_neighbors': [5, 10, 20],\n",
    "    'weights': ['uniform', 'distance', gaussian_kernel],\n",
    "    'p': (2, 1),\n",
    "}"
   ]
  },
  {
   "cell_type": "code",
   "execution_count": 93,
   "id": "516e5986-b460-441b-ab0d-91e4280d09b2",
   "metadata": {},
   "outputs": [
    {
     "name": "stdout",
     "output_type": "stream",
     "text": [
      "Fitting 2 folds for each of 18 candidates, totalling 36 fits\n"
     ]
    },
    {
     "data": {
      "text/html": [
       "<style>#sk-container-id-4 {color: black;background-color: white;}#sk-container-id-4 pre{padding: 0;}#sk-container-id-4 div.sk-toggleable {background-color: white;}#sk-container-id-4 label.sk-toggleable__label {cursor: pointer;display: block;width: 100%;margin-bottom: 0;padding: 0.3em;box-sizing: border-box;text-align: center;}#sk-container-id-4 label.sk-toggleable__label-arrow:before {content: \"▸\";float: left;margin-right: 0.25em;color: #696969;}#sk-container-id-4 label.sk-toggleable__label-arrow:hover:before {color: black;}#sk-container-id-4 div.sk-estimator:hover label.sk-toggleable__label-arrow:before {color: black;}#sk-container-id-4 div.sk-toggleable__content {max-height: 0;max-width: 0;overflow: hidden;text-align: left;background-color: #f0f8ff;}#sk-container-id-4 div.sk-toggleable__content pre {margin: 0.2em;color: black;border-radius: 0.25em;background-color: #f0f8ff;}#sk-container-id-4 input.sk-toggleable__control:checked~div.sk-toggleable__content {max-height: 200px;max-width: 100%;overflow: auto;}#sk-container-id-4 input.sk-toggleable__control:checked~label.sk-toggleable__label-arrow:before {content: \"▾\";}#sk-container-id-4 div.sk-estimator input.sk-toggleable__control:checked~label.sk-toggleable__label {background-color: #d4ebff;}#sk-container-id-4 div.sk-label input.sk-toggleable__control:checked~label.sk-toggleable__label {background-color: #d4ebff;}#sk-container-id-4 input.sk-hidden--visually {border: 0;clip: rect(1px 1px 1px 1px);clip: rect(1px, 1px, 1px, 1px);height: 1px;margin: -1px;overflow: hidden;padding: 0;position: absolute;width: 1px;}#sk-container-id-4 div.sk-estimator {font-family: monospace;background-color: #f0f8ff;border: 1px dotted black;border-radius: 0.25em;box-sizing: border-box;margin-bottom: 0.5em;}#sk-container-id-4 div.sk-estimator:hover {background-color: #d4ebff;}#sk-container-id-4 div.sk-parallel-item::after {content: \"\";width: 100%;border-bottom: 1px solid gray;flex-grow: 1;}#sk-container-id-4 div.sk-label:hover label.sk-toggleable__label {background-color: #d4ebff;}#sk-container-id-4 div.sk-serial::before {content: \"\";position: absolute;border-left: 1px solid gray;box-sizing: border-box;top: 0;bottom: 0;left: 50%;z-index: 0;}#sk-container-id-4 div.sk-serial {display: flex;flex-direction: column;align-items: center;background-color: white;padding-right: 0.2em;padding-left: 0.2em;position: relative;}#sk-container-id-4 div.sk-item {position: relative;z-index: 1;}#sk-container-id-4 div.sk-parallel {display: flex;align-items: stretch;justify-content: center;background-color: white;position: relative;}#sk-container-id-4 div.sk-item::before, #sk-container-id-4 div.sk-parallel-item::before {content: \"\";position: absolute;border-left: 1px solid gray;box-sizing: border-box;top: 0;bottom: 0;left: 50%;z-index: -1;}#sk-container-id-4 div.sk-parallel-item {display: flex;flex-direction: column;z-index: 1;position: relative;background-color: white;}#sk-container-id-4 div.sk-parallel-item:first-child::after {align-self: flex-end;width: 50%;}#sk-container-id-4 div.sk-parallel-item:last-child::after {align-self: flex-start;width: 50%;}#sk-container-id-4 div.sk-parallel-item:only-child::after {width: 0;}#sk-container-id-4 div.sk-dashed-wrapped {border: 1px dashed gray;margin: 0 0.4em 0.5em 0.4em;box-sizing: border-box;padding-bottom: 0.4em;background-color: white;}#sk-container-id-4 div.sk-label label {font-family: monospace;font-weight: bold;display: inline-block;line-height: 1.2em;}#sk-container-id-4 div.sk-label-container {text-align: center;}#sk-container-id-4 div.sk-container {/* jupyter's `normalize.less` sets `[hidden] { display: none; }` but bootstrap.min.css set `[hidden] { display: none !important; }` so we also need the `!important` here to be able to override the default hidden behavior on the sphinx rendered scikit-learn.org. See: https://github.com/scikit-learn/scikit-learn/issues/21755 */display: inline-block !important;position: relative;}#sk-container-id-4 div.sk-text-repr-fallback {display: none;}</style><div id=\"sk-container-id-4\" class=\"sk-top-container\"><div class=\"sk-text-repr-fallback\"><pre>GridSearchCV(cv=2, estimator=KNeighborsClassifier(),\n",
       "             param_grid={&#x27;n_neighbors&#x27;: [5, 10, 20], &#x27;p&#x27;: (2, 1),\n",
       "                         &#x27;weights&#x27;: [&#x27;uniform&#x27;, &#x27;distance&#x27;,\n",
       "                                     &lt;function gaussian_kernel at 0x7f2431fcaa60&gt;]},\n",
       "             return_train_score=True, scoring=&#x27;accuracy&#x27;, verbose=1)</pre><b>In a Jupyter environment, please rerun this cell to show the HTML representation or trust the notebook. <br />On GitHub, the HTML representation is unable to render, please try loading this page with nbviewer.org.</b></div><div class=\"sk-container\" hidden><div class=\"sk-item sk-dashed-wrapped\"><div class=\"sk-label-container\"><div class=\"sk-label sk-toggleable\"><input class=\"sk-toggleable__control sk-hidden--visually\" id=\"sk-estimator-id-4\" type=\"checkbox\" ><label for=\"sk-estimator-id-4\" class=\"sk-toggleable__label sk-toggleable__label-arrow\">GridSearchCV</label><div class=\"sk-toggleable__content\"><pre>GridSearchCV(cv=2, estimator=KNeighborsClassifier(),\n",
       "             param_grid={&#x27;n_neighbors&#x27;: [5, 10, 20], &#x27;p&#x27;: (2, 1),\n",
       "                         &#x27;weights&#x27;: [&#x27;uniform&#x27;, &#x27;distance&#x27;,\n",
       "                                     &lt;function gaussian_kernel at 0x7f2431fcaa60&gt;]},\n",
       "             return_train_score=True, scoring=&#x27;accuracy&#x27;, verbose=1)</pre></div></div></div><div class=\"sk-parallel\"><div class=\"sk-parallel-item\"><div class=\"sk-item\"><div class=\"sk-label-container\"><div class=\"sk-label sk-toggleable\"><input class=\"sk-toggleable__control sk-hidden--visually\" id=\"sk-estimator-id-5\" type=\"checkbox\" ><label for=\"sk-estimator-id-5\" class=\"sk-toggleable__label sk-toggleable__label-arrow\">estimator: KNeighborsClassifier</label><div class=\"sk-toggleable__content\"><pre>KNeighborsClassifier()</pre></div></div></div><div class=\"sk-serial\"><div class=\"sk-item\"><div class=\"sk-estimator sk-toggleable\"><input class=\"sk-toggleable__control sk-hidden--visually\" id=\"sk-estimator-id-6\" type=\"checkbox\" ><label for=\"sk-estimator-id-6\" class=\"sk-toggleable__label sk-toggleable__label-arrow\">KNeighborsClassifier</label><div class=\"sk-toggleable__content\"><pre>KNeighborsClassifier()</pre></div></div></div></div></div></div></div></div></div></div>"
      ],
      "text/plain": [
       "GridSearchCV(cv=2, estimator=KNeighborsClassifier(),\n",
       "             param_grid={'n_neighbors': [5, 10, 20], 'p': (2, 1),\n",
       "                         'weights': ['uniform', 'distance',\n",
       "                                     <function gaussian_kernel at 0x7f2431fcaa60>]},\n",
       "             return_train_score=True, scoring='accuracy', verbose=1)"
      ]
     },
     "execution_count": 93,
     "metadata": {},
     "output_type": "execute_result"
    }
   ],
   "source": [
    "search_knn = GridSearchCV(\n",
    "    default_KNN,\n",
    "    parameters_grid,\n",
    "    scoring=\"accuracy\",\n",
    "    cv=2,\n",
    "    verbose=1,\n",
    "    return_train_score=True\n",
    ")\n",
    "\n",
    "search_knn.fit(xx_train, yy_train)"
   ]
  },
  {
   "cell_type": "code",
   "execution_count": 94,
   "id": "f76fc9e6-ef2e-4cb1-9cf4-15f539c1e161",
   "metadata": {},
   "outputs": [
    {
     "name": "stdout",
     "output_type": "stream",
     "text": [
      "Best parameter (CV score=0.89069):\n",
      "{'n_neighbors': 20, 'p': 2, 'weights': 'uniform'}\n"
     ]
    }
   ],
   "source": [
    "print(f\"Best parameter (CV score={search_knn.best_score_:.5f}):\")\n",
    "print(search_knn.best_params_)"
   ]
  },
  {
   "cell_type": "code",
   "execution_count": 95,
   "id": "b389edd1-041a-4045-beea-45dad405d95d",
   "metadata": {},
   "outputs": [
    {
     "data": {
      "text/html": [
       "<style>#sk-container-id-5 {color: black;background-color: white;}#sk-container-id-5 pre{padding: 0;}#sk-container-id-5 div.sk-toggleable {background-color: white;}#sk-container-id-5 label.sk-toggleable__label {cursor: pointer;display: block;width: 100%;margin-bottom: 0;padding: 0.3em;box-sizing: border-box;text-align: center;}#sk-container-id-5 label.sk-toggleable__label-arrow:before {content: \"▸\";float: left;margin-right: 0.25em;color: #696969;}#sk-container-id-5 label.sk-toggleable__label-arrow:hover:before {color: black;}#sk-container-id-5 div.sk-estimator:hover label.sk-toggleable__label-arrow:before {color: black;}#sk-container-id-5 div.sk-toggleable__content {max-height: 0;max-width: 0;overflow: hidden;text-align: left;background-color: #f0f8ff;}#sk-container-id-5 div.sk-toggleable__content pre {margin: 0.2em;color: black;border-radius: 0.25em;background-color: #f0f8ff;}#sk-container-id-5 input.sk-toggleable__control:checked~div.sk-toggleable__content {max-height: 200px;max-width: 100%;overflow: auto;}#sk-container-id-5 input.sk-toggleable__control:checked~label.sk-toggleable__label-arrow:before {content: \"▾\";}#sk-container-id-5 div.sk-estimator input.sk-toggleable__control:checked~label.sk-toggleable__label {background-color: #d4ebff;}#sk-container-id-5 div.sk-label input.sk-toggleable__control:checked~label.sk-toggleable__label {background-color: #d4ebff;}#sk-container-id-5 input.sk-hidden--visually {border: 0;clip: rect(1px 1px 1px 1px);clip: rect(1px, 1px, 1px, 1px);height: 1px;margin: -1px;overflow: hidden;padding: 0;position: absolute;width: 1px;}#sk-container-id-5 div.sk-estimator {font-family: monospace;background-color: #f0f8ff;border: 1px dotted black;border-radius: 0.25em;box-sizing: border-box;margin-bottom: 0.5em;}#sk-container-id-5 div.sk-estimator:hover {background-color: #d4ebff;}#sk-container-id-5 div.sk-parallel-item::after {content: \"\";width: 100%;border-bottom: 1px solid gray;flex-grow: 1;}#sk-container-id-5 div.sk-label:hover label.sk-toggleable__label {background-color: #d4ebff;}#sk-container-id-5 div.sk-serial::before {content: \"\";position: absolute;border-left: 1px solid gray;box-sizing: border-box;top: 0;bottom: 0;left: 50%;z-index: 0;}#sk-container-id-5 div.sk-serial {display: flex;flex-direction: column;align-items: center;background-color: white;padding-right: 0.2em;padding-left: 0.2em;position: relative;}#sk-container-id-5 div.sk-item {position: relative;z-index: 1;}#sk-container-id-5 div.sk-parallel {display: flex;align-items: stretch;justify-content: center;background-color: white;position: relative;}#sk-container-id-5 div.sk-item::before, #sk-container-id-5 div.sk-parallel-item::before {content: \"\";position: absolute;border-left: 1px solid gray;box-sizing: border-box;top: 0;bottom: 0;left: 50%;z-index: -1;}#sk-container-id-5 div.sk-parallel-item {display: flex;flex-direction: column;z-index: 1;position: relative;background-color: white;}#sk-container-id-5 div.sk-parallel-item:first-child::after {align-self: flex-end;width: 50%;}#sk-container-id-5 div.sk-parallel-item:last-child::after {align-self: flex-start;width: 50%;}#sk-container-id-5 div.sk-parallel-item:only-child::after {width: 0;}#sk-container-id-5 div.sk-dashed-wrapped {border: 1px dashed gray;margin: 0 0.4em 0.5em 0.4em;box-sizing: border-box;padding-bottom: 0.4em;background-color: white;}#sk-container-id-5 div.sk-label label {font-family: monospace;font-weight: bold;display: inline-block;line-height: 1.2em;}#sk-container-id-5 div.sk-label-container {text-align: center;}#sk-container-id-5 div.sk-container {/* jupyter's `normalize.less` sets `[hidden] { display: none; }` but bootstrap.min.css set `[hidden] { display: none !important; }` so we also need the `!important` here to be able to override the default hidden behavior on the sphinx rendered scikit-learn.org. See: https://github.com/scikit-learn/scikit-learn/issues/21755 */display: inline-block !important;position: relative;}#sk-container-id-5 div.sk-text-repr-fallback {display: none;}</style><div id=\"sk-container-id-5\" class=\"sk-top-container\"><div class=\"sk-text-repr-fallback\"><pre>KNeighborsClassifier(n_neighbors=20)</pre><b>In a Jupyter environment, please rerun this cell to show the HTML representation or trust the notebook. <br />On GitHub, the HTML representation is unable to render, please try loading this page with nbviewer.org.</b></div><div class=\"sk-container\" hidden><div class=\"sk-item\"><div class=\"sk-estimator sk-toggleable\"><input class=\"sk-toggleable__control sk-hidden--visually\" id=\"sk-estimator-id-7\" type=\"checkbox\" checked><label for=\"sk-estimator-id-7\" class=\"sk-toggleable__label sk-toggleable__label-arrow\">KNeighborsClassifier</label><div class=\"sk-toggleable__content\"><pre>KNeighborsClassifier(n_neighbors=20)</pre></div></div></div></div></div>"
      ],
      "text/plain": [
       "KNeighborsClassifier(n_neighbors=20)"
      ]
     },
     "execution_count": 95,
     "metadata": {},
     "output_type": "execute_result"
    }
   ],
   "source": [
    "knn_turbo = KNeighborsClassifier()\n",
    "knn_turbo.set_params(**search_knn.best_params_)\n",
    "knn_turbo.fit(xx_train, yy_train)"
   ]
  },
  {
   "cell_type": "code",
   "execution_count": 96,
   "id": "59b3a6fa-8c1a-4ba2-88a5-eda326296b15",
   "metadata": {},
   "outputs": [
    {
     "name": "stdout",
     "output_type": "stream",
     "text": [
      "Accuracy на тренировочной выборке составило 0.897\n",
      "Accuracy на тестовой выборке составило 0.874\n"
     ]
    }
   ],
   "source": [
    "train_preds = knn.predict(xx_train) \n",
    "train_accuracy = np.mean(train_preds == yy_train.values)\n",
    "\n",
    "test_preds = knn.predict(xx_test) \n",
    "test_accuracy = np.mean(test_preds == yy_test.values)\n",
    "\n",
    "print(f\"Accuracy на тренировочной выборке составило \\\n",
    "{np.round(train_accuracy, decimals=3)}\")\n",
    "print(f\"Accuracy на тестовой выборке составило \\\n",
    "{np.round(test_accuracy, decimals=3)}\")"
   ]
  },
  {
   "cell_type": "markdown",
   "id": "a34a1ce7-1b98-4abe-9adf-6511f40f0f09",
   "metadata": {},
   "source": [
    "После настройки параметров качество модели не изменилось."
   ]
  },
  {
   "cell_type": "code",
   "execution_count": 97,
   "id": "1c397a74-7d5f-4108-ab19-f2fe172284ed",
   "metadata": {},
   "outputs": [],
   "source": [
    "y_pred = knn_turbo.predict_proba(X_test)[:,1]"
   ]
  },
  {
   "cell_type": "code",
   "execution_count": 98,
   "id": "5a3ac066-fbc5-4200-bb03-f3f23a2fd564",
   "metadata": {},
   "outputs": [
    {
     "data": {
      "text/plain": [
       "(0.0, 0.07335692618806877, 0.6)"
      ]
     },
     "execution_count": 98,
     "metadata": {},
     "output_type": "execute_result"
    }
   ],
   "source": [
    "y_pred.min(), y_pred.mean(), y_pred.max()"
   ]
  },
  {
   "cell_type": "markdown",
   "id": "05a22c71-e0b5-4999-8e2c-e43f4233922f",
   "metadata": {},
   "source": [
    "***3) SVM***"
   ]
  },
  {
   "cell_type": "code",
   "execution_count": 99,
   "id": "adc83286-c25c-4f9e-9bc0-3b2dc4f95c1b",
   "metadata": {},
   "outputs": [],
   "source": [
    "from sklearn.svm import SVC"
   ]
  },
  {
   "cell_type": "code",
   "execution_count": 100,
   "id": "fafd232b-d99e-4187-a6ed-503eee059178",
   "metadata": {},
   "outputs": [],
   "source": [
    "svm = SVC(probability=True)"
   ]
  },
  {
   "cell_type": "markdown",
   "id": "e846ce4f-d070-4745-b758-e4be61b8bc8c",
   "metadata": {},
   "source": [
    "Найдем лучшие гиперпараметры для `SVM`."
   ]
  },
  {
   "cell_type": "code",
   "execution_count": 101,
   "id": "91419c6e-ea0e-4ea8-8d8c-8a57a0b596ee",
   "metadata": {},
   "outputs": [
    {
     "data": {
      "text/html": [
       "<style>#sk-container-id-6 {color: black;background-color: white;}#sk-container-id-6 pre{padding: 0;}#sk-container-id-6 div.sk-toggleable {background-color: white;}#sk-container-id-6 label.sk-toggleable__label {cursor: pointer;display: block;width: 100%;margin-bottom: 0;padding: 0.3em;box-sizing: border-box;text-align: center;}#sk-container-id-6 label.sk-toggleable__label-arrow:before {content: \"▸\";float: left;margin-right: 0.25em;color: #696969;}#sk-container-id-6 label.sk-toggleable__label-arrow:hover:before {color: black;}#sk-container-id-6 div.sk-estimator:hover label.sk-toggleable__label-arrow:before {color: black;}#sk-container-id-6 div.sk-toggleable__content {max-height: 0;max-width: 0;overflow: hidden;text-align: left;background-color: #f0f8ff;}#sk-container-id-6 div.sk-toggleable__content pre {margin: 0.2em;color: black;border-radius: 0.25em;background-color: #f0f8ff;}#sk-container-id-6 input.sk-toggleable__control:checked~div.sk-toggleable__content {max-height: 200px;max-width: 100%;overflow: auto;}#sk-container-id-6 input.sk-toggleable__control:checked~label.sk-toggleable__label-arrow:before {content: \"▾\";}#sk-container-id-6 div.sk-estimator input.sk-toggleable__control:checked~label.sk-toggleable__label {background-color: #d4ebff;}#sk-container-id-6 div.sk-label input.sk-toggleable__control:checked~label.sk-toggleable__label {background-color: #d4ebff;}#sk-container-id-6 input.sk-hidden--visually {border: 0;clip: rect(1px 1px 1px 1px);clip: rect(1px, 1px, 1px, 1px);height: 1px;margin: -1px;overflow: hidden;padding: 0;position: absolute;width: 1px;}#sk-container-id-6 div.sk-estimator {font-family: monospace;background-color: #f0f8ff;border: 1px dotted black;border-radius: 0.25em;box-sizing: border-box;margin-bottom: 0.5em;}#sk-container-id-6 div.sk-estimator:hover {background-color: #d4ebff;}#sk-container-id-6 div.sk-parallel-item::after {content: \"\";width: 100%;border-bottom: 1px solid gray;flex-grow: 1;}#sk-container-id-6 div.sk-label:hover label.sk-toggleable__label {background-color: #d4ebff;}#sk-container-id-6 div.sk-serial::before {content: \"\";position: absolute;border-left: 1px solid gray;box-sizing: border-box;top: 0;bottom: 0;left: 50%;z-index: 0;}#sk-container-id-6 div.sk-serial {display: flex;flex-direction: column;align-items: center;background-color: white;padding-right: 0.2em;padding-left: 0.2em;position: relative;}#sk-container-id-6 div.sk-item {position: relative;z-index: 1;}#sk-container-id-6 div.sk-parallel {display: flex;align-items: stretch;justify-content: center;background-color: white;position: relative;}#sk-container-id-6 div.sk-item::before, #sk-container-id-6 div.sk-parallel-item::before {content: \"\";position: absolute;border-left: 1px solid gray;box-sizing: border-box;top: 0;bottom: 0;left: 50%;z-index: -1;}#sk-container-id-6 div.sk-parallel-item {display: flex;flex-direction: column;z-index: 1;position: relative;background-color: white;}#sk-container-id-6 div.sk-parallel-item:first-child::after {align-self: flex-end;width: 50%;}#sk-container-id-6 div.sk-parallel-item:last-child::after {align-self: flex-start;width: 50%;}#sk-container-id-6 div.sk-parallel-item:only-child::after {width: 0;}#sk-container-id-6 div.sk-dashed-wrapped {border: 1px dashed gray;margin: 0 0.4em 0.5em 0.4em;box-sizing: border-box;padding-bottom: 0.4em;background-color: white;}#sk-container-id-6 div.sk-label label {font-family: monospace;font-weight: bold;display: inline-block;line-height: 1.2em;}#sk-container-id-6 div.sk-label-container {text-align: center;}#sk-container-id-6 div.sk-container {/* jupyter's `normalize.less` sets `[hidden] { display: none; }` but bootstrap.min.css set `[hidden] { display: none !important; }` so we also need the `!important` here to be able to override the default hidden behavior on the sphinx rendered scikit-learn.org. See: https://github.com/scikit-learn/scikit-learn/issues/21755 */display: inline-block !important;position: relative;}#sk-container-id-6 div.sk-text-repr-fallback {display: none;}</style><div id=\"sk-container-id-6\" class=\"sk-top-container\"><div class=\"sk-text-repr-fallback\"><pre>GridSearchCV(cv=[([0, 1, 2, 3, 4, 5, 6, 7, 8, 9, 10, 11, 12, 13, 14, 15, 16, 17,\n",
       "                   18, 19, 20, 21, 22, 23, 24, 25, 26, 27, 28, 29, ...],\n",
       "                  [0, 1, 2, 3, 4, 5, 6, 7, 8, 9, 10, 11, 12, 13, 14, 15, 16, 17,\n",
       "                   18, 19, 20, 21, 22, 23, 24, 25, 26, 27, 28, 29, ...])],\n",
       "             estimator=SVC(probability=True),\n",
       "             param_grid={&#x27;C&#x27;: [1, 0.5, 3],\n",
       "                         &#x27;kernel&#x27;: [&#x27;linear&#x27;, &#x27;rbf&#x27;, &#x27;sigmoid&#x27;]},\n",
       "             return_train_score=True, scoring=&#x27;accuracy&#x27;)</pre><b>In a Jupyter environment, please rerun this cell to show the HTML representation or trust the notebook. <br />On GitHub, the HTML representation is unable to render, please try loading this page with nbviewer.org.</b></div><div class=\"sk-container\" hidden><div class=\"sk-item sk-dashed-wrapped\"><div class=\"sk-label-container\"><div class=\"sk-label sk-toggleable\"><input class=\"sk-toggleable__control sk-hidden--visually\" id=\"sk-estimator-id-8\" type=\"checkbox\" ><label for=\"sk-estimator-id-8\" class=\"sk-toggleable__label sk-toggleable__label-arrow\">GridSearchCV</label><div class=\"sk-toggleable__content\"><pre>GridSearchCV(cv=[([0, 1, 2, 3, 4, 5, 6, 7, 8, 9, 10, 11, 12, 13, 14, 15, 16, 17,\n",
       "                   18, 19, 20, 21, 22, 23, 24, 25, 26, 27, 28, 29, ...],\n",
       "                  [0, 1, 2, 3, 4, 5, 6, 7, 8, 9, 10, 11, 12, 13, 14, 15, 16, 17,\n",
       "                   18, 19, 20, 21, 22, 23, 24, 25, 26, 27, 28, 29, ...])],\n",
       "             estimator=SVC(probability=True),\n",
       "             param_grid={&#x27;C&#x27;: [1, 0.5, 3],\n",
       "                         &#x27;kernel&#x27;: [&#x27;linear&#x27;, &#x27;rbf&#x27;, &#x27;sigmoid&#x27;]},\n",
       "             return_train_score=True, scoring=&#x27;accuracy&#x27;)</pre></div></div></div><div class=\"sk-parallel\"><div class=\"sk-parallel-item\"><div class=\"sk-item\"><div class=\"sk-label-container\"><div class=\"sk-label sk-toggleable\"><input class=\"sk-toggleable__control sk-hidden--visually\" id=\"sk-estimator-id-9\" type=\"checkbox\" ><label for=\"sk-estimator-id-9\" class=\"sk-toggleable__label sk-toggleable__label-arrow\">estimator: SVC</label><div class=\"sk-toggleable__content\"><pre>SVC(probability=True)</pre></div></div></div><div class=\"sk-serial\"><div class=\"sk-item\"><div class=\"sk-estimator sk-toggleable\"><input class=\"sk-toggleable__control sk-hidden--visually\" id=\"sk-estimator-id-10\" type=\"checkbox\" ><label for=\"sk-estimator-id-10\" class=\"sk-toggleable__label sk-toggleable__label-arrow\">SVC</label><div class=\"sk-toggleable__content\"><pre>SVC(probability=True)</pre></div></div></div></div></div></div></div></div></div></div>"
      ],
      "text/plain": [
       "GridSearchCV(cv=[([0, 1, 2, 3, 4, 5, 6, 7, 8, 9, 10, 11, 12, 13, 14, 15, 16, 17,\n",
       "                   18, 19, 20, 21, 22, 23, 24, 25, 26, 27, 28, 29, ...],\n",
       "                  [0, 1, 2, 3, 4, 5, 6, 7, 8, 9, 10, 11, 12, 13, 14, 15, 16, 17,\n",
       "                   18, 19, 20, 21, 22, 23, 24, 25, 26, 27, 28, 29, ...])],\n",
       "             estimator=SVC(probability=True),\n",
       "             param_grid={'C': [1, 0.5, 3],\n",
       "                         'kernel': ['linear', 'rbf', 'sigmoid']},\n",
       "             return_train_score=True, scoring='accuracy')"
      ]
     },
     "execution_count": 101,
     "metadata": {},
     "output_type": "execute_result"
    }
   ],
   "source": [
    "from sklearn.model_selection import GridSearchCV\n",
    "\n",
    "custom_cv = [(X_train.index.to_list(), X_test.index.to_list())]\n",
    "\n",
    "svm_parameters_grid = {\n",
    "    'C': [1, 0.5, 3],\n",
    "    'kernel': ['linear', 'rbf', 'sigmoid']\n",
    "}\n",
    "\n",
    "search_svm = GridSearchCV(\n",
    "    svm,\n",
    "    svm_parameters_grid,\n",
    "    scoring=\"accuracy\",\n",
    "    cv=custom_cv,\n",
    "    return_train_score=True\n",
    ")\n",
    "\n",
    "search_svm.fit(X_train, Y_train)"
   ]
  },
  {
   "cell_type": "code",
   "execution_count": 102,
   "id": "80fcd48d-0c6c-4cdd-9758-990996b39265",
   "metadata": {},
   "outputs": [
    {
     "data": {
      "text/plain": [
       "{'C': 1, 'kernel': 'rbf'}"
      ]
     },
     "execution_count": 102,
     "metadata": {},
     "output_type": "execute_result"
    }
   ],
   "source": [
    "search_svm.best_params_"
   ]
  },
  {
   "cell_type": "code",
   "execution_count": 103,
   "id": "fea42024-5802-4f1d-a1bf-bf426511eaeb",
   "metadata": {},
   "outputs": [
    {
     "data": {
      "text/html": [
       "<style>#sk-container-id-7 {color: black;background-color: white;}#sk-container-id-7 pre{padding: 0;}#sk-container-id-7 div.sk-toggleable {background-color: white;}#sk-container-id-7 label.sk-toggleable__label {cursor: pointer;display: block;width: 100%;margin-bottom: 0;padding: 0.3em;box-sizing: border-box;text-align: center;}#sk-container-id-7 label.sk-toggleable__label-arrow:before {content: \"▸\";float: left;margin-right: 0.25em;color: #696969;}#sk-container-id-7 label.sk-toggleable__label-arrow:hover:before {color: black;}#sk-container-id-7 div.sk-estimator:hover label.sk-toggleable__label-arrow:before {color: black;}#sk-container-id-7 div.sk-toggleable__content {max-height: 0;max-width: 0;overflow: hidden;text-align: left;background-color: #f0f8ff;}#sk-container-id-7 div.sk-toggleable__content pre {margin: 0.2em;color: black;border-radius: 0.25em;background-color: #f0f8ff;}#sk-container-id-7 input.sk-toggleable__control:checked~div.sk-toggleable__content {max-height: 200px;max-width: 100%;overflow: auto;}#sk-container-id-7 input.sk-toggleable__control:checked~label.sk-toggleable__label-arrow:before {content: \"▾\";}#sk-container-id-7 div.sk-estimator input.sk-toggleable__control:checked~label.sk-toggleable__label {background-color: #d4ebff;}#sk-container-id-7 div.sk-label input.sk-toggleable__control:checked~label.sk-toggleable__label {background-color: #d4ebff;}#sk-container-id-7 input.sk-hidden--visually {border: 0;clip: rect(1px 1px 1px 1px);clip: rect(1px, 1px, 1px, 1px);height: 1px;margin: -1px;overflow: hidden;padding: 0;position: absolute;width: 1px;}#sk-container-id-7 div.sk-estimator {font-family: monospace;background-color: #f0f8ff;border: 1px dotted black;border-radius: 0.25em;box-sizing: border-box;margin-bottom: 0.5em;}#sk-container-id-7 div.sk-estimator:hover {background-color: #d4ebff;}#sk-container-id-7 div.sk-parallel-item::after {content: \"\";width: 100%;border-bottom: 1px solid gray;flex-grow: 1;}#sk-container-id-7 div.sk-label:hover label.sk-toggleable__label {background-color: #d4ebff;}#sk-container-id-7 div.sk-serial::before {content: \"\";position: absolute;border-left: 1px solid gray;box-sizing: border-box;top: 0;bottom: 0;left: 50%;z-index: 0;}#sk-container-id-7 div.sk-serial {display: flex;flex-direction: column;align-items: center;background-color: white;padding-right: 0.2em;padding-left: 0.2em;position: relative;}#sk-container-id-7 div.sk-item {position: relative;z-index: 1;}#sk-container-id-7 div.sk-parallel {display: flex;align-items: stretch;justify-content: center;background-color: white;position: relative;}#sk-container-id-7 div.sk-item::before, #sk-container-id-7 div.sk-parallel-item::before {content: \"\";position: absolute;border-left: 1px solid gray;box-sizing: border-box;top: 0;bottom: 0;left: 50%;z-index: -1;}#sk-container-id-7 div.sk-parallel-item {display: flex;flex-direction: column;z-index: 1;position: relative;background-color: white;}#sk-container-id-7 div.sk-parallel-item:first-child::after {align-self: flex-end;width: 50%;}#sk-container-id-7 div.sk-parallel-item:last-child::after {align-self: flex-start;width: 50%;}#sk-container-id-7 div.sk-parallel-item:only-child::after {width: 0;}#sk-container-id-7 div.sk-dashed-wrapped {border: 1px dashed gray;margin: 0 0.4em 0.5em 0.4em;box-sizing: border-box;padding-bottom: 0.4em;background-color: white;}#sk-container-id-7 div.sk-label label {font-family: monospace;font-weight: bold;display: inline-block;line-height: 1.2em;}#sk-container-id-7 div.sk-label-container {text-align: center;}#sk-container-id-7 div.sk-container {/* jupyter's `normalize.less` sets `[hidden] { display: none; }` but bootstrap.min.css set `[hidden] { display: none !important; }` so we also need the `!important` here to be able to override the default hidden behavior on the sphinx rendered scikit-learn.org. See: https://github.com/scikit-learn/scikit-learn/issues/21755 */display: inline-block !important;position: relative;}#sk-container-id-7 div.sk-text-repr-fallback {display: none;}</style><div id=\"sk-container-id-7\" class=\"sk-top-container\"><div class=\"sk-text-repr-fallback\"><pre>SVC(C=1, probability=True)</pre><b>In a Jupyter environment, please rerun this cell to show the HTML representation or trust the notebook. <br />On GitHub, the HTML representation is unable to render, please try loading this page with nbviewer.org.</b></div><div class=\"sk-container\" hidden><div class=\"sk-item\"><div class=\"sk-estimator sk-toggleable\"><input class=\"sk-toggleable__control sk-hidden--visually\" id=\"sk-estimator-id-11\" type=\"checkbox\" checked><label for=\"sk-estimator-id-11\" class=\"sk-toggleable__label sk-toggleable__label-arrow\">SVC</label><div class=\"sk-toggleable__content\"><pre>SVC(C=1, probability=True)</pre></div></div></div></div></div>"
      ],
      "text/plain": [
       "SVC(C=1, probability=True)"
      ]
     },
     "execution_count": 103,
     "metadata": {},
     "output_type": "execute_result"
    }
   ],
   "source": [
    "svm.set_params(**search_svm.best_params_)\n",
    "\n",
    "svm.fit(X_train, Y_train)"
   ]
  },
  {
   "cell_type": "code",
   "execution_count": 104,
   "id": "db2afc8b-6b9a-4be3-86f5-e05a2ed2ad87",
   "metadata": {},
   "outputs": [
    {
     "name": "stdout",
     "output_type": "stream",
     "text": [
      "Accuracy на тренировочной выборке составило 0.889\n",
      "Accuracy на тестовой выборке составило 0.89\n"
     ]
    }
   ],
   "source": [
    "train_preds = svm.predict(xx_train) \n",
    "train_accuracy = np.mean(train_preds == yy_train.values)\n",
    "\n",
    "test_preds = svm.predict(xx_test) \n",
    "test_accuracy = np.mean(test_preds == yy_test.values)\n",
    "\n",
    "print(f\"Accuracy на тренировочной выборке составило \\\n",
    "{np.round(train_accuracy, decimals=3)}\")\n",
    "print(f\"Accuracy на тестовой выборке составило \\\n",
    "{np.round(test_accuracy, decimals=3)}\")"
   ]
  },
  {
   "cell_type": "code",
   "execution_count": 105,
   "id": "253d5680-252e-4c63-ab80-2ba91b2eb471",
   "metadata": {},
   "outputs": [],
   "source": [
    "y_pred = svm.predict_proba(X_test)[:,1]"
   ]
  },
  {
   "cell_type": "code",
   "execution_count": 106,
   "id": "7f95802e-f0f9-4ec3-8194-855fac83f449",
   "metadata": {},
   "outputs": [
    {
     "data": {
      "text/plain": [
       "(0.04801104511607294, 0.07662866705114334, 0.31949668623381783)"
      ]
     },
     "execution_count": 106,
     "metadata": {},
     "output_type": "execute_result"
    }
   ],
   "source": [
    "y_pred.min(), y_pred.mean(), y_pred.max()"
   ]
  },
  {
   "cell_type": "markdown",
   "id": "a63e78f1-57d5-44c3-8900-47fedaf2c782",
   "metadata": {},
   "source": [
    "При высоком значении accuracy выходы модели на тестовой выборке выглядят ошибочными."
   ]
  },
  {
   "cell_type": "markdown",
   "id": "a03d6660-458f-4758-a79a-692b97b7f207",
   "metadata": {},
   "source": [
    "***4) RandomForest***"
   ]
  },
  {
   "cell_type": "code",
   "execution_count": 107,
   "id": "375be907-b880-4b01-abf2-8207a4bd192e",
   "metadata": {},
   "outputs": [],
   "source": [
    "from sklearn.ensemble import RandomForestClassifier"
   ]
  },
  {
   "cell_type": "code",
   "execution_count": 108,
   "id": "e58c9e66-2a36-42c6-82a8-277a5fbc0277",
   "metadata": {},
   "outputs": [],
   "source": [
    "rf = RandomForestClassifier()"
   ]
  },
  {
   "cell_type": "markdown",
   "id": "5b8ca254-a2ba-4b53-a862-567f08513e71",
   "metadata": {},
   "source": [
    "Найдем лучшие гиперпараметры для `RandomForest` и оценим качество на трейне"
   ]
  },
  {
   "cell_type": "code",
   "execution_count": 109,
   "id": "865cdceb-682c-4046-b0a4-0bcc37be01eb",
   "metadata": {},
   "outputs": [
    {
     "data": {
      "text/html": [
       "<style>#sk-container-id-8 {color: black;background-color: white;}#sk-container-id-8 pre{padding: 0;}#sk-container-id-8 div.sk-toggleable {background-color: white;}#sk-container-id-8 label.sk-toggleable__label {cursor: pointer;display: block;width: 100%;margin-bottom: 0;padding: 0.3em;box-sizing: border-box;text-align: center;}#sk-container-id-8 label.sk-toggleable__label-arrow:before {content: \"▸\";float: left;margin-right: 0.25em;color: #696969;}#sk-container-id-8 label.sk-toggleable__label-arrow:hover:before {color: black;}#sk-container-id-8 div.sk-estimator:hover label.sk-toggleable__label-arrow:before {color: black;}#sk-container-id-8 div.sk-toggleable__content {max-height: 0;max-width: 0;overflow: hidden;text-align: left;background-color: #f0f8ff;}#sk-container-id-8 div.sk-toggleable__content pre {margin: 0.2em;color: black;border-radius: 0.25em;background-color: #f0f8ff;}#sk-container-id-8 input.sk-toggleable__control:checked~div.sk-toggleable__content {max-height: 200px;max-width: 100%;overflow: auto;}#sk-container-id-8 input.sk-toggleable__control:checked~label.sk-toggleable__label-arrow:before {content: \"▾\";}#sk-container-id-8 div.sk-estimator input.sk-toggleable__control:checked~label.sk-toggleable__label {background-color: #d4ebff;}#sk-container-id-8 div.sk-label input.sk-toggleable__control:checked~label.sk-toggleable__label {background-color: #d4ebff;}#sk-container-id-8 input.sk-hidden--visually {border: 0;clip: rect(1px 1px 1px 1px);clip: rect(1px, 1px, 1px, 1px);height: 1px;margin: -1px;overflow: hidden;padding: 0;position: absolute;width: 1px;}#sk-container-id-8 div.sk-estimator {font-family: monospace;background-color: #f0f8ff;border: 1px dotted black;border-radius: 0.25em;box-sizing: border-box;margin-bottom: 0.5em;}#sk-container-id-8 div.sk-estimator:hover {background-color: #d4ebff;}#sk-container-id-8 div.sk-parallel-item::after {content: \"\";width: 100%;border-bottom: 1px solid gray;flex-grow: 1;}#sk-container-id-8 div.sk-label:hover label.sk-toggleable__label {background-color: #d4ebff;}#sk-container-id-8 div.sk-serial::before {content: \"\";position: absolute;border-left: 1px solid gray;box-sizing: border-box;top: 0;bottom: 0;left: 50%;z-index: 0;}#sk-container-id-8 div.sk-serial {display: flex;flex-direction: column;align-items: center;background-color: white;padding-right: 0.2em;padding-left: 0.2em;position: relative;}#sk-container-id-8 div.sk-item {position: relative;z-index: 1;}#sk-container-id-8 div.sk-parallel {display: flex;align-items: stretch;justify-content: center;background-color: white;position: relative;}#sk-container-id-8 div.sk-item::before, #sk-container-id-8 div.sk-parallel-item::before {content: \"\";position: absolute;border-left: 1px solid gray;box-sizing: border-box;top: 0;bottom: 0;left: 50%;z-index: -1;}#sk-container-id-8 div.sk-parallel-item {display: flex;flex-direction: column;z-index: 1;position: relative;background-color: white;}#sk-container-id-8 div.sk-parallel-item:first-child::after {align-self: flex-end;width: 50%;}#sk-container-id-8 div.sk-parallel-item:last-child::after {align-self: flex-start;width: 50%;}#sk-container-id-8 div.sk-parallel-item:only-child::after {width: 0;}#sk-container-id-8 div.sk-dashed-wrapped {border: 1px dashed gray;margin: 0 0.4em 0.5em 0.4em;box-sizing: border-box;padding-bottom: 0.4em;background-color: white;}#sk-container-id-8 div.sk-label label {font-family: monospace;font-weight: bold;display: inline-block;line-height: 1.2em;}#sk-container-id-8 div.sk-label-container {text-align: center;}#sk-container-id-8 div.sk-container {/* jupyter's `normalize.less` sets `[hidden] { display: none; }` but bootstrap.min.css set `[hidden] { display: none !important; }` so we also need the `!important` here to be able to override the default hidden behavior on the sphinx rendered scikit-learn.org. See: https://github.com/scikit-learn/scikit-learn/issues/21755 */display: inline-block !important;position: relative;}#sk-container-id-8 div.sk-text-repr-fallback {display: none;}</style><div id=\"sk-container-id-8\" class=\"sk-top-container\"><div class=\"sk-text-repr-fallback\"><pre>GridSearchCV(cv=[([0, 1, 2, 3, 4, 5, 6, 7, 8, 9, 10, 11, 12, 13, 14, 15, 16, 17,\n",
       "                   18, 19, 20, 21, 22, 23, 24, 25, 26, 27, 28, 29, ...],\n",
       "                  [0, 1, 2, 3, 4, 5, 6, 7, 8, 9, 10, 11, 12, 13, 14, 15, 16, 17,\n",
       "                   18, 19, 20, 21, 22, 23, 24, 25, 26, 27, 28, 29, ...])],\n",
       "             estimator=RandomForestClassifier(),\n",
       "             param_grid={&#x27;max_depth&#x27;: [5, 15, 30, None],\n",
       "                         &#x27;n_estimators&#x27;: [10, 100, 200]},\n",
       "             return_train_score=True, scoring=&#x27;accuracy&#x27;)</pre><b>In a Jupyter environment, please rerun this cell to show the HTML representation or trust the notebook. <br />On GitHub, the HTML representation is unable to render, please try loading this page with nbviewer.org.</b></div><div class=\"sk-container\" hidden><div class=\"sk-item sk-dashed-wrapped\"><div class=\"sk-label-container\"><div class=\"sk-label sk-toggleable\"><input class=\"sk-toggleable__control sk-hidden--visually\" id=\"sk-estimator-id-12\" type=\"checkbox\" ><label for=\"sk-estimator-id-12\" class=\"sk-toggleable__label sk-toggleable__label-arrow\">GridSearchCV</label><div class=\"sk-toggleable__content\"><pre>GridSearchCV(cv=[([0, 1, 2, 3, 4, 5, 6, 7, 8, 9, 10, 11, 12, 13, 14, 15, 16, 17,\n",
       "                   18, 19, 20, 21, 22, 23, 24, 25, 26, 27, 28, 29, ...],\n",
       "                  [0, 1, 2, 3, 4, 5, 6, 7, 8, 9, 10, 11, 12, 13, 14, 15, 16, 17,\n",
       "                   18, 19, 20, 21, 22, 23, 24, 25, 26, 27, 28, 29, ...])],\n",
       "             estimator=RandomForestClassifier(),\n",
       "             param_grid={&#x27;max_depth&#x27;: [5, 15, 30, None],\n",
       "                         &#x27;n_estimators&#x27;: [10, 100, 200]},\n",
       "             return_train_score=True, scoring=&#x27;accuracy&#x27;)</pre></div></div></div><div class=\"sk-parallel\"><div class=\"sk-parallel-item\"><div class=\"sk-item\"><div class=\"sk-label-container\"><div class=\"sk-label sk-toggleable\"><input class=\"sk-toggleable__control sk-hidden--visually\" id=\"sk-estimator-id-13\" type=\"checkbox\" ><label for=\"sk-estimator-id-13\" class=\"sk-toggleable__label sk-toggleable__label-arrow\">estimator: RandomForestClassifier</label><div class=\"sk-toggleable__content\"><pre>RandomForestClassifier()</pre></div></div></div><div class=\"sk-serial\"><div class=\"sk-item\"><div class=\"sk-estimator sk-toggleable\"><input class=\"sk-toggleable__control sk-hidden--visually\" id=\"sk-estimator-id-14\" type=\"checkbox\" ><label for=\"sk-estimator-id-14\" class=\"sk-toggleable__label sk-toggleable__label-arrow\">RandomForestClassifier</label><div class=\"sk-toggleable__content\"><pre>RandomForestClassifier()</pre></div></div></div></div></div></div></div></div></div></div>"
      ],
      "text/plain": [
       "GridSearchCV(cv=[([0, 1, 2, 3, 4, 5, 6, 7, 8, 9, 10, 11, 12, 13, 14, 15, 16, 17,\n",
       "                   18, 19, 20, 21, 22, 23, 24, 25, 26, 27, 28, 29, ...],\n",
       "                  [0, 1, 2, 3, 4, 5, 6, 7, 8, 9, 10, 11, 12, 13, 14, 15, 16, 17,\n",
       "                   18, 19, 20, 21, 22, 23, 24, 25, 26, 27, 28, 29, ...])],\n",
       "             estimator=RandomForestClassifier(),\n",
       "             param_grid={'max_depth': [5, 15, 30, None],\n",
       "                         'n_estimators': [10, 100, 200]},\n",
       "             return_train_score=True, scoring='accuracy')"
      ]
     },
     "execution_count": 109,
     "metadata": {},
     "output_type": "execute_result"
    }
   ],
   "source": [
    "from sklearn.model_selection import GridSearchCV\n",
    "\n",
    "custom_cv = [(X_train.index.to_list(), X_test.index.to_list())]\n",
    "\n",
    "rf_parameters_grid = {\n",
    "    'n_estimators': [10, 100, 200],\n",
    "    'max_depth': [5, 15, 30, None]\n",
    "}\n",
    "\n",
    "search_rf = GridSearchCV(\n",
    "    rf,\n",
    "    rf_parameters_grid,\n",
    "    scoring=\"accuracy\",\n",
    "    cv=custom_cv,\n",
    "    return_train_score=True\n",
    ")\n",
    "\n",
    "search_rf.fit(X_train, Y_train)"
   ]
  },
  {
   "cell_type": "code",
   "execution_count": 110,
   "id": "ce853bc9-2ccb-4827-81a0-b572353a2779",
   "metadata": {},
   "outputs": [
    {
     "data": {
      "text/plain": [
       "{'max_depth': 30, 'n_estimators': 100}"
      ]
     },
     "execution_count": 110,
     "metadata": {},
     "output_type": "execute_result"
    }
   ],
   "source": [
    "search_rf.best_params_"
   ]
  },
  {
   "cell_type": "code",
   "execution_count": 111,
   "id": "76b95a17-9fa9-4819-86b8-18a6cca5e860",
   "metadata": {},
   "outputs": [
    {
     "data": {
      "text/html": [
       "<style>#sk-container-id-9 {color: black;background-color: white;}#sk-container-id-9 pre{padding: 0;}#sk-container-id-9 div.sk-toggleable {background-color: white;}#sk-container-id-9 label.sk-toggleable__label {cursor: pointer;display: block;width: 100%;margin-bottom: 0;padding: 0.3em;box-sizing: border-box;text-align: center;}#sk-container-id-9 label.sk-toggleable__label-arrow:before {content: \"▸\";float: left;margin-right: 0.25em;color: #696969;}#sk-container-id-9 label.sk-toggleable__label-arrow:hover:before {color: black;}#sk-container-id-9 div.sk-estimator:hover label.sk-toggleable__label-arrow:before {color: black;}#sk-container-id-9 div.sk-toggleable__content {max-height: 0;max-width: 0;overflow: hidden;text-align: left;background-color: #f0f8ff;}#sk-container-id-9 div.sk-toggleable__content pre {margin: 0.2em;color: black;border-radius: 0.25em;background-color: #f0f8ff;}#sk-container-id-9 input.sk-toggleable__control:checked~div.sk-toggleable__content {max-height: 200px;max-width: 100%;overflow: auto;}#sk-container-id-9 input.sk-toggleable__control:checked~label.sk-toggleable__label-arrow:before {content: \"▾\";}#sk-container-id-9 div.sk-estimator input.sk-toggleable__control:checked~label.sk-toggleable__label {background-color: #d4ebff;}#sk-container-id-9 div.sk-label input.sk-toggleable__control:checked~label.sk-toggleable__label {background-color: #d4ebff;}#sk-container-id-9 input.sk-hidden--visually {border: 0;clip: rect(1px 1px 1px 1px);clip: rect(1px, 1px, 1px, 1px);height: 1px;margin: -1px;overflow: hidden;padding: 0;position: absolute;width: 1px;}#sk-container-id-9 div.sk-estimator {font-family: monospace;background-color: #f0f8ff;border: 1px dotted black;border-radius: 0.25em;box-sizing: border-box;margin-bottom: 0.5em;}#sk-container-id-9 div.sk-estimator:hover {background-color: #d4ebff;}#sk-container-id-9 div.sk-parallel-item::after {content: \"\";width: 100%;border-bottom: 1px solid gray;flex-grow: 1;}#sk-container-id-9 div.sk-label:hover label.sk-toggleable__label {background-color: #d4ebff;}#sk-container-id-9 div.sk-serial::before {content: \"\";position: absolute;border-left: 1px solid gray;box-sizing: border-box;top: 0;bottom: 0;left: 50%;z-index: 0;}#sk-container-id-9 div.sk-serial {display: flex;flex-direction: column;align-items: center;background-color: white;padding-right: 0.2em;padding-left: 0.2em;position: relative;}#sk-container-id-9 div.sk-item {position: relative;z-index: 1;}#sk-container-id-9 div.sk-parallel {display: flex;align-items: stretch;justify-content: center;background-color: white;position: relative;}#sk-container-id-9 div.sk-item::before, #sk-container-id-9 div.sk-parallel-item::before {content: \"\";position: absolute;border-left: 1px solid gray;box-sizing: border-box;top: 0;bottom: 0;left: 50%;z-index: -1;}#sk-container-id-9 div.sk-parallel-item {display: flex;flex-direction: column;z-index: 1;position: relative;background-color: white;}#sk-container-id-9 div.sk-parallel-item:first-child::after {align-self: flex-end;width: 50%;}#sk-container-id-9 div.sk-parallel-item:last-child::after {align-self: flex-start;width: 50%;}#sk-container-id-9 div.sk-parallel-item:only-child::after {width: 0;}#sk-container-id-9 div.sk-dashed-wrapped {border: 1px dashed gray;margin: 0 0.4em 0.5em 0.4em;box-sizing: border-box;padding-bottom: 0.4em;background-color: white;}#sk-container-id-9 div.sk-label label {font-family: monospace;font-weight: bold;display: inline-block;line-height: 1.2em;}#sk-container-id-9 div.sk-label-container {text-align: center;}#sk-container-id-9 div.sk-container {/* jupyter's `normalize.less` sets `[hidden] { display: none; }` but bootstrap.min.css set `[hidden] { display: none !important; }` so we also need the `!important` here to be able to override the default hidden behavior on the sphinx rendered scikit-learn.org. See: https://github.com/scikit-learn/scikit-learn/issues/21755 */display: inline-block !important;position: relative;}#sk-container-id-9 div.sk-text-repr-fallback {display: none;}</style><div id=\"sk-container-id-9\" class=\"sk-top-container\"><div class=\"sk-text-repr-fallback\"><pre>RandomForestClassifier(max_depth=30)</pre><b>In a Jupyter environment, please rerun this cell to show the HTML representation or trust the notebook. <br />On GitHub, the HTML representation is unable to render, please try loading this page with nbviewer.org.</b></div><div class=\"sk-container\" hidden><div class=\"sk-item\"><div class=\"sk-estimator sk-toggleable\"><input class=\"sk-toggleable__control sk-hidden--visually\" id=\"sk-estimator-id-15\" type=\"checkbox\" checked><label for=\"sk-estimator-id-15\" class=\"sk-toggleable__label sk-toggleable__label-arrow\">RandomForestClassifier</label><div class=\"sk-toggleable__content\"><pre>RandomForestClassifier(max_depth=30)</pre></div></div></div></div></div>"
      ],
      "text/plain": [
       "RandomForestClassifier(max_depth=30)"
      ]
     },
     "execution_count": 111,
     "metadata": {},
     "output_type": "execute_result"
    }
   ],
   "source": [
    "# rf_best_params = {'max_depth': 30, 'n_estimators': 100}\n",
    "\n",
    "rf.set_params(**search_rf.best_params_)\n",
    "# rf.set_params(**rf_best_params)"
   ]
  },
  {
   "cell_type": "markdown",
   "id": "71db1ca0-09d0-4658-92ab-745749413359",
   "metadata": {},
   "source": [
    "По результатам экспериментов удаляем наименее значимый признак - Hashed_deal_detail_1."
   ]
  },
  {
   "cell_type": "code",
   "execution_count": 112,
   "id": "6e7d33d1-3d1a-4466-8b4a-4bbd9a905b8b",
   "metadata": {},
   "outputs": [],
   "source": [
    "xx_train = xx_train.drop(['Hashed_deal_detail_1'], axis=1)\n",
    "xx_test = xx_test.drop(['Hashed_deal_detail_1'], axis=1)"
   ]
  },
  {
   "cell_type": "code",
   "execution_count": 113,
   "id": "de5d0305-f976-414f-b1e5-3886ff37f747",
   "metadata": {},
   "outputs": [],
   "source": [
    "X_train = X_train.drop(['Hashed_deal_detail_1'], axis=1)\n",
    "X_test = X_test.drop(['Hashed_deal_detail_1'], axis=1)"
   ]
  },
  {
   "cell_type": "code",
   "execution_count": 114,
   "id": "0113666b-52b7-4946-a49c-6d11bb60124e",
   "metadata": {},
   "outputs": [
    {
     "data": {
      "text/html": [
       "<style>#sk-container-id-10 {color: black;background-color: white;}#sk-container-id-10 pre{padding: 0;}#sk-container-id-10 div.sk-toggleable {background-color: white;}#sk-container-id-10 label.sk-toggleable__label {cursor: pointer;display: block;width: 100%;margin-bottom: 0;padding: 0.3em;box-sizing: border-box;text-align: center;}#sk-container-id-10 label.sk-toggleable__label-arrow:before {content: \"▸\";float: left;margin-right: 0.25em;color: #696969;}#sk-container-id-10 label.sk-toggleable__label-arrow:hover:before {color: black;}#sk-container-id-10 div.sk-estimator:hover label.sk-toggleable__label-arrow:before {color: black;}#sk-container-id-10 div.sk-toggleable__content {max-height: 0;max-width: 0;overflow: hidden;text-align: left;background-color: #f0f8ff;}#sk-container-id-10 div.sk-toggleable__content pre {margin: 0.2em;color: black;border-radius: 0.25em;background-color: #f0f8ff;}#sk-container-id-10 input.sk-toggleable__control:checked~div.sk-toggleable__content {max-height: 200px;max-width: 100%;overflow: auto;}#sk-container-id-10 input.sk-toggleable__control:checked~label.sk-toggleable__label-arrow:before {content: \"▾\";}#sk-container-id-10 div.sk-estimator input.sk-toggleable__control:checked~label.sk-toggleable__label {background-color: #d4ebff;}#sk-container-id-10 div.sk-label input.sk-toggleable__control:checked~label.sk-toggleable__label {background-color: #d4ebff;}#sk-container-id-10 input.sk-hidden--visually {border: 0;clip: rect(1px 1px 1px 1px);clip: rect(1px, 1px, 1px, 1px);height: 1px;margin: -1px;overflow: hidden;padding: 0;position: absolute;width: 1px;}#sk-container-id-10 div.sk-estimator {font-family: monospace;background-color: #f0f8ff;border: 1px dotted black;border-radius: 0.25em;box-sizing: border-box;margin-bottom: 0.5em;}#sk-container-id-10 div.sk-estimator:hover {background-color: #d4ebff;}#sk-container-id-10 div.sk-parallel-item::after {content: \"\";width: 100%;border-bottom: 1px solid gray;flex-grow: 1;}#sk-container-id-10 div.sk-label:hover label.sk-toggleable__label {background-color: #d4ebff;}#sk-container-id-10 div.sk-serial::before {content: \"\";position: absolute;border-left: 1px solid gray;box-sizing: border-box;top: 0;bottom: 0;left: 50%;z-index: 0;}#sk-container-id-10 div.sk-serial {display: flex;flex-direction: column;align-items: center;background-color: white;padding-right: 0.2em;padding-left: 0.2em;position: relative;}#sk-container-id-10 div.sk-item {position: relative;z-index: 1;}#sk-container-id-10 div.sk-parallel {display: flex;align-items: stretch;justify-content: center;background-color: white;position: relative;}#sk-container-id-10 div.sk-item::before, #sk-container-id-10 div.sk-parallel-item::before {content: \"\";position: absolute;border-left: 1px solid gray;box-sizing: border-box;top: 0;bottom: 0;left: 50%;z-index: -1;}#sk-container-id-10 div.sk-parallel-item {display: flex;flex-direction: column;z-index: 1;position: relative;background-color: white;}#sk-container-id-10 div.sk-parallel-item:first-child::after {align-self: flex-end;width: 50%;}#sk-container-id-10 div.sk-parallel-item:last-child::after {align-self: flex-start;width: 50%;}#sk-container-id-10 div.sk-parallel-item:only-child::after {width: 0;}#sk-container-id-10 div.sk-dashed-wrapped {border: 1px dashed gray;margin: 0 0.4em 0.5em 0.4em;box-sizing: border-box;padding-bottom: 0.4em;background-color: white;}#sk-container-id-10 div.sk-label label {font-family: monospace;font-weight: bold;display: inline-block;line-height: 1.2em;}#sk-container-id-10 div.sk-label-container {text-align: center;}#sk-container-id-10 div.sk-container {/* jupyter's `normalize.less` sets `[hidden] { display: none; }` but bootstrap.min.css set `[hidden] { display: none !important; }` so we also need the `!important` here to be able to override the default hidden behavior on the sphinx rendered scikit-learn.org. See: https://github.com/scikit-learn/scikit-learn/issues/21755 */display: inline-block !important;position: relative;}#sk-container-id-10 div.sk-text-repr-fallback {display: none;}</style><div id=\"sk-container-id-10\" class=\"sk-top-container\"><div class=\"sk-text-repr-fallback\"><pre>RandomForestClassifier(max_depth=30)</pre><b>In a Jupyter environment, please rerun this cell to show the HTML representation or trust the notebook. <br />On GitHub, the HTML representation is unable to render, please try loading this page with nbviewer.org.</b></div><div class=\"sk-container\" hidden><div class=\"sk-item\"><div class=\"sk-estimator sk-toggleable\"><input class=\"sk-toggleable__control sk-hidden--visually\" id=\"sk-estimator-id-16\" type=\"checkbox\" checked><label for=\"sk-estimator-id-16\" class=\"sk-toggleable__label sk-toggleable__label-arrow\">RandomForestClassifier</label><div class=\"sk-toggleable__content\"><pre>RandomForestClassifier(max_depth=30)</pre></div></div></div></div></div>"
      ],
      "text/plain": [
       "RandomForestClassifier(max_depth=30)"
      ]
     },
     "execution_count": 114,
     "metadata": {},
     "output_type": "execute_result"
    }
   ],
   "source": [
    "rf.fit(xx_train, yy_train)"
   ]
  },
  {
   "cell_type": "code",
   "execution_count": 115,
   "id": "609de9f4-fd4f-4668-acd6-ce3ddc742b64",
   "metadata": {},
   "outputs": [
    {
     "name": "stdout",
     "output_type": "stream",
     "text": [
      "Accuracy на тренировочной выборке составило 1.0\n",
      "Accuracy на тестовой выборке составило 0.886\n"
     ]
    }
   ],
   "source": [
    "train_preds = rf.predict(xx_train) \n",
    "train_accuracy = np.mean(train_preds == yy_train.values)\n",
    "\n",
    "test_preds = rf.predict(xx_test) \n",
    "test_accuracy = np.mean(test_preds == yy_test.values)\n",
    "\n",
    "print(f\"Accuracy на тренировочной выборке составило \\\n",
    "{np.round(train_accuracy, decimals=3)}\")\n",
    "print(f\"Accuracy на тестовой выборке составило \\\n",
    "{np.round(test_accuracy, decimals=3)}\")"
   ]
  },
  {
   "cell_type": "markdown",
   "id": "bccb2fbe-e62c-43ca-ab73-3481e997aea0",
   "metadata": {},
   "source": [
    "Выведем важность признаков:"
   ]
  },
  {
   "cell_type": "code",
   "execution_count": 116,
   "id": "fc5da1ff-a094-47bb-a935-da611dad2c15",
   "metadata": {},
   "outputs": [
    {
     "data": {
      "text/plain": [
       "deal_duration             0.162375\n",
       "default_duration          0.159307\n",
       "Age                       0.146344\n",
       "deal_month                0.081557\n",
       "deal_weekday              0.074390\n",
       "Hashed_deal_detail_3      0.068950\n",
       "Shop                      0.056265\n",
       "Successful_deals_count    0.035874\n",
       "Hashed_deal_detail_2      0.024828\n",
       "Region_Shop_district_3    0.023424\n",
       "Hashed_deal_detail_4      0.022957\n",
       "Secret_user_info_2        0.021324\n",
       "Gender_Male               0.019796\n",
       "Secret_user_info_1        0.018015\n",
       "Region_Shop_district_4    0.017589\n",
       "Secret_user_info_3        0.014827\n",
       "Region_Shop_district_6    0.013097\n",
       "Region_Shop_district_2    0.011913\n",
       "Region_Shop_district_5    0.010444\n",
       "Region_Shop_district_1    0.008994\n",
       "Region_Shop_district_7    0.004276\n",
       "Hashed_deal_detail_5      0.003454\n",
       "dtype: float64"
      ]
     },
     "execution_count": 116,
     "metadata": {},
     "output_type": "execute_result"
    }
   ],
   "source": [
    "feature_scores = pd.Series(rf.feature_importances_,\n",
    "                           index=X_train.columns).sort_values(ascending=False)\n",
    "feature_scores"
   ]
  },
  {
   "cell_type": "markdown",
   "id": "b1743d8c-ca4e-4930-a72f-36933a7064b1",
   "metadata": {},
   "source": [
    "Построим диаграмму важности признаков."
   ]
  },
  {
   "cell_type": "code",
   "execution_count": 117,
   "id": "9de873a8-073e-42ae-befd-197a69ce0dbc",
   "metadata": {},
   "outputs": [
    {
     "data": {
      "image/png": "[encoded data removed]",
      "text/plain": [
       "<Figure size 720x576 with 1 Axes>"
      ]
     },
     "metadata": {
      "needs_background": "light"
     },
     "output_type": "display_data"
    }
   ],
   "source": [
    "import matplotlib.pyplot as plt\n",
    "import seaborn as sns\n",
    "\n",
    "fi_df = pd.DataFrame({'feature_names': X_train.columns,\n",
    "                      'feature_importance': rf.feature_importances_})\n",
    "\n",
    "plt.figure(figsize=(10,8))\n",
    "sns.barplot(x='feature_importance', y='feature_names', \n",
    "            data=fi_df.sort_values('feature_importance', ascending=False))\n",
    "plt.title('Model feature importance');"
   ]
  },
  {
   "cell_type": "markdown",
   "id": "1dfa006c-f53e-4019-af88-b7abf150f32b",
   "metadata": {},
   "source": [
    "Можем отметить, что максимальное влияние на обучение модели имеют признаки, полученные из дат различных событий в исходной выборке, а также возраст клиента."
   ]
  },
  {
   "cell_type": "code",
   "execution_count": 118,
   "id": "b057db78-176c-4b0c-8c8f-37a19a0aebd4",
   "metadata": {},
   "outputs": [],
   "source": [
    "y_pred = rf.predict_proba(X_test)[:,1]"
   ]
  },
  {
   "cell_type": "code",
   "execution_count": 119,
   "id": "051ec02e-56dc-46c5-b077-87672bbe2ed5",
   "metadata": {},
   "outputs": [
    {
     "data": {
      "text/plain": [
       "(0.0, 0.13020222446916077, 0.77)"
      ]
     },
     "execution_count": 119,
     "metadata": {},
     "output_type": "execute_result"
    }
   ],
   "source": [
    "y_pred.min(), y_pred.mean(), y_pred.max()"
   ]
  },
  {
   "cell_type": "markdown",
   "id": "909b93d9-0b51-4278-bd4a-0e0ba77f82ca",
   "metadata": {},
   "source": [
    "Записываем в файл результаты модели."
   ]
  },
  {
   "cell_type": "code",
   "execution_count": 120,
   "id": "2495fb6c-5a64-41ba-a2f5-827e7a25a66e",
   "metadata": {
    "tags": []
   },
   "outputs": [],
   "source": [
    "# result_rf.to_csv('prediction_rf.csv')"
   ]
  },
  {
   "cell_type": "markdown",
   "id": "5ddc6beb-16f7-4542-baf3-9e3711485852",
   "metadata": {},
   "source": [
    "***5) CatBoost***"
   ]
  },
  {
   "cell_type": "code",
   "execution_count": 121,
   "id": "558828c6-3204-40a5-84b1-349405025d62",
   "metadata": {},
   "outputs": [],
   "source": [
    "from catboost import CatBoostClassifier"
   ]
  },
  {
   "cell_type": "code",
   "execution_count": 122,
   "id": "1f09f716-aa68-499a-959e-23b9fc27b01e",
   "metadata": {},
   "outputs": [],
   "source": [
    "catboost = CatBoostClassifier(verbose=0)"
   ]
  },
  {
   "cell_type": "markdown",
   "id": "016f36cb-6a44-4ee7-b934-bdea58817778",
   "metadata": {},
   "source": [
    "Найдем лучшие гиперпараметры для CatBoostClassifier."
   ]
  },
  {
   "cell_type": "code",
   "execution_count": 123,
   "id": "ea43495b-d0f8-4f40-a57d-78d7f03d1125",
   "metadata": {},
   "outputs": [
    {
     "ename": "IndexError",
     "evalue": "indices are out-of-bounds",
     "output_type": "error",
     "traceback": [
      "\u001b[0;31m---------------------------------------------------------------------------\u001b[0m",
      "\u001b[0;31mIndexError\u001b[0m                                Traceback (most recent call last)",
      "Input \u001b[0;32mIn [123]\u001b[0m, in \u001b[0;36m<module>\u001b[0;34m\u001b[0m\n\u001b[1;32m      1\u001b[0m cb_parameters_grid \u001b[38;5;241m=\u001b[39m {\u001b[38;5;124m'\u001b[39m\u001b[38;5;124mdepth\u001b[39m\u001b[38;5;124m'\u001b[39m:[\u001b[38;5;241m3\u001b[39m, \u001b[38;5;241m7\u001b[39m, \u001b[38;5;241m11\u001b[39m], \u001b[38;5;124m'\u001b[39m\u001b[38;5;124miterations\u001b[39m\u001b[38;5;124m'\u001b[39m:[\u001b[38;5;241m100\u001b[39m, \u001b[38;5;241m500\u001b[39m, \u001b[38;5;241m1000\u001b[39m],\n\u001b[1;32m      2\u001b[0m                       \u001b[38;5;124m'\u001b[39m\u001b[38;5;124mlearning_rate\u001b[39m\u001b[38;5;124m'\u001b[39m:[\u001b[38;5;241m0.01\u001b[39m, \u001b[38;5;241m0.1\u001b[39m, \u001b[38;5;241m0.2\u001b[39m],\n\u001b[1;32m      3\u001b[0m                       \u001b[38;5;124m'\u001b[39m\u001b[38;5;124ml2_leaf_reg\u001b[39m\u001b[38;5;124m'\u001b[39m:[\u001b[38;5;241m1\u001b[39m,\u001b[38;5;241m3\u001b[39m,\u001b[38;5;241m5\u001b[39m]}\n\u001b[1;32m      5\u001b[0m search_cb \u001b[38;5;241m=\u001b[39m GridSearchCV(\n\u001b[1;32m      6\u001b[0m     catboost,\n\u001b[1;32m      7\u001b[0m     cb_parameters_grid,\n\u001b[0;32m   (...)\u001b[0m\n\u001b[1;32m     10\u001b[0m     return_train_score\u001b[38;5;241m=\u001b[39m\u001b[38;5;28;01mTrue\u001b[39;00m\n\u001b[1;32m     11\u001b[0m )\n\u001b[0;32m---> 13\u001b[0m \u001b[43msearch_cb\u001b[49m\u001b[38;5;241;43m.\u001b[39;49m\u001b[43mfit\u001b[49m\u001b[43m(\u001b[49m\u001b[43mxx_train\u001b[49m\u001b[43m,\u001b[49m\u001b[43m \u001b[49m\u001b[43myy_train\u001b[49m\u001b[43m)\u001b[49m\n",
      "File \u001b[0;32m/opt/conda/lib/python3.8/site-packages/sklearn/model_selection/_search.py:875\u001b[0m, in \u001b[0;36mBaseSearchCV.fit\u001b[0;34m(self, X, y, groups, **fit_params)\u001b[0m\n\u001b[1;32m    869\u001b[0m     results \u001b[38;5;241m=\u001b[39m \u001b[38;5;28mself\u001b[39m\u001b[38;5;241m.\u001b[39m_format_results(\n\u001b[1;32m    870\u001b[0m         all_candidate_params, n_splits, all_out, all_more_results\n\u001b[1;32m    871\u001b[0m     )\n\u001b[1;32m    873\u001b[0m     \u001b[38;5;28;01mreturn\u001b[39;00m results\n\u001b[0;32m--> 875\u001b[0m \u001b[38;5;28;43mself\u001b[39;49m\u001b[38;5;241;43m.\u001b[39;49m\u001b[43m_run_search\u001b[49m\u001b[43m(\u001b[49m\u001b[43mevaluate_candidates\u001b[49m\u001b[43m)\u001b[49m\n\u001b[1;32m    877\u001b[0m \u001b[38;5;66;03m# multimetric is determined here because in the case of a callable\u001b[39;00m\n\u001b[1;32m    878\u001b[0m \u001b[38;5;66;03m# self.scoring the return type is only known after calling\u001b[39;00m\n\u001b[1;32m    879\u001b[0m first_test_score \u001b[38;5;241m=\u001b[39m all_out[\u001b[38;5;241m0\u001b[39m][\u001b[38;5;124m\"\u001b[39m\u001b[38;5;124mtest_scores\u001b[39m\u001b[38;5;124m\"\u001b[39m]\n",
      "File \u001b[0;32m/opt/conda/lib/python3.8/site-packages/sklearn/model_selection/_search.py:1375\u001b[0m, in \u001b[0;36mGridSearchCV._run_search\u001b[0;34m(self, evaluate_candidates)\u001b[0m\n\u001b[1;32m   1373\u001b[0m \u001b[38;5;28;01mdef\u001b[39;00m \u001b[38;5;21m_run_search\u001b[39m(\u001b[38;5;28mself\u001b[39m, evaluate_candidates):\n\u001b[1;32m   1374\u001b[0m     \u001b[38;5;124;03m\"\"\"Search all candidates in param_grid\"\"\"\u001b[39;00m\n\u001b[0;32m-> 1375\u001b[0m     \u001b[43mevaluate_candidates\u001b[49m\u001b[43m(\u001b[49m\u001b[43mParameterGrid\u001b[49m\u001b[43m(\u001b[49m\u001b[38;5;28;43mself\u001b[39;49m\u001b[38;5;241;43m.\u001b[39;49m\u001b[43mparam_grid\u001b[49m\u001b[43m)\u001b[49m\u001b[43m)\u001b[49m\n",
      "File \u001b[0;32m/opt/conda/lib/python3.8/site-packages/sklearn/model_selection/_search.py:822\u001b[0m, in \u001b[0;36mBaseSearchCV.fit.<locals>.evaluate_candidates\u001b[0;34m(candidate_params, cv, more_results)\u001b[0m\n\u001b[1;32m    814\u001b[0m \u001b[38;5;28;01mif\u001b[39;00m \u001b[38;5;28mself\u001b[39m\u001b[38;5;241m.\u001b[39mverbose \u001b[38;5;241m>\u001b[39m \u001b[38;5;241m0\u001b[39m:\n\u001b[1;32m    815\u001b[0m     \u001b[38;5;28mprint\u001b[39m(\n\u001b[1;32m    816\u001b[0m         \u001b[38;5;124m\"\u001b[39m\u001b[38;5;124mFitting \u001b[39m\u001b[38;5;132;01m{0}\u001b[39;00m\u001b[38;5;124m folds for each of \u001b[39m\u001b[38;5;132;01m{1}\u001b[39;00m\u001b[38;5;124m candidates,\u001b[39m\u001b[38;5;124m\"\u001b[39m\n\u001b[1;32m    817\u001b[0m         \u001b[38;5;124m\"\u001b[39m\u001b[38;5;124m totalling \u001b[39m\u001b[38;5;132;01m{2}\u001b[39;00m\u001b[38;5;124m fits\u001b[39m\u001b[38;5;124m\"\u001b[39m\u001b[38;5;241m.\u001b[39mformat(\n\u001b[1;32m    818\u001b[0m             n_splits, n_candidates, n_candidates \u001b[38;5;241m*\u001b[39m n_splits\n\u001b[1;32m    819\u001b[0m         )\n\u001b[1;32m    820\u001b[0m     )\n\u001b[0;32m--> 822\u001b[0m out \u001b[38;5;241m=\u001b[39m \u001b[43mparallel\u001b[49m\u001b[43m(\u001b[49m\n\u001b[1;32m    823\u001b[0m \u001b[43m    \u001b[49m\u001b[43mdelayed\u001b[49m\u001b[43m(\u001b[49m\u001b[43m_fit_and_score\u001b[49m\u001b[43m)\u001b[49m\u001b[43m(\u001b[49m\n\u001b[1;32m    824\u001b[0m \u001b[43m        \u001b[49m\u001b[43mclone\u001b[49m\u001b[43m(\u001b[49m\u001b[43mbase_estimator\u001b[49m\u001b[43m)\u001b[49m\u001b[43m,\u001b[49m\n\u001b[1;32m    825\u001b[0m \u001b[43m        \u001b[49m\u001b[43mX\u001b[49m\u001b[43m,\u001b[49m\n\u001b[1;32m    826\u001b[0m \u001b[43m        \u001b[49m\u001b[43my\u001b[49m\u001b[43m,\u001b[49m\n\u001b[1;32m    827\u001b[0m \u001b[43m        \u001b[49m\u001b[43mtrain\u001b[49m\u001b[38;5;241;43m=\u001b[39;49m\u001b[43mtrain\u001b[49m\u001b[43m,\u001b[49m\n\u001b[1;32m    828\u001b[0m \u001b[43m        \u001b[49m\u001b[43mtest\u001b[49m\u001b[38;5;241;43m=\u001b[39;49m\u001b[43mtest\u001b[49m\u001b[43m,\u001b[49m\n\u001b[1;32m    829\u001b[0m \u001b[43m        \u001b[49m\u001b[43mparameters\u001b[49m\u001b[38;5;241;43m=\u001b[39;49m\u001b[43mparameters\u001b[49m\u001b[43m,\u001b[49m\n\u001b[1;32m    830\u001b[0m \u001b[43m        \u001b[49m\u001b[43msplit_progress\u001b[49m\u001b[38;5;241;43m=\u001b[39;49m\u001b[43m(\u001b[49m\u001b[43msplit_idx\u001b[49m\u001b[43m,\u001b[49m\u001b[43m \u001b[49m\u001b[43mn_splits\u001b[49m\u001b[43m)\u001b[49m\u001b[43m,\u001b[49m\n\u001b[1;32m    831\u001b[0m \u001b[43m        \u001b[49m\u001b[43mcandidate_progress\u001b[49m\u001b[38;5;241;43m=\u001b[39;49m\u001b[43m(\u001b[49m\u001b[43mcand_idx\u001b[49m\u001b[43m,\u001b[49m\u001b[43m \u001b[49m\u001b[43mn_candidates\u001b[49m\u001b[43m)\u001b[49m\u001b[43m,\u001b[49m\n\u001b[1;32m    832\u001b[0m \u001b[43m        \u001b[49m\u001b[38;5;241;43m*\u001b[39;49m\u001b[38;5;241;43m*\u001b[39;49m\u001b[43mfit_and_score_kwargs\u001b[49m\u001b[43m,\u001b[49m\n\u001b[1;32m    833\u001b[0m \u001b[43m    \u001b[49m\u001b[43m)\u001b[49m\n\u001b[1;32m    834\u001b[0m \u001b[43m    \u001b[49m\u001b[38;5;28;43;01mfor\u001b[39;49;00m\u001b[43m \u001b[49m\u001b[43m(\u001b[49m\u001b[43mcand_idx\u001b[49m\u001b[43m,\u001b[49m\u001b[43m \u001b[49m\u001b[43mparameters\u001b[49m\u001b[43m)\u001b[49m\u001b[43m,\u001b[49m\u001b[43m \u001b[49m\u001b[43m(\u001b[49m\u001b[43msplit_idx\u001b[49m\u001b[43m,\u001b[49m\u001b[43m \u001b[49m\u001b[43m(\u001b[49m\u001b[43mtrain\u001b[49m\u001b[43m,\u001b[49m\u001b[43m \u001b[49m\u001b[43mtest\u001b[49m\u001b[43m)\u001b[49m\u001b[43m)\u001b[49m\u001b[43m \u001b[49m\u001b[38;5;129;43;01min\u001b[39;49;00m\u001b[43m \u001b[49m\u001b[43mproduct\u001b[49m\u001b[43m(\u001b[49m\n\u001b[1;32m    835\u001b[0m \u001b[43m        \u001b[49m\u001b[38;5;28;43menumerate\u001b[39;49m\u001b[43m(\u001b[49m\u001b[43mcandidate_params\u001b[49m\u001b[43m)\u001b[49m\u001b[43m,\u001b[49m\u001b[43m \u001b[49m\u001b[38;5;28;43menumerate\u001b[39;49m\u001b[43m(\u001b[49m\u001b[43mcv\u001b[49m\u001b[38;5;241;43m.\u001b[39;49m\u001b[43msplit\u001b[49m\u001b[43m(\u001b[49m\u001b[43mX\u001b[49m\u001b[43m,\u001b[49m\u001b[43m \u001b[49m\u001b[43my\u001b[49m\u001b[43m,\u001b[49m\u001b[43m \u001b[49m\u001b[43mgroups\u001b[49m\u001b[43m)\u001b[49m\u001b[43m)\u001b[49m\n\u001b[1;32m    836\u001b[0m \u001b[43m    \u001b[49m\u001b[43m)\u001b[49m\n\u001b[1;32m    837\u001b[0m \u001b[43m\u001b[49m\u001b[43m)\u001b[49m\n\u001b[1;32m    839\u001b[0m \u001b[38;5;28;01mif\u001b[39;00m \u001b[38;5;28mlen\u001b[39m(out) \u001b[38;5;241m<\u001b[39m \u001b[38;5;241m1\u001b[39m:\n\u001b[1;32m    840\u001b[0m     \u001b[38;5;28;01mraise\u001b[39;00m \u001b[38;5;167;01mValueError\u001b[39;00m(\n\u001b[1;32m    841\u001b[0m         \u001b[38;5;124m\"\u001b[39m\u001b[38;5;124mNo fits were performed. \u001b[39m\u001b[38;5;124m\"\u001b[39m\n\u001b[1;32m    842\u001b[0m         \u001b[38;5;124m\"\u001b[39m\u001b[38;5;124mWas the CV iterator empty? \u001b[39m\u001b[38;5;124m\"\u001b[39m\n\u001b[1;32m    843\u001b[0m         \u001b[38;5;124m\"\u001b[39m\u001b[38;5;124mWere there no candidates?\u001b[39m\u001b[38;5;124m\"\u001b[39m\n\u001b[1;32m    844\u001b[0m     )\n",
      "File \u001b[0;32m/opt/conda/lib/python3.8/site-packages/joblib/parallel.py:1085\u001b[0m, in \u001b[0;36mParallel.__call__\u001b[0;34m(self, iterable)\u001b[0m\n\u001b[1;32m   1076\u001b[0m \u001b[38;5;28;01mtry\u001b[39;00m:\n\u001b[1;32m   1077\u001b[0m     \u001b[38;5;66;03m# Only set self._iterating to True if at least a batch\u001b[39;00m\n\u001b[1;32m   1078\u001b[0m     \u001b[38;5;66;03m# was dispatched. In particular this covers the edge\u001b[39;00m\n\u001b[0;32m   (...)\u001b[0m\n\u001b[1;32m   1082\u001b[0m     \u001b[38;5;66;03m# was very quick and its callback already dispatched all the\u001b[39;00m\n\u001b[1;32m   1083\u001b[0m     \u001b[38;5;66;03m# remaining jobs.\u001b[39;00m\n\u001b[1;32m   1084\u001b[0m     \u001b[38;5;28mself\u001b[39m\u001b[38;5;241m.\u001b[39m_iterating \u001b[38;5;241m=\u001b[39m \u001b[38;5;28;01mFalse\u001b[39;00m\n\u001b[0;32m-> 1085\u001b[0m     \u001b[38;5;28;01mif\u001b[39;00m \u001b[38;5;28;43mself\u001b[39;49m\u001b[38;5;241;43m.\u001b[39;49m\u001b[43mdispatch_one_batch\u001b[49m\u001b[43m(\u001b[49m\u001b[43miterator\u001b[49m\u001b[43m)\u001b[49m:\n\u001b[1;32m   1086\u001b[0m         \u001b[38;5;28mself\u001b[39m\u001b[38;5;241m.\u001b[39m_iterating \u001b[38;5;241m=\u001b[39m \u001b[38;5;28mself\u001b[39m\u001b[38;5;241m.\u001b[39m_original_iterator \u001b[38;5;129;01mis\u001b[39;00m \u001b[38;5;129;01mnot\u001b[39;00m \u001b[38;5;28;01mNone\u001b[39;00m\n\u001b[1;32m   1088\u001b[0m     \u001b[38;5;28;01mwhile\u001b[39;00m \u001b[38;5;28mself\u001b[39m\u001b[38;5;241m.\u001b[39mdispatch_one_batch(iterator):\n",
      "File \u001b[0;32m/opt/conda/lib/python3.8/site-packages/joblib/parallel.py:901\u001b[0m, in \u001b[0;36mParallel.dispatch_one_batch\u001b[0;34m(self, iterator)\u001b[0m\n\u001b[1;32m    899\u001b[0m     \u001b[38;5;28;01mreturn\u001b[39;00m \u001b[38;5;28;01mFalse\u001b[39;00m\n\u001b[1;32m    900\u001b[0m \u001b[38;5;28;01melse\u001b[39;00m:\n\u001b[0;32m--> 901\u001b[0m     \u001b[38;5;28;43mself\u001b[39;49m\u001b[38;5;241;43m.\u001b[39;49m\u001b[43m_dispatch\u001b[49m\u001b[43m(\u001b[49m\u001b[43mtasks\u001b[49m\u001b[43m)\u001b[49m\n\u001b[1;32m    902\u001b[0m     \u001b[38;5;28;01mreturn\u001b[39;00m \u001b[38;5;28;01mTrue\u001b[39;00m\n",
      "File \u001b[0;32m/opt/conda/lib/python3.8/site-packages/joblib/parallel.py:819\u001b[0m, in \u001b[0;36mParallel._dispatch\u001b[0;34m(self, batch)\u001b[0m\n\u001b[1;32m    817\u001b[0m \u001b[38;5;28;01mwith\u001b[39;00m \u001b[38;5;28mself\u001b[39m\u001b[38;5;241m.\u001b[39m_lock:\n\u001b[1;32m    818\u001b[0m     job_idx \u001b[38;5;241m=\u001b[39m \u001b[38;5;28mlen\u001b[39m(\u001b[38;5;28mself\u001b[39m\u001b[38;5;241m.\u001b[39m_jobs)\n\u001b[0;32m--> 819\u001b[0m     job \u001b[38;5;241m=\u001b[39m \u001b[38;5;28;43mself\u001b[39;49m\u001b[38;5;241;43m.\u001b[39;49m\u001b[43m_backend\u001b[49m\u001b[38;5;241;43m.\u001b[39;49m\u001b[43mapply_async\u001b[49m\u001b[43m(\u001b[49m\u001b[43mbatch\u001b[49m\u001b[43m,\u001b[49m\u001b[43m \u001b[49m\u001b[43mcallback\u001b[49m\u001b[38;5;241;43m=\u001b[39;49m\u001b[43mcb\u001b[49m\u001b[43m)\u001b[49m\n\u001b[1;32m    820\u001b[0m     \u001b[38;5;66;03m# A job can complete so quickly than its callback is\u001b[39;00m\n\u001b[1;32m    821\u001b[0m     \u001b[38;5;66;03m# called before we get here, causing self._jobs to\u001b[39;00m\n\u001b[1;32m    822\u001b[0m     \u001b[38;5;66;03m# grow. To ensure correct results ordering, .insert is\u001b[39;00m\n\u001b[1;32m    823\u001b[0m     \u001b[38;5;66;03m# used (rather than .append) in the following line\u001b[39;00m\n\u001b[1;32m    824\u001b[0m     \u001b[38;5;28mself\u001b[39m\u001b[38;5;241m.\u001b[39m_jobs\u001b[38;5;241m.\u001b[39minsert(job_idx, job)\n",
      "File \u001b[0;32m/opt/conda/lib/python3.8/site-packages/joblib/_parallel_backends.py:208\u001b[0m, in \u001b[0;36mSequentialBackend.apply_async\u001b[0;34m(self, func, callback)\u001b[0m\n\u001b[1;32m    206\u001b[0m \u001b[38;5;28;01mdef\u001b[39;00m \u001b[38;5;21mapply_async\u001b[39m(\u001b[38;5;28mself\u001b[39m, func, callback\u001b[38;5;241m=\u001b[39m\u001b[38;5;28;01mNone\u001b[39;00m):\n\u001b[1;32m    207\u001b[0m     \u001b[38;5;124;03m\"\"\"Schedule a func to be run\"\"\"\u001b[39;00m\n\u001b[0;32m--> 208\u001b[0m     result \u001b[38;5;241m=\u001b[39m \u001b[43mImmediateResult\u001b[49m\u001b[43m(\u001b[49m\u001b[43mfunc\u001b[49m\u001b[43m)\u001b[49m\n\u001b[1;32m    209\u001b[0m     \u001b[38;5;28;01mif\u001b[39;00m callback:\n\u001b[1;32m    210\u001b[0m         callback(result)\n",
      "File \u001b[0;32m/opt/conda/lib/python3.8/site-packages/joblib/_parallel_backends.py:597\u001b[0m, in \u001b[0;36mImmediateResult.__init__\u001b[0;34m(self, batch)\u001b[0m\n\u001b[1;32m    594\u001b[0m \u001b[38;5;28;01mdef\u001b[39;00m \u001b[38;5;21m__init__\u001b[39m(\u001b[38;5;28mself\u001b[39m, batch):\n\u001b[1;32m    595\u001b[0m     \u001b[38;5;66;03m# Don't delay the application, to avoid keeping the input\u001b[39;00m\n\u001b[1;32m    596\u001b[0m     \u001b[38;5;66;03m# arguments in memory\u001b[39;00m\n\u001b[0;32m--> 597\u001b[0m     \u001b[38;5;28mself\u001b[39m\u001b[38;5;241m.\u001b[39mresults \u001b[38;5;241m=\u001b[39m \u001b[43mbatch\u001b[49m\u001b[43m(\u001b[49m\u001b[43m)\u001b[49m\n",
      "File \u001b[0;32m/opt/conda/lib/python3.8/site-packages/joblib/parallel.py:288\u001b[0m, in \u001b[0;36mBatchedCalls.__call__\u001b[0;34m(self)\u001b[0m\n\u001b[1;32m    284\u001b[0m \u001b[38;5;28;01mdef\u001b[39;00m \u001b[38;5;21m__call__\u001b[39m(\u001b[38;5;28mself\u001b[39m):\n\u001b[1;32m    285\u001b[0m     \u001b[38;5;66;03m# Set the default nested backend to self._backend but do not set the\u001b[39;00m\n\u001b[1;32m    286\u001b[0m     \u001b[38;5;66;03m# change the default number of processes to -1\u001b[39;00m\n\u001b[1;32m    287\u001b[0m     \u001b[38;5;28;01mwith\u001b[39;00m parallel_backend(\u001b[38;5;28mself\u001b[39m\u001b[38;5;241m.\u001b[39m_backend, n_jobs\u001b[38;5;241m=\u001b[39m\u001b[38;5;28mself\u001b[39m\u001b[38;5;241m.\u001b[39m_n_jobs):\n\u001b[0;32m--> 288\u001b[0m         \u001b[38;5;28;01mreturn\u001b[39;00m [func(\u001b[38;5;241m*\u001b[39margs, \u001b[38;5;241m*\u001b[39m\u001b[38;5;241m*\u001b[39mkwargs)\n\u001b[1;32m    289\u001b[0m                 \u001b[38;5;28;01mfor\u001b[39;00m func, args, kwargs \u001b[38;5;129;01min\u001b[39;00m \u001b[38;5;28mself\u001b[39m\u001b[38;5;241m.\u001b[39mitems]\n",
      "File \u001b[0;32m/opt/conda/lib/python3.8/site-packages/joblib/parallel.py:288\u001b[0m, in \u001b[0;36m<listcomp>\u001b[0;34m(.0)\u001b[0m\n\u001b[1;32m    284\u001b[0m \u001b[38;5;28;01mdef\u001b[39;00m \u001b[38;5;21m__call__\u001b[39m(\u001b[38;5;28mself\u001b[39m):\n\u001b[1;32m    285\u001b[0m     \u001b[38;5;66;03m# Set the default nested backend to self._backend but do not set the\u001b[39;00m\n\u001b[1;32m    286\u001b[0m     \u001b[38;5;66;03m# change the default number of processes to -1\u001b[39;00m\n\u001b[1;32m    287\u001b[0m     \u001b[38;5;28;01mwith\u001b[39;00m parallel_backend(\u001b[38;5;28mself\u001b[39m\u001b[38;5;241m.\u001b[39m_backend, n_jobs\u001b[38;5;241m=\u001b[39m\u001b[38;5;28mself\u001b[39m\u001b[38;5;241m.\u001b[39m_n_jobs):\n\u001b[0;32m--> 288\u001b[0m         \u001b[38;5;28;01mreturn\u001b[39;00m [\u001b[43mfunc\u001b[49m\u001b[43m(\u001b[49m\u001b[38;5;241;43m*\u001b[39;49m\u001b[43margs\u001b[49m\u001b[43m,\u001b[49m\u001b[43m \u001b[49m\u001b[38;5;241;43m*\u001b[39;49m\u001b[38;5;241;43m*\u001b[39;49m\u001b[43mkwargs\u001b[49m\u001b[43m)\u001b[49m\n\u001b[1;32m    289\u001b[0m                 \u001b[38;5;28;01mfor\u001b[39;00m func, args, kwargs \u001b[38;5;129;01min\u001b[39;00m \u001b[38;5;28mself\u001b[39m\u001b[38;5;241m.\u001b[39mitems]\n",
      "File \u001b[0;32m/opt/conda/lib/python3.8/site-packages/sklearn/utils/fixes.py:117\u001b[0m, in \u001b[0;36m_FuncWrapper.__call__\u001b[0;34m(self, *args, **kwargs)\u001b[0m\n\u001b[1;32m    115\u001b[0m \u001b[38;5;28;01mdef\u001b[39;00m \u001b[38;5;21m__call__\u001b[39m(\u001b[38;5;28mself\u001b[39m, \u001b[38;5;241m*\u001b[39margs, \u001b[38;5;241m*\u001b[39m\u001b[38;5;241m*\u001b[39mkwargs):\n\u001b[1;32m    116\u001b[0m     \u001b[38;5;28;01mwith\u001b[39;00m config_context(\u001b[38;5;241m*\u001b[39m\u001b[38;5;241m*\u001b[39m\u001b[38;5;28mself\u001b[39m\u001b[38;5;241m.\u001b[39mconfig):\n\u001b[0;32m--> 117\u001b[0m         \u001b[38;5;28;01mreturn\u001b[39;00m \u001b[38;5;28;43mself\u001b[39;49m\u001b[38;5;241;43m.\u001b[39;49m\u001b[43mfunction\u001b[49m\u001b[43m(\u001b[49m\u001b[38;5;241;43m*\u001b[39;49m\u001b[43margs\u001b[49m\u001b[43m,\u001b[49m\u001b[43m \u001b[49m\u001b[38;5;241;43m*\u001b[39;49m\u001b[38;5;241;43m*\u001b[39;49m\u001b[43mkwargs\u001b[49m\u001b[43m)\u001b[49m\n",
      "File \u001b[0;32m/opt/conda/lib/python3.8/site-packages/sklearn/model_selection/_validation.py:678\u001b[0m, in \u001b[0;36m_fit_and_score\u001b[0;34m(estimator, X, y, scorer, train, test, verbose, parameters, fit_params, return_train_score, return_parameters, return_n_test_samples, return_times, return_estimator, split_progress, candidate_progress, error_score)\u001b[0m\n\u001b[1;32m    674\u001b[0m     estimator \u001b[38;5;241m=\u001b[39m estimator\u001b[38;5;241m.\u001b[39mset_params(\u001b[38;5;241m*\u001b[39m\u001b[38;5;241m*\u001b[39mcloned_parameters)\n\u001b[1;32m    676\u001b[0m start_time \u001b[38;5;241m=\u001b[39m time\u001b[38;5;241m.\u001b[39mtime()\n\u001b[0;32m--> 678\u001b[0m X_train, y_train \u001b[38;5;241m=\u001b[39m \u001b[43m_safe_split\u001b[49m\u001b[43m(\u001b[49m\u001b[43mestimator\u001b[49m\u001b[43m,\u001b[49m\u001b[43m \u001b[49m\u001b[43mX\u001b[49m\u001b[43m,\u001b[49m\u001b[43m \u001b[49m\u001b[43my\u001b[49m\u001b[43m,\u001b[49m\u001b[43m \u001b[49m\u001b[43mtrain\u001b[49m\u001b[43m)\u001b[49m\n\u001b[1;32m    679\u001b[0m X_test, y_test \u001b[38;5;241m=\u001b[39m _safe_split(estimator, X, y, test, train)\n\u001b[1;32m    681\u001b[0m result \u001b[38;5;241m=\u001b[39m {}\n",
      "File \u001b[0;32m/opt/conda/lib/python3.8/site-packages/sklearn/utils/metaestimators.py:308\u001b[0m, in \u001b[0;36m_safe_split\u001b[0;34m(estimator, X, y, indices, train_indices)\u001b[0m\n\u001b[1;32m    306\u001b[0m         X_subset \u001b[38;5;241m=\u001b[39m X[np\u001b[38;5;241m.\u001b[39mix_(indices, train_indices)]\n\u001b[1;32m    307\u001b[0m \u001b[38;5;28;01melse\u001b[39;00m:\n\u001b[0;32m--> 308\u001b[0m     X_subset \u001b[38;5;241m=\u001b[39m \u001b[43m_safe_indexing\u001b[49m\u001b[43m(\u001b[49m\u001b[43mX\u001b[49m\u001b[43m,\u001b[49m\u001b[43m \u001b[49m\u001b[43mindices\u001b[49m\u001b[43m)\u001b[49m\n\u001b[1;32m    310\u001b[0m \u001b[38;5;28;01mif\u001b[39;00m y \u001b[38;5;129;01mis\u001b[39;00m \u001b[38;5;129;01mnot\u001b[39;00m \u001b[38;5;28;01mNone\u001b[39;00m:\n\u001b[1;32m    311\u001b[0m     y_subset \u001b[38;5;241m=\u001b[39m _safe_indexing(y, indices)\n",
      "File \u001b[0;32m/opt/conda/lib/python3.8/site-packages/sklearn/utils/__init__.py:359\u001b[0m, in \u001b[0;36m_safe_indexing\u001b[0;34m(X, indices, axis)\u001b[0m\n\u001b[1;32m    353\u001b[0m     \u001b[38;5;28;01mraise\u001b[39;00m \u001b[38;5;167;01mValueError\u001b[39;00m(\n\u001b[1;32m    354\u001b[0m         \u001b[38;5;124m\"\u001b[39m\u001b[38;5;124mSpecifying the columns using strings is only supported for \u001b[39m\u001b[38;5;124m\"\u001b[39m\n\u001b[1;32m    355\u001b[0m         \u001b[38;5;124m\"\u001b[39m\u001b[38;5;124mpandas DataFrames\u001b[39m\u001b[38;5;124m\"\u001b[39m\n\u001b[1;32m    356\u001b[0m     )\n\u001b[1;32m    358\u001b[0m \u001b[38;5;28;01mif\u001b[39;00m \u001b[38;5;28mhasattr\u001b[39m(X, \u001b[38;5;124m\"\u001b[39m\u001b[38;5;124miloc\u001b[39m\u001b[38;5;124m\"\u001b[39m):\n\u001b[0;32m--> 359\u001b[0m     \u001b[38;5;28;01mreturn\u001b[39;00m \u001b[43m_pandas_indexing\u001b[49m\u001b[43m(\u001b[49m\u001b[43mX\u001b[49m\u001b[43m,\u001b[49m\u001b[43m \u001b[49m\u001b[43mindices\u001b[49m\u001b[43m,\u001b[49m\u001b[43m \u001b[49m\u001b[43mindices_dtype\u001b[49m\u001b[43m,\u001b[49m\u001b[43m \u001b[49m\u001b[43maxis\u001b[49m\u001b[38;5;241;43m=\u001b[39;49m\u001b[43maxis\u001b[49m\u001b[43m)\u001b[49m\n\u001b[1;32m    360\u001b[0m \u001b[38;5;28;01melif\u001b[39;00m \u001b[38;5;28mhasattr\u001b[39m(X, \u001b[38;5;124m\"\u001b[39m\u001b[38;5;124mshape\u001b[39m\u001b[38;5;124m\"\u001b[39m):\n\u001b[1;32m    361\u001b[0m     \u001b[38;5;28;01mreturn\u001b[39;00m _array_indexing(X, indices, indices_dtype, axis\u001b[38;5;241m=\u001b[39maxis)\n",
      "File \u001b[0;32m/opt/conda/lib/python3.8/site-packages/sklearn/utils/__init__.py:201\u001b[0m, in \u001b[0;36m_pandas_indexing\u001b[0;34m(X, key, key_dtype, axis)\u001b[0m\n\u001b[1;32m    196\u001b[0m     key \u001b[38;5;241m=\u001b[39m \u001b[38;5;28mlist\u001b[39m(key)\n\u001b[1;32m    198\u001b[0m \u001b[38;5;28;01mif\u001b[39;00m key_dtype \u001b[38;5;241m==\u001b[39m \u001b[38;5;124m\"\u001b[39m\u001b[38;5;124mint\u001b[39m\u001b[38;5;124m\"\u001b[39m \u001b[38;5;129;01mand\u001b[39;00m \u001b[38;5;129;01mnot\u001b[39;00m (\u001b[38;5;28misinstance\u001b[39m(key, \u001b[38;5;28mslice\u001b[39m) \u001b[38;5;129;01mor\u001b[39;00m np\u001b[38;5;241m.\u001b[39misscalar(key)):\n\u001b[1;32m    199\u001b[0m     \u001b[38;5;66;03m# using take() instead of iloc[] ensures the return value is a \"proper\"\u001b[39;00m\n\u001b[1;32m    200\u001b[0m     \u001b[38;5;66;03m# copy that will not raise SettingWithCopyWarning\u001b[39;00m\n\u001b[0;32m--> 201\u001b[0m     \u001b[38;5;28;01mreturn\u001b[39;00m \u001b[43mX\u001b[49m\u001b[38;5;241;43m.\u001b[39;49m\u001b[43mtake\u001b[49m\u001b[43m(\u001b[49m\u001b[43mkey\u001b[49m\u001b[43m,\u001b[49m\u001b[43m \u001b[49m\u001b[43maxis\u001b[49m\u001b[38;5;241;43m=\u001b[39;49m\u001b[43maxis\u001b[49m\u001b[43m)\u001b[49m\n\u001b[1;32m    202\u001b[0m \u001b[38;5;28;01melse\u001b[39;00m:\n\u001b[1;32m    203\u001b[0m     \u001b[38;5;66;03m# check whether we should index with loc or iloc\u001b[39;00m\n\u001b[1;32m    204\u001b[0m     indexer \u001b[38;5;241m=\u001b[39m X\u001b[38;5;241m.\u001b[39miloc \u001b[38;5;28;01mif\u001b[39;00m key_dtype \u001b[38;5;241m==\u001b[39m \u001b[38;5;124m\"\u001b[39m\u001b[38;5;124mint\u001b[39m\u001b[38;5;124m\"\u001b[39m \u001b[38;5;28;01melse\u001b[39;00m X\u001b[38;5;241m.\u001b[39mloc\n",
      "File \u001b[0;32m/opt/conda/lib/python3.8/site-packages/pandas/core/generic.py:3703\u001b[0m, in \u001b[0;36mNDFrame.take\u001b[0;34m(self, indices, axis, is_copy, **kwargs)\u001b[0m\n\u001b[1;32m   3699\u001b[0m nv\u001b[38;5;241m.\u001b[39mvalidate_take((), kwargs)\n\u001b[1;32m   3701\u001b[0m \u001b[38;5;28mself\u001b[39m\u001b[38;5;241m.\u001b[39m_consolidate_inplace()\n\u001b[0;32m-> 3703\u001b[0m new_data \u001b[38;5;241m=\u001b[39m \u001b[38;5;28;43mself\u001b[39;49m\u001b[38;5;241;43m.\u001b[39;49m\u001b[43m_mgr\u001b[49m\u001b[38;5;241;43m.\u001b[39;49m\u001b[43mtake\u001b[49m\u001b[43m(\u001b[49m\n\u001b[1;32m   3704\u001b[0m \u001b[43m    \u001b[49m\u001b[43mindices\u001b[49m\u001b[43m,\u001b[49m\u001b[43m \u001b[49m\u001b[43maxis\u001b[49m\u001b[38;5;241;43m=\u001b[39;49m\u001b[38;5;28;43mself\u001b[39;49m\u001b[38;5;241;43m.\u001b[39;49m\u001b[43m_get_block_manager_axis\u001b[49m\u001b[43m(\u001b[49m\u001b[43maxis\u001b[49m\u001b[43m)\u001b[49m\u001b[43m,\u001b[49m\u001b[43m \u001b[49m\u001b[43mverify\u001b[49m\u001b[38;5;241;43m=\u001b[39;49m\u001b[38;5;28;43;01mTrue\u001b[39;49;00m\n\u001b[1;32m   3705\u001b[0m \u001b[43m\u001b[49m\u001b[43m)\u001b[49m\n\u001b[1;32m   3706\u001b[0m \u001b[38;5;28;01mreturn\u001b[39;00m \u001b[38;5;28mself\u001b[39m\u001b[38;5;241m.\u001b[39m_constructor(new_data)\u001b[38;5;241m.\u001b[39m__finalize__(\u001b[38;5;28mself\u001b[39m, method\u001b[38;5;241m=\u001b[39m\u001b[38;5;124m\"\u001b[39m\u001b[38;5;124mtake\u001b[39m\u001b[38;5;124m\"\u001b[39m)\n",
      "File \u001b[0;32m/opt/conda/lib/python3.8/site-packages/pandas/core/internals/managers.py:897\u001b[0m, in \u001b[0;36mBaseBlockManager.take\u001b[0;34m(self, indexer, axis, verify)\u001b[0m\n\u001b[1;32m    890\u001b[0m indexer \u001b[38;5;241m=\u001b[39m (\n\u001b[1;32m    891\u001b[0m     np\u001b[38;5;241m.\u001b[39marange(indexer\u001b[38;5;241m.\u001b[39mstart, indexer\u001b[38;5;241m.\u001b[39mstop, indexer\u001b[38;5;241m.\u001b[39mstep, dtype\u001b[38;5;241m=\u001b[39mnp\u001b[38;5;241m.\u001b[39mintp)\n\u001b[1;32m    892\u001b[0m     \u001b[38;5;28;01mif\u001b[39;00m \u001b[38;5;28misinstance\u001b[39m(indexer, \u001b[38;5;28mslice\u001b[39m)\n\u001b[1;32m    893\u001b[0m     \u001b[38;5;28;01melse\u001b[39;00m np\u001b[38;5;241m.\u001b[39masanyarray(indexer, dtype\u001b[38;5;241m=\u001b[39mnp\u001b[38;5;241m.\u001b[39mintp)\n\u001b[1;32m    894\u001b[0m )\n\u001b[1;32m    896\u001b[0m n \u001b[38;5;241m=\u001b[39m \u001b[38;5;28mself\u001b[39m\u001b[38;5;241m.\u001b[39mshape[axis]\n\u001b[0;32m--> 897\u001b[0m indexer \u001b[38;5;241m=\u001b[39m \u001b[43mmaybe_convert_indices\u001b[49m\u001b[43m(\u001b[49m\u001b[43mindexer\u001b[49m\u001b[43m,\u001b[49m\u001b[43m \u001b[49m\u001b[43mn\u001b[49m\u001b[43m,\u001b[49m\u001b[43m \u001b[49m\u001b[43mverify\u001b[49m\u001b[38;5;241;43m=\u001b[39;49m\u001b[43mverify\u001b[49m\u001b[43m)\u001b[49m\n\u001b[1;32m    899\u001b[0m new_labels \u001b[38;5;241m=\u001b[39m \u001b[38;5;28mself\u001b[39m\u001b[38;5;241m.\u001b[39maxes[axis]\u001b[38;5;241m.\u001b[39mtake(indexer)\n\u001b[1;32m    900\u001b[0m \u001b[38;5;28;01mreturn\u001b[39;00m \u001b[38;5;28mself\u001b[39m\u001b[38;5;241m.\u001b[39mreindex_indexer(\n\u001b[1;32m    901\u001b[0m     new_axis\u001b[38;5;241m=\u001b[39mnew_labels,\n\u001b[1;32m    902\u001b[0m     indexer\u001b[38;5;241m=\u001b[39mindexer,\n\u001b[0;32m   (...)\u001b[0m\n\u001b[1;32m    905\u001b[0m     consolidate\u001b[38;5;241m=\u001b[39m\u001b[38;5;28;01mFalse\u001b[39;00m,\n\u001b[1;32m    906\u001b[0m )\n",
      "File \u001b[0;32m/opt/conda/lib/python3.8/site-packages/pandas/core/indexers/utils.py:292\u001b[0m, in \u001b[0;36mmaybe_convert_indices\u001b[0;34m(indices, n, verify)\u001b[0m\n\u001b[1;32m    290\u001b[0m     mask \u001b[38;5;241m=\u001b[39m (indices \u001b[38;5;241m>\u001b[39m\u001b[38;5;241m=\u001b[39m n) \u001b[38;5;241m|\u001b[39m (indices \u001b[38;5;241m<\u001b[39m \u001b[38;5;241m0\u001b[39m)\n\u001b[1;32m    291\u001b[0m     \u001b[38;5;28;01mif\u001b[39;00m mask\u001b[38;5;241m.\u001b[39many():\n\u001b[0;32m--> 292\u001b[0m         \u001b[38;5;28;01mraise\u001b[39;00m \u001b[38;5;167;01mIndexError\u001b[39;00m(\u001b[38;5;124m\"\u001b[39m\u001b[38;5;124mindices are out-of-bounds\u001b[39m\u001b[38;5;124m\"\u001b[39m)\n\u001b[1;32m    293\u001b[0m \u001b[38;5;28;01mreturn\u001b[39;00m indices\n",
      "\u001b[0;31mIndexError\u001b[0m: indices are out-of-bounds"
     ]
    }
   ],
   "source": [
    "cb_parameters_grid = {'depth':[3, 7, 11], 'iterations':[100, 500, 1000],\n",
    "                      'learning_rate':[0.01, 0.1, 0.2],\n",
    "                      'l2_leaf_reg':[1,3,5]}\n",
    "\n",
    "search_cb = GridSearchCV(\n",
    "    catboost,\n",
    "    cb_parameters_grid,\n",
    "    scoring=\"accuracy\",\n",
    "    cv=custom_cv,\n",
    "    return_train_score=True\n",
    ")\n",
    "\n",
    "search_cb.fit(xx_train, yy_train)"
   ]
  },
  {
   "cell_type": "code",
   "execution_count": null,
   "id": "3d9f956d-a47d-4086-818e-a8e5e3b97245",
   "metadata": {},
   "outputs": [],
   "source": [
    "search_cb.best_params_"
   ]
  },
  {
   "cell_type": "code",
   "execution_count": null,
   "id": "223de1b3-975e-4717-9340-60947b40f63f",
   "metadata": {},
   "outputs": [],
   "source": [
    "catboost_turbo = CatBoostClassifier(verbose=0)\n",
    "catboost_turbo.set_params(**search_cb.best_params_)"
   ]
  },
  {
   "cell_type": "code",
   "execution_count": null,
   "id": "4d6a684c-3fee-46be-8cd8-f77b04a1b59b",
   "metadata": {},
   "outputs": [],
   "source": [
    "catboost_turbo.fit(xx_train, yy_train)"
   ]
  },
  {
   "cell_type": "code",
   "execution_count": null,
   "id": "48877fcf-ade3-4f8c-95da-708dcd401573",
   "metadata": {},
   "outputs": [],
   "source": [
    "train_preds = catboost_turbo.predict(xx_train) \n",
    "train_accuracy = np.mean(train_preds == yy_train.values)\n",
    "\n",
    "test_preds = catboost_turbo.predict(xx_test) \n",
    "test_accuracy = np.mean(test_preds == yy_test.values)\n",
    "\n",
    "print(f\"Accuracy на тренировочной выборке составило \\\n",
    "{np.round(train_accuracy, decimals=3)}\")\n",
    "print(f\"Accuracy на тестовой выборке составило \\\n",
    "{np.round(test_accuracy, decimals=3)}\")"
   ]
  },
  {
   "cell_type": "code",
   "execution_count": null,
   "id": "2c8ec299-ae72-40b3-8603-231cfa4d1c3d",
   "metadata": {},
   "outputs": [],
   "source": [
    "catboost_turbo.get_feature_importance(prettified=True).head(10)"
   ]
  },
  {
   "cell_type": "code",
   "execution_count": null,
   "id": "9a716125-5fcf-4a30-93f3-2d0cd34210d4",
   "metadata": {
    "tags": []
   },
   "outputs": [],
   "source": [
    "y_pred3 = catboost_turbo.predict_proba(X_test)[:,1]"
   ]
  },
  {
   "cell_type": "code",
   "execution_count": null,
   "id": "4389a9a7-1e44-4fe8-be87-50ad788aeb26",
   "metadata": {},
   "outputs": [],
   "source": [
    "y_pred3.min(), y_pred3.mean(), y_pred3.max()"
   ]
  }
 ],
 "metadata": {
  "kernelspec": {
   "display_name": "Python 3 (ipykernel)",
   "language": "python",
   "name": "python3"
  },
  "language_info": {
   "codemirror_mode": {
    "name": "ipython",
    "version": 3
   },
   "file_extension": ".py",
   "mimetype": "text/x-python",
   "name": "python",
   "nbconvert_exporter": "python",
   "pygments_lexer": "ipython3",
   "version": "3.8.10"
  }
 },
 "nbformat": 4,
 "nbformat_minor": 5
}
